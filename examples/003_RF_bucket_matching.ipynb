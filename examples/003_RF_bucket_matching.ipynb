{
 "cells": [
  {
   "cell_type": "markdown",
   "metadata": {},
   "source": [
    "# Hamilton equation of motion\n",
    "\n",
    "***\n",
    "\n",
    "- Principle of least action\n",
    "- Fundamentalize Hamiltonian with Hamilton equations of motion\n",
    "- Poisson bracket\n",
    "- Stationary states\n",
    "\n",
    "The Hamilton equations of motion derive from a yet more fundamental law of physics -- the principle of least action. This states that a trajectory is physical if and only of it minimizes the action.\n",
    "\n",
    "The action is given general in string theory as\n",
    "\n",
    "$$\n",
    "S = -\\frac{1}{2\\pi\\alpha'} \\underbrace{\\int d\\Sigma}_\\textrm{world-sheet area} =\n",
    "    -\\frac{1}{2\\pi\\alpha'} \\int d\\sigma^2\\sqrt{\n",
    "    -\\det \\frac{\\partial X^\\mu}{\\partial \\sigma_\\alpha}\\frac{\\partial X^\\nu}{\\partial \\sigma_\\beta} \\eta_{\\mu\\nu}}\n",
    "$$\n",
    "\n",
    "or more commonly in classical mechanics as\n",
    "\n",
    "$$\n",
    "S = -m \\underbrace{\\int d\\Lambda}_\\textrm{world-line length} = \n",
    "    -m \\int d\\tau\\sqrt{-\\dot{X}^\\mu\\dot{X}^\\nu \\eta_{\\mu\\nu}}\n",
    "$$\n",
    "\n",
    "The principle of least action requires that\n",
    "$$\\delta S = 0$$\n",
    "\n",
    "By means of the action we can extract the Lagriangian. Appyling the priciple of least action we obtain the Lagrange equations of motion. We will not embark into these further. Instead, we will proceed directly in applying a Legendre transform to the Lagrangian in order to obtain a set of truly independent canonically conjugate variables. The Legendre transformation will yield the Hamiltonian which will be a function of these conanically conjugate variables -- the generalized coordinates and their canonically conjugate momenta. Applying, again, the principle of least action we finally obtain the Hamilton equations of motion. These exhibit the symplectic structure of classical mechanics.\n",
    "\n",
    "Instead of originating from the principle of least action, one can instead just postulate the symplectic structure of classical mechanics and the Hamilton equation so motion. One can then invent any Hamiltonian and derive the phycial equations of motion. The coordinates my be akward, though. If we denote the space of generalized coordnates $q$ and canonically conjugate momenta $p$ as $\\Gamma$, such that\n",
    "\n",
    "$$\n",
    "\\begin{pmatrix}\n",
    "q\\\\p\n",
    "\\end{pmatrix} \\in \\Gamma \\subset \\mathbb{R}^{2n},\n",
    "$$\n",
    "\n",
    "we can formally write down the Hamiltonian and the Hamilton equations of motion\n",
    "\n",
    "$$\n",
    "H \\in f: \\Gamma\\rightarrow\\mathbb{R},\\quad H = H(p,q;t),\\quad \\dot{q}\n",
    "    = \\frac{\\partial H}{\\partial p},\\quad \\dot{p} = -\\frac{\\partial H}{\\partial q}\n",
    "$$\n",
    "\n",
    "We can now study the time evoultion of a function F(q,p;t)\n",
    "$$\n",
    "\\begin{equation}\n",
    "\\begin{aligned}\n",
    "\\frac{d}{dt} F &= \\frac{\\partial F}{\\partial q}\\dot{q} + \\frac{\\partial F}{\\partial p}\\dot{p} + \\frac{\\partial F}{\\partial t}\\\\\n",
    "    &= \\frac{\\partial F}{\\partial q}\\frac{\\partial H}{\\partial p}\n",
    "     - \\frac{\\partial F}{\\partial p}\\frac{\\partial H}{\\partial p} + \\frac{\\partial F}{\\partial t}\n",
    "\\end{aligned}\n",
    "\\end{equation}\n",
    "$$"
   ]
  },
  {
   "cell_type": "code",
   "execution_count": 136,
   "metadata": {
    "collapsed": false
   },
   "outputs": [
    {
     "name": "stdout",
     "output_type": "stream",
     "text": [
      "IPython console for SymPy 1.0 (Python 2.7.9-64-bit) (ground types: python)\n",
      "\n",
      "These commands were executed:\n",
      ">>> from __future__ import division\n",
      ">>> from sympy import *\n",
      ">>> x, y, z, t = symbols('x y z t')\n",
      ">>> k, m, n = symbols('k m n', integer=True)\n",
      ">>> f, g, h = symbols('f g h', cls=Function)\n",
      ">>> init_printing()\n",
      "\n",
      "Documentation can be found at http://docs.sympy.org/1.0/\n"
     ]
    }
   ],
   "source": [
    "from sympy import pi\n",
    "from sympy import init_session, init_printing\n",
    "from sympy.integrals.trigonometry import trigintegrate\n",
    "\n",
    "init_session()\n",
    "init_printing()"
   ]
  },
  {
   "cell_type": "code",
   "execution_count": 164,
   "metadata": {
    "collapsed": true
   },
   "outputs": [],
   "source": [
    "C, R, E, V                = symbols('C, R, E, V', real=True, positive=True)\n",
    "c, e, pi, zs, zu          = symbols('c, e, pi, z_s, z_u', real=True, positive=True)\n",
    "h, p0                     = symbols('h, p_0', real=True, positive=True)\n",
    "alpha, beta, gamma, eta   = symbols('alpha beta gamma eta', real=True, positive=True)\n",
    "z, delta                  = symbols('z, delta', real=True, positive=True)"
   ]
  },
  {
   "cell_type": "code",
   "execution_count": 173,
   "metadata": {
    "collapsed": false
   },
   "outputs": [],
   "source": [
    "def Vf(z):\n",
    "    return e*V * (\n",
    "        R/h*cos(h*z/R) - R/h*cos(h*zs/R) + (z-zs)*sin(h*z/R))\n",
    "\n",
    "def Hf(Vf):\n",
    "    def f(z, delta):\n",
    "        return (-1/2 * eta*beta*c*delta**2 + Vf(z))\n",
    "    return f"
   ]
  },
  {
   "cell_type": "code",
   "execution_count": 175,
   "metadata": {
    "collapsed": false
   },
   "outputs": [
    {
     "data": {
      "text/latex": [
       "$$\\frac{V e h}{2 R} \\left(z - z_{s}\\right)^{2} \\cos{\\left (\\frac{h z_{s}}{R} \\right )} - 0.5 \\beta c \\delta^{2} \\eta + \\mathcal{O}\\left(\\left(z - z_{s}\\right)^{3}; z\\rightarrowz_{s}\\right)$$"
      ],
      "text/plain": [
       "               2    ⎛h⋅z_s⎞                                        \n",
       "V⋅e⋅h⋅(z - z_s) ⋅cos⎜─────⎟                                        \n",
       "                    ⎝  R  ⎠            2      ⎛         3         ⎞\n",
       "─────────────────────────── - 0.5⋅β⋅c⋅δ ⋅η + O⎝(z - z_s) ; z → z_s⎠\n",
       "            2⋅R                                                    "
      ]
     },
     "execution_count": 175,
     "metadata": {},
     "output_type": "execute_result"
    }
   ],
   "source": [
    "H = Hf(Vf)\n",
    "series(H(z, delta), x=z, x0=zs, n=3)"
   ]
  },
  {
   "cell_type": "markdown",
   "metadata": {},
   "source": [
    "## Matching"
   ]
  },
  {
   "cell_type": "code",
   "execution_count": 193,
   "metadata": {
    "collapsed": false
   },
   "outputs": [],
   "source": [
    "C, R, E, V, H0, Qs        = symbols('C R E V H_0 Q_s', real=True, positive=True)\n",
    "c, e, pi                  = symbols('c e pi', real=True, positive=True)\n",
    "h, p0, phis               = symbols('h p_0 phi_s', real=True, positive=True)\n",
    "alpha, beta, gamma, eta   = symbols('alpha beta gamma eta', real=True, positive=True)\n",
    "z, delta                  = symbols('z, delta', real=True, positive=True)"
   ]
  },
  {
   "cell_type": "code",
   "execution_count": 194,
   "metadata": {
    "collapsed": true
   },
   "outputs": [],
   "source": [
    "def sigma():\n",
    "    return sqrt(\n",
    "        H0 * 2*pi*p0*R**2/(e*V*h*cos(phis)))\n",
    "\n",
    "def eps():\n",
    "    return 4*pi*Qs/(eta*R)*p0*sigma()**2"
   ]
  },
  {
   "cell_type": "code",
   "execution_count": 200,
   "metadata": {
    "collapsed": false
   },
   "outputs": [
    {
     "data": {
      "image/png": "[encoded data removed]",
      "text/latex": [
       "$$\\frac{8 H_{0} Q_{s} R p_{0}^{2} \\pi^{2}}{V e \\eta h \\cos{\\left (\\phi_{s} \\right )}}$$"
      ],
      "text/plain": [
       "             2  2\n",
       "8⋅H₀⋅Q_s⋅R⋅p₀ ⋅π \n",
       "─────────────────\n",
       " V⋅e⋅η⋅h⋅cos(φ_s)"
      ]
     },
     "execution_count": 200,
     "metadata": {},
     "output_type": "execute_result"
    }
   ],
   "source": [
    "collect(eps(), H0)"
   ]
  },
  {
   "cell_type": "markdown",
   "metadata": {},
   "source": [
    "## Beta gammas"
   ]
  },
  {
   "cell_type": "code",
   "execution_count": 21,
   "metadata": {
    "collapsed": false
   },
   "outputs": [
    {
     "data": {
      "image/png": "[encoded data removed]",
      "text/latex": [
       "$$\\left [ - \\frac{\\sqrt{c^{2} m^{2} + p_{0}^{2}}}{c m}, \\quad \\frac{\\sqrt{c^{2} m^{2} + p_{0}^{2}}}{c m}\\right ]$$"
      ],
      "text/plain": [
       "⎡    _____________      _____________⎤\n",
       "⎢   ╱  2  2     2      ╱  2  2     2 ⎥\n",
       "⎢-╲╱  c ⋅m  + p₀     ╲╱  c ⋅m  + p₀  ⎥\n",
       "⎢──────────────────, ────────────────⎥\n",
       "⎣       c⋅m                c⋅m       ⎦"
      ]
     },
     "execution_count": 21,
     "metadata": {},
     "output_type": "execute_result"
    }
   ],
   "source": [
    "def beta(gamma):\n",
    "    return sqrt(1 - gamma**-2)\n",
    "\n",
    "simplify(solve(p0 - m*gamma*beta(gamma)*c, gamma))"
   ]
  },
  {
   "cell_type": "markdown",
   "metadata": {},
   "source": [
    "# NumPy evaluations"
   ]
  },
  {
   "cell_type": "code",
   "execution_count": 24,
   "metadata": {
    "collapsed": false
   },
   "outputs": [],
   "source": [
    "from __future__ import division\n",
    "\n",
    "import numpy as np\n",
    "import matplotlib.pyplot as plt\n",
    "\n",
    "import seaborn as sns\n",
    "\n",
    "from scipy.constants import e, c, m_p\n",
    "\n",
    "import curve_tools as cv"
   ]
  },
  {
   "cell_type": "markdown",
   "metadata": {},
   "source": [
    "## Field and voltage functions"
   ]
  },
  {
   "cell_type": "code",
   "execution_count": 25,
   "metadata": {
    "collapsed": true
   },
   "outputs": [],
   "source": [
    "def get_zsfp_and_zufp(f):\n",
    "\n",
    "    phi_stable = 0\n",
    "    # This does not work as counting will be violated for large accelerations\n",
    "    zz = np.linspace(phi_stable - 1.1*zmax, phi_stable + 1.1*zmax) \n",
    "    # Safer\n",
    "    zz = np.linspace(phi_stable - 1.5*zmax, phi_stable + 1.5*zmax) \n",
    "    z0 = np.atleast_1d(cv.zero_crossings(f, zz))[0]\n",
    "    \n",
    "    z0odd = z0[1::2]\n",
    "    z0even = z0[::2]\n",
    "    \n",
    "    if len(z0) == 1:\n",
    "        return z0, z0\n",
    "    \n",
    "    if eta*dp > 0:\n",
    "        z_sfp, z_ufp = z0odd, z0even\n",
    "    else:\n",
    "        z_sfp, z_ufp = z0even, z0odd\n",
    "        \n",
    "    return z_sfp, z_ufp\n",
    "\n",
    "\n",
    "def zufp_separatrix(f):\n",
    "\n",
    "    z_sfp, z_ufp = get_zsfp_and_zufp(f)\n",
    "    \n",
    "    if eta*dp > 0:\n",
    "        return z_ufp[-1]\n",
    "    else:\n",
    "        return z_ufp[0]\n",
    "    \n",
    "\n",
    "def H0_for_sigma(sigma_z):\n",
    "    return sigma_z * np.sqrt(e*V*h/(2*np.pi*p0*R**2))\n",
    "\n",
    "\n",
    "def H0_for_emittance():\n",
    "    return sigma_z * np.sqrt(e*V*h/(2*np.pi*p0*R**2))"
   ]
  },
  {
   "cell_type": "code",
   "execution_count": 65,
   "metadata": {
    "collapsed": false
   },
   "outputs": [],
   "source": [
    "def efield(V, h, dphi, dp=0):\n",
    "    def f(z):\n",
    "        return e/(p0*C) * reduce(\n",
    "            lambda x, y: x+y, [V[i]*np.sin(h[i]*z/R + dphi[i]) for i in xrange(len(V))]) - dp*beta*c/C\n",
    "    return f\n",
    "\n",
    "def voltage(V, h, dphi, dp=0, ef=None):\n",
    "    def vf(z):\n",
    "        return e/(p0*C) * reduce(\n",
    "            lambda x, y: x+y, [R/h[i] * V[i]*np.cos(h[i]*z/R + dphi[i]) for i in xrange(len(V))])\n",
    "\n",
    "    if dp:\n",
    "        zmax = zufp_separatrix(ef)\n",
    "\n",
    "        def f(z):\n",
    "            return vf(z) - vf(zmax) + dp*beta*c/C * (z - zmax)\n",
    "        return f\n",
    "\n",
    "    else:\n",
    "        return vf\n",
    "\n",
    "def hamiltonian_f(vf):\n",
    "    def f(z, dp):\n",
    "        return -1/2*eta*beta*c*dp**2 + vf(z)\n",
    "    return f\n",
    "\n",
    "def eqH(vf, Hc):\n",
    "    def f(z):\n",
    "        return np.sqrt(( 2./(eta*beta*c) * (vf(z) - Hc)))\n",
    "\n",
    "    return f"
   ]
  },
  {
   "cell_type": "markdown",
   "metadata": {},
   "source": [
    "## Plot & play"
   ]
  },
  {
   "cell_type": "code",
   "execution_count": 66,
   "metadata": {
    "collapsed": true
   },
   "outputs": [],
   "source": [
    "%matplotlib tk"
   ]
  },
  {
   "cell_type": "code",
   "execution_count": 67,
   "metadata": {
    "collapsed": true
   },
   "outputs": [],
   "source": [
    "# Machine\n",
    "C      = 6911.\n",
    "R      = C/(2*np.pi)\n",
    "\n",
    "p0     = 26e9 * e/c\n",
    "gamma  = (1 + (p0/(m_p*c))**2)\n",
    "\n",
    "alpha  = 1/18**2\n",
    "eta    = alpha - 1/gamma**2\n",
    "V      = [4e6, -20e5]\n",
    "h      = [4620, 18480]\n",
    "dphi   = [0, 0]\n",
    "\n",
    "# Acceleration\n",
    "beta          = np.sqrt(1-1/gamma**2)\n",
    "T0            = C/(beta*c)\n",
    "normalisation = 1/C * e/p0 * T0\n",
    "dp            = 2e6 * normalisation"
   ]
  },
  {
   "cell_type": "code",
   "execution_count": 131,
   "metadata": {
    "collapsed": false
   },
   "outputs": [],
   "source": [
    "zmax   = C/min(h)/2.\n",
    "zz = np.linspace(-1.2*zmax, 1.2*zmax, 1000)\n",
    "pp = np.linspace(-5e-3, 5e-3, 1000)\n",
    "ZZ, PP = np.meshgrid(zz, pp)\n",
    "\n",
    "ef = efield(V, h, dphi, dp)\n",
    "vf = voltage(V, h, dphi, dp, ef)\n",
    "hamiltonian = hamiltonian_f(vf)\n",
    "hh = hamiltonian(ZZ, PP)\n",
    "hc = eqH(vf, 0)\n",
    "\n",
    "zsfp, zufp = get_zsfp_and_zufp(ef)\n",
    "z0 = np.array([z for z in zsfp] + [z for z in zufp])"
   ]
  },
  {
   "cell_type": "code",
   "execution_count": 69,
   "metadata": {
    "collapsed": false
   },
   "outputs": [],
   "source": [
    "fig1, (ax1, ax2, ax3) = plt.subplots(3, figsize=(16,14), sharex=True)\n",
    "\n",
    "ax1.plot(zz, ef(zz))\n",
    "ax1.plot(z0, 0*z0, 'o')\n",
    "ax1.axhline(0, c='k', lw=1)\n",
    "[ax1.axvline(z, c='y') for z in z0]\n",
    "ax1.set_ylabel('E [eV/m/p0]')\n",
    "\n",
    "ax2.plot(zz, -vf(zz))\n",
    "ax2.axhline(0, c='k', lw=1)\n",
    "[ax2.axvline(z, c='y') for z in z0]\n",
    "ax2.set_ylabel('-V [eV/p0]')\n",
    "\n",
    "ax3.plot(z0, 0*z0, 'o')\n",
    "ax3.plot(zz, +hc(zz), c='orange', lw=3)\n",
    "ax3.plot(zz, -hc(zz), c='orange', lw=3)\n",
    "ax3.contour(ZZ, PP, hh, 20, cmap=plt.cm.viridis_r)\n",
    "ax3.set_xlabel('z [m]')\n",
    "ax3.set_ylabel('$\\delta$', fontsize=20)\n",
    "\n",
    "plt.show()\n",
    "plt.close('all')\n",
    "\n",
    "# [ax.axhline(0, c='r', ls='--', lw=2) for ax in [ax1, ax2]]\n",
    "# [ax.axvline(p, c=cl, ls='--', lw=2) for p, cl in zip(ap, ac) for ax in [ax1, ax2]]\n",
    "# [ax1.plot(p, Es(p), '*', c=cl, ms=8) for p, cl in zip(ap, ac)]\n",
    "# [ax2.plot(p, -Vs(p), '*', c=cl, ms=8) for p, cl in zip(ap, ac)]\n",
    "# [ax3.plot(p, 0, '*', c=cl, ms=8) for p, cl in zip(ap, ac)]\n",
    "# # [ax3.annotate(t, (p,0), (-40, -70), textcoords='offset points', color=cl, fontsize=22,\n",
    "# #               bbox=dict(boxstyle=\"round\", fc=\"1\"),\n",
    "# #               arrowprops=dict(arrowstyle=\"fancy\",\n",
    "# #                               fc=\"0.6\", ec=\"none\",\n",
    "# #                               connectionstyle=\"angle3,angleA=0,angleB=-90\")) for t, p, cl in zip(at, ap, ac)]\n",
    "# ax3.plot(ap[1], hc(ap[1]), 'x', c='r', ms=8, mew=2)"
   ]
  },
  {
   "cell_type": "code",
   "execution_count": 132,
   "metadata": {
    "collapsed": true
   },
   "outputs": [],
   "source": [
    "def psi_f(H, H0):\n",
    "    def f(x, y):\n",
    "        return np.exp(H(x, y).clip(min=0)/H0)\n",
    "        \n",
    "    return f"
   ]
  },
  {
   "cell_type": "code",
   "execution_count": 133,
   "metadata": {
    "collapsed": true
   },
   "outputs": [],
   "source": [
    "psi = psi_f(hamiltonian, 1e3)\n",
    "ff = psi(ZZ, PP)"
   ]
  },
  {
   "cell_type": "code",
   "execution_count": 135,
   "metadata": {
    "collapsed": false
   },
   "outputs": [],
   "source": [
    "fig1, (ax1, ax2) = plt.subplots(2, figsize=(16,10), sharex=True)\n",
    "\n",
    "ax1.plot(z0, 0*z0, 'o')\n",
    "ax1.contour(ZZ, PP, hh.clip(min=0), 20, cmap=plt.cm.viridis_r)\n",
    "ax1.contour(ZZ, PP, hh.clip(min=0), levels=[0], colors='orange')\n",
    "ax1.set_xlabel('z [m]')\n",
    "ax1.set_ylabel('$\\delta$', fontsize=20)\n",
    "\n",
    "ax2.plot(z0, 0*z0, 'o')\n",
    "ax2.contour(ZZ, PP, ff, 100, cmap=plt.cm.viridis_r)\n",
    "ax2.contour(ZZ, PP, ff, levels=[0], colors='orange')\n",
    "ax2.set_xlabel('z [m]')\n",
    "ax2.set_ylabel('$\\delta$', fontsize=20)\n",
    "ax2.set_xlim(-0.4*zmax, 1.2*zmax)\n",
    "\n",
    "plt.show()"
   ]
  },
  {
   "cell_type": "code",
   "execution_count": 17,
   "metadata": {
    "collapsed": false
   },
   "outputs": [
    {
     "ename": "NameError",
     "evalue": "name 'vx0' is not defined",
     "output_type": "error",
     "traceback": [
      "\u001b[1;31m---------------------------------------------------------------------------\u001b[0m",
      "\u001b[1;31mNameError\u001b[0m                                 Traceback (most recent call last)",
      "\u001b[1;32m<ipython-input-17-1e8a4c831839>\u001b[0m in \u001b[0;36m<module>\u001b[1;34m()\u001b[0m\n\u001b[0;32m      3\u001b[0m \u001b[0mac\u001b[0m \u001b[1;33m=\u001b[0m \u001b[1;33m[\u001b[0m\u001b[1;34m'b'\u001b[0m\u001b[1;33m,\u001b[0m \u001b[1;34m'orange'\u001b[0m\u001b[1;33m,\u001b[0m \u001b[1;34m'b'\u001b[0m\u001b[1;33m]\u001b[0m\u001b[1;33m\u001b[0m\u001b[0m\n\u001b[0;32m      4\u001b[0m \u001b[1;32mtry\u001b[0m\u001b[1;33m:\u001b[0m\u001b[1;33m\u001b[0m\u001b[0m\n\u001b[1;32m----> 5\u001b[1;33m     \u001b[0map\u001b[0m\u001b[1;33m.\u001b[0m\u001b[0mappend\u001b[0m\u001b[1;33m(\u001b[0m\u001b[0mvx0\u001b[0m\u001b[1;33m[\u001b[0m\u001b[1;36m0\u001b[0m\u001b[1;33m]\u001b[0m\u001b[1;33m)\u001b[0m\u001b[1;33m\u001b[0m\u001b[0m\n\u001b[0m\u001b[0;32m      6\u001b[0m \u001b[1;32mexcept\u001b[0m \u001b[0mIndexError\u001b[0m\u001b[1;33m:\u001b[0m\u001b[1;33m\u001b[0m\u001b[0m\n\u001b[0;32m      7\u001b[0m     \u001b[0map\u001b[0m\u001b[1;33m.\u001b[0m\u001b[0mappend\u001b[0m\u001b[1;33m(\u001b[0m\u001b[0mex0\u001b[0m\u001b[1;33m[\u001b[0m\u001b[1;36m0\u001b[0m\u001b[1;33m]\u001b[0m\u001b[1;33m)\u001b[0m\u001b[1;33m\u001b[0m\u001b[0m\n",
      "\u001b[1;31mNameError\u001b[0m: name 'vx0' is not defined"
     ]
    }
   ],
   "source": [
    "ap = []\n",
    "at = ['$z_u$', '$z_s$', '$z_r$']\n",
    "ac = ['b', 'orange', 'b']\n",
    "try:\n",
    "    ap.append(vx0[0])\n",
    "except IndexError:\n",
    "    ap.append(ex0[0])\n",
    "ap.append(zs)\n",
    "ap.append(ex0[-1])\n",
    "ap.append(np.pi-zs)"
   ]
  },
  {
   "cell_type": "code",
   "execution_count": null,
   "metadata": {
    "collapsed": false
   },
   "outputs": [],
   "source": [
    "fig1, (ax1, ax2, ax3) = plt.subplots(3, figsize=(10,10), sharex=True)\n",
    "\n",
    "ax1.plot(zz, ea(zz), 'g', lw=2);\n",
    "ax1.set_ylabel('E [eV/m/p0]')\n",
    "ax1.grid()\n",
    "\n",
    "ax2.plot(zz, -va(zz), 'brown', lw=2);\n",
    "ax2.set_ylabel('-V [eV/p0]')\n",
    "ax2.grid()\n",
    "\n",
    "ax3.contour(ZZ, PP, hh, 40);\n",
    "ax3.contour(ZZ, PP, hh, levels=[0]);\n",
    "ax3.plot(zz, +hc(zz), c='purple', lw=2);\n",
    "ax3.plot(zz, -hc(zz), c='purple', lw=2);\n",
    "ax3.set_xlabel('z [m]')\n",
    "ax3.set_ylabel('$\\delta$', fontsize=20)\n",
    "\n",
    "[ax.axhline(0, c='r', ls='--', lw=2) for ax in [ax1, ax2]]\n",
    "[ax.axvline(p, c=cl, ls='--', lw=2) for p, cl in zip(ap, ac) for ax in [ax1, ax2]]\n",
    "[ax1.plot(p, Es(p), '*', c=cl, ms=8) for p, cl in zip(ap, ac)]\n",
    "[ax2.plot(p, -Vs(p), '*', c=cl, ms=8) for p, cl in zip(ap, ac)]\n",
    "[ax3.plot(p, 0, '*', c=cl, ms=8) for p, cl in zip(ap, ac)]\n",
    "# [ax3.annotate(t, (p,0), (-40, -70), textcoords='offset points', color=cl, fontsize=22,\n",
    "#               bbox=dict(boxstyle=\"round\", fc=\"1\"),\n",
    "#               arrowprops=dict(arrowstyle=\"fancy\",\n",
    "#                               fc=\"0.6\", ec=\"none\",\n",
    "#                               connectionstyle=\"angle3,angleA=0,angleB=-90\")) for t, p, cl in zip(at, ap, ac)]\n",
    "ax3.plot(ap[1], hc(ap[1]), 'x', c='r', ms=8, mew=2)\n",
    "# ax3.annotate(r'$\\delta_{max}$', (ap[1], hc(ap[1])), (50, 25), textcoords='offset points', color='r', fontsize=22,\n",
    "#              bbox=dict(boxstyle=\"round\", fc=\"1\"),\n",
    "#              arrowprops=dict(arrowstyle=\"fancy\",\n",
    "#                              fc=\"0.6\", ec=\"none\",\n",
    "#                              connectionstyle=\"angle3,angleA=0,angleB=-90\"))\n",
    "\n",
    "plt.tight_layout()\n",
    "# plt.savefig('bucket_multiple_accelerating.png', dpi=300)\n",
    "# plt.savefig('bucket_accelerating.png', dpi=200)\n",
    "plt.show()"
   ]
  }
 ],
 "metadata": {
  "kernelspec": {
   "display_name": "Python 2",
   "language": "python",
   "name": "python2"
  },
  "language_info": {
   "codemirror_mode": {
    "name": "ipython",
    "version": 2
   },
   "file_extension": ".py",
   "mimetype": "text/x-python",
   "name": "python",
   "nbconvert_exporter": "python",
   "pygments_lexer": "ipython2",
   "version": "2.7.9"
  }
 },
 "nbformat": 4,
 "nbformat_minor": 0
}

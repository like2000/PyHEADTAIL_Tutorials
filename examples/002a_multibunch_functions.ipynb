{
 "cells": [
  {
   "cell_type": "code",
   "execution_count": 117,
   "metadata": {
    "collapsed": false
   },
   "outputs": [
    {
     "name": "stdout",
     "output_type": "stream",
     "text": [
      "The Cython extension is already loaded. To reload it, use:\n",
      "  %reload_ext Cython\n",
      "The line_profiler extension is already loaded. To reload it, use:\n",
      "  %reload_ext line_profiler\n"
     ]
    }
   ],
   "source": [
    "%load_ext Cython\n",
    "%load_ext line_profiler"
   ]
  },
  {
   "cell_type": "code",
   "execution_count": 118,
   "metadata": {
    "collapsed": false
   },
   "outputs": [],
   "source": [
    "import numpy as np\n",
    "import matplotlib.pyplot as plt\n",
    "from scipy.constants import c, e, m_p\n",
    "from scipy.signal import fftconvolve\n",
    "\n",
    "%matplotlib tk\n",
    "import seaborn as sns\n",
    "sns.set_context('notebook', font_scale=1.5,\n",
    "                rc={'lines.markeredgewidth': 1})\n",
    "sns.set_style('darkgrid', {\n",
    "        'axes.linewidth': 2,\n",
    "        'legend.fancybox': True})"
   ]
  },
  {
   "cell_type": "markdown",
   "metadata": {},
   "source": [
    "## Bunch creation\n",
    "\n",
    "We create a bunch - LHC type. No fancy wrapper function available yet to produce a RF matched distribution. A little tedious because it requires quite some definitions to be done beforehand of the full RF System - but that's due to the nature of the problem.\n",
    "\n",
    "- Some beam kinetic parameters and RF machine parameters"
   ]
  },
  {
   "cell_type": "code",
   "execution_count": 119,
   "metadata": {
    "collapsed": false
   },
   "outputs": [],
   "source": [
    "from PyHEADTAIL.trackers.rf_bucket import RFBucket\n",
    "from PyHEADTAIL.particles.generators import ParticleGenerator, \\\n",
    "    gaussian2D, RF_bucket_distribution, StationaryExponential"
   ]
  },
  {
   "cell_type": "code",
   "execution_count": 120,
   "metadata": {
    "collapsed": false
   },
   "outputs": [
    {
     "name": "stdout",
     "output_type": "stream",
     "text": [
      "479.606062093\n"
     ]
    }
   ],
   "source": [
    "momentum = 450e9 * e/c\n",
    "gamma = np.sqrt((momentum/(m_p*c))**2 + 1)\n",
    "beta = np.sqrt(1 - gamma**-2)\n",
    "\n",
    "circumference = 26658.883\n",
    "alpha = 3.225e-4\n",
    "h1 = 35640\n",
    "V1 = 8e6\n",
    "p_increment = 0 * e/c * circumference/(beta*c)\n",
    "\n",
    "print gamma"
   ]
  },
  {
   "cell_type": "code",
   "execution_count": 121,
   "metadata": {
    "collapsed": false
   },
   "outputs": [],
   "source": [
    "rfbucket = RFBucket(\n",
    "    charge=e, mass=m_p, gamma=gamma,\n",
    "    circumference=circumference,\n",
    "    alpha_array=[alpha], p_increment=0,\n",
    "    harmonic_list=[h1], voltage_list=[V1], phi_offset_list=[0])"
   ]
  },
  {
   "cell_type": "code",
   "execution_count": 122,
   "metadata": {
    "collapsed": true
   },
   "outputs": [],
   "source": [
    "dt = (0, 2.5e-9, 7.5e-9)\n",
    "epsn_z = (0.35, 0.25, 0.1)"
   ]
  },
  {
   "cell_type": "code",
   "execution_count": 123,
   "metadata": {
    "collapsed": false
   },
   "outputs": [
    {
     "name": "stdout",
     "output_type": "stream",
     "text": [
      "*** Maximum RMS emittance 0.888689919173eV s.\n",
      "... distance to target emittance: 2.32e-02\n",
      "... distance to target emittance: 2.34e-02\n",
      "... distance to target emittance: -5.11e-04\n",
      "... distance to target emittance: 1.04e-05\n",
      "--> Emittance: 0.350000004218\n",
      "--> Bunch length:0.0697492609648\n",
      "*** Maximum RMS emittance 0.888689919173eV s.\n",
      "... distance to target emittance: 1.69e-02\n",
      "... distance to target emittance: 1.70e-02\n",
      "... distance to target emittance: -4.02e-05\n",
      "--> Emittance: 0.250000069118\n",
      "--> Bunch length:0.0580813886211\n",
      "*** Maximum RMS emittance 0.888689919173eV s.\n",
      "... distance to target emittance: 2.45e-03\n",
      "... distance to target emittance: 2.57e-03\n",
      "... distance to target emittance: 1.73e-06\n",
      "--> Emittance: 0.100000001214\n",
      "--> Bunch length:0.0359672667212\n"
     ]
    }
   ],
   "source": [
    "bunches = [\n",
    "    ParticleGenerator(\n",
    "        macroparticlenumber=1e5, intensity=1e11,\n",
    "        charge=e, mass=m_p, gamma=gamma,\n",
    "        circumference=26658.883,\n",
    "        distribution_x=gaussian2D(2e-6),\n",
    "        distribution_y=gaussian2D(2e-6),\n",
    "        distribution_z=RF_bucket_distribution(rfbucket, epsn_z=epsn_z[i])\n",
    "    ).generate() for i in xrange(3)]"
   ]
  },
  {
   "cell_type": "code",
   "execution_count": 124,
   "metadata": {
    "collapsed": false
   },
   "outputs": [],
   "source": [
    "for i, b in enumerate(bunches):\n",
    "    b.z -= dt[i] * (b.beta*c)\n",
    "\n",
    "bunch1, bunch2, bunch3 = bunches\n",
    "allbunches = sum(bunches)"
   ]
  },
  {
   "cell_type": "code",
   "execution_count": 125,
   "metadata": {
    "collapsed": false
   },
   "outputs": [],
   "source": [
    "# plt.plot(allbunches.z, allbunches.dp, '.')\n",
    "# plt.xlabel(\"z [m]\")\n",
    "# plt.ylabel(r\"$\\delta$\")\n",
    "# plt.show()"
   ]
  },
  {
   "cell_type": "markdown",
   "metadata": {},
   "source": [
    "## Wakes, slicing, convolution etc."
   ]
  },
  {
   "cell_type": "markdown",
   "metadata": {},
   "source": [
    "The CircularResonator wake is a special resonator wake with Yokoya factors X1=1, Y1=1, X2=0, Y2=0\n",
    "\n",
    "functions transverse and longitudinal are actually meant to be used internally when building the wake kicks - at this point they are concatenated with the respective Yokoya factor being applied/provided. For visualisation we can also build them externally manually."
   ]
  },
  {
   "cell_type": "code",
   "execution_count": 126,
   "metadata": {
    "collapsed": false
   },
   "outputs": [],
   "source": [
    "from PyHEADTAIL.impedances.wakes import CircularResonator, \\\n",
    "    WakeField, check_wake_sampling\n",
    "from PyHEADTAIL.particles.slicing import UniformBinSlicer"
   ]
  },
  {
   "cell_type": "code",
   "execution_count": 127,
   "metadata": {
    "collapsed": false
   },
   "outputs": [
    {
     "name": "stdout",
     "output_type": "stream",
     "text": [
      "*** PyHEADTAIL WARNING! Acceleration not handled properly by this kind of convolution due to changing bunch length!\n",
      "*** PyHEADTAIL WARNING! Acceleration not handled properly by this kind of convolution due to changing bunch length!\n"
     ]
    }
   ],
   "source": [
    "wake = CircularResonator(R_shunt=1e9, frequency=1e9, Q=20)\n",
    "slicer = UniformBinSlicer(60, z_cuts=(-.3, .3))\n",
    "\n",
    "wakefields = WakeField(slicer, wake)\n",
    "kick = wakefields.wake_kicks[0]\n",
    "wf = kick.wake_function\n",
    "\n",
    "slices = []\n",
    "times, cmoments = [], []\n",
    "for i, b in enumerate(bunches):\n",
    "    distance = dt[i]*b.beta*c\n",
    "    b.z += distance\n",
    "    slices.append(b.get_slices(slicer))\n",
    "    times.append(slices[-1].z_centers / (b.beta*c))\n",
    "    cmoments.append(slices[-1].charge_per_slice)\n",
    "    b.z -= distance\n",
    "\n",
    "slices1, slices2, slices3 = slices\n",
    "times1, times2, times3 = times\n",
    "cmoments1, cmoments2, cmoments3 = cmoments"
   ]
  },
  {
   "cell_type": "code",
   "execution_count": 128,
   "metadata": {
    "collapsed": false
   },
   "outputs": [],
   "source": [
    "col = sns.hls_palette(6, l=.3, s=.8)\n",
    "\n",
    "fig, axes = plt.subplots(len(slices), figsize=(12,6))\n",
    "\n",
    "for i, ax in enumerate(axes):\n",
    "    [ax.axvline(s, c=col[0]) for s in slices[i].z_centers]\n",
    "    [ax.axvline(s, c=col[2]) for s in [slices[i].z_cut_tail, slices[i].z_cut_head]]\n",
    "    ax.plot(slices[i].z_centers, slices[i].charge_per_slice, '-o')\n",
    "    ax.set_xlim(-.4, .4)\n",
    "\n",
    "plt.show()"
   ]
  },
  {
   "cell_type": "markdown",
   "metadata": {},
   "source": [
    "## Convolutions"
   ]
  },
  {
   "cell_type": "code",
   "execution_count": 129,
   "metadata": {
    "collapsed": false
   },
   "outputs": [],
   "source": [
    "def convolution_python(t_target, t_source, c_source, w):\n",
    "    dxp = 0.*t_target\n",
    "    for k in xrange(len(t_target)):\n",
    "        for l in xrange(len(t_source)):\n",
    "            dxp[k] += c_source[l]*w(t_target[k]-t_source[l])\n",
    "\n",
    "    return dxp"
   ]
  },
  {
   "cell_type": "code",
   "execution_count": 130,
   "metadata": {
    "collapsed": true
   },
   "outputs": [],
   "source": [
    "def convolution_numpy(t_target, t_source, c_source, w):\n",
    "    tmin, tmax = t_source[0], t_source[-1]\n",
    "    tt = np.concatenate((t_target-tmax, (t_target-tmin)[1:]))\n",
    "    \n",
    "    return np.convolve(c_source, w(tt), mode='valid')"
   ]
  },
  {
   "cell_type": "code",
   "execution_count": 131,
   "metadata": {
    "collapsed": true
   },
   "outputs": [],
   "source": [
    "def convolution_scipy(t_target, t_source, c_source, w):\n",
    "    tmin, tmax = t_source[0], t_source[-1]\n",
    "    tt = np.concatenate((t_target-tmax, (t_target-tmin)[1:]))\n",
    "    \n",
    "    return fftconvolve(w(tt), c_source, mode='valid')"
   ]
  },
  {
   "cell_type": "code",
   "execution_count": 132,
   "metadata": {
    "collapsed": true
   },
   "outputs": [],
   "source": [
    "def convolve_multibunch(times, moments, wf, dt=None, f_convolution=convolution_python):\n",
    "    dxp = []\n",
    "    if dt is None: dt = 0.*np.array(times)\n",
    "    for i in xrange(len(times)):\n",
    "        z = 0.*times[i]\n",
    "        t_target = times[i]\n",
    "        for j in range(i+1):\n",
    "            t_source = times[j] + dt[i] - dt[j]\n",
    "            c_source = moments[j]\n",
    "            z += f_convolution(t_target, t_source, c_source, wf)\n",
    "            \n",
    "        dxp.append(z)\n",
    "        \n",
    "    return dxp"
   ]
  },
  {
   "cell_type": "code",
   "execution_count": 133,
   "metadata": {
    "collapsed": false
   },
   "outputs": [
    {
     "name": "stdout",
     "output_type": "stream",
     "text": [
      "10 loops, best of 3: 85.4 ms per loop\n",
      "10000 loops, best of 3: 132 µs per loop\n",
      "1000 loops, best of 3: 507 µs per loop\n"
     ]
    }
   ],
   "source": [
    "%timeit convolve_multibunch(times, cmoments, wf, dt)\n",
    "%timeit convolve_multibunch(times, cmoments, wf, dt, f_convolution=convolution_numpy)\n",
    "%timeit convolve_multibunch(times, cmoments, wf, dt, f_convolution=convolution_scipy)"
   ]
  },
  {
   "cell_type": "markdown",
   "metadata": {},
   "source": [
    "### Separate bunches"
   ]
  },
  {
   "cell_type": "code",
   "execution_count": 134,
   "metadata": {
    "collapsed": false
   },
   "outputs": [],
   "source": [
    "delta_xp = convolve_multibunch(times, cmoments, wf, dt)\n",
    "delta_xp_np = convolve_multibunch(times, cmoments, wf, dt, f_convolution=convolution_numpy)"
   ]
  },
  {
   "cell_type": "code",
   "execution_count": 135,
   "metadata": {
    "collapsed": false
   },
   "outputs": [],
   "source": [
    "for i, s in enumerate(slices):\n",
    "    dts = times[i]\n",
    "    t0 = np.concatenate((dts-dts[-1], (dts-dts[0])[1:]))\n",
    "\n",
    "    fig, (ax1, ax2, ax3) = plt.subplots(3, figsize=(12,6))\n",
    "\n",
    "    ax1.plot(t0, wf(t0)[::-1]/max(wf(t0)[::-1]))\n",
    "    ax1.plot(dts-dts[-1]-dt[i], s.charge_per_slice/max(s.charge_per_slice))\n",
    "    ax1.set_ylim((-1.1, 1.1))\n",
    "    ax1.legend(['Bunch', 'Wake'])\n",
    "    ax1.set_xlim(-10e-9, 3e-9)\n",
    "    ax2.plot(delta_xp[i])\n",
    "    ax2.plot(delta_xp_np[i])\n",
    "    ax2.legend(['manual', 'valid'])\n",
    "    ax3.plot(dts-dts[-1], s.charge_per_slice/max(s.charge_per_slice))\n",
    "    ax3.plot(dts-dts[-1], delta_xp_np[i]/max(delta_xp_np[i]))\n",
    "    ax3.set_ylim(-2, 2)\n",
    "\n",
    "plt.show()"
   ]
  },
  {
   "cell_type": "markdown",
   "metadata": {
    "collapsed": true
   },
   "source": [
    "### All bunches"
   ]
  },
  {
   "cell_type": "code",
   "execution_count": 136,
   "metadata": {
    "collapsed": false
   },
   "outputs": [],
   "source": [
    "allslicer = UniformBinSlicer(400, z_cuts=(-3, .5))\n",
    "allslices = allbunches.get_slices(allslicer)\n",
    "\n",
    "alltimes = allslices.z_centers / (allbunches.beta*c)\n",
    "allcmoments = allslices.charge_per_slice"
   ]
  },
  {
   "cell_type": "code",
   "execution_count": 137,
   "metadata": {
    "collapsed": false
   },
   "outputs": [],
   "source": [
    "alldelta_xp = convolve_multibunch([alltimes], [allcmoments], wf)[0]\n",
    "alldelta_xp_np = convolve_multibunch([alltimes], [allcmoments], wf, f_convolution=convolution_numpy)[0]"
   ]
  },
  {
   "cell_type": "code",
   "execution_count": 138,
   "metadata": {
    "collapsed": false
   },
   "outputs": [],
   "source": [
    "t0 = np.concatenate((alltimes-alltimes[-1],\n",
    "                    (alltimes-alltimes[0])[1:]))\n",
    "scale_kick = 1./max(alldelta_xp_np)\n",
    "scale_charge = 1./max(allcmoments)\n",
    "scale_charge2 = 1./max([max(s.charge_per_slice) for s in slices])\n",
    "\n",
    "c = sns.color_palette('husl', 3)\n",
    "fig, (ax1, ax2, ax3) = plt.subplots(3, figsize=(12,10))\n",
    "\n",
    "ax1.plot(t0, wf(t0)[::-1]/max(wf(t0)[::-1]))\n",
    "ax1.plot(alltimes-alltimes[-1], allcmoments/max(allcmoments))\n",
    "ax1.set_ylim((-1.1, 1.1))\n",
    "ax1.legend(['Bunch', 'Wake'])\n",
    "ax1.set_xlim(-11e-9, 3e-9)\n",
    "\n",
    "ax2.plot(alldelta_xp)\n",
    "ax2.plot(alldelta_xp_np)\n",
    "ax2.legend(['manual', 'valid'])\n",
    "\n",
    "ax3.plot(alltimes-alltimes[-1], allcmoments*scale_charge)\n",
    "ax3.plot(alltimes-alltimes[-1], alldelta_xp_np*scale_kick, label=\"all bunches\")\n",
    "\n",
    "labels = [\"first bunch\", \"second bunch\", \"third bunch\"]\n",
    "for i, s in enumerate(slices):\n",
    "    dts = times[i]\n",
    "    dxp = delta_xp[i]\n",
    "    ax3.plot(dts-alltimes[-1]-dt[i], s.charge_per_slice*scale_charge2)\n",
    "    if i==2:\n",
    "        ax3.plot(dts-alltimes[-1]-dt[i], dxp*scale_kick, label=labels[i], c=col[i*2])\n",
    "    else:\n",
    "        ax3.plot(dts-alltimes[-1]-dt[i], dxp*scale_kick, label=labels[i], c=col[i*2])\n",
    "\n",
    "#     [ax3.axvline(s, c=c[0], alpha=0.8) for s in (dts-dts[-1])]\n",
    "#     [ax3.axvline(s, c=c[1], alpha=0.8) for s in (dts-dts[-1]-dt[i])]\n",
    "#     [ax3.axvline(s, c=c[2], alpha=0.8) for s in (alltimes-alltimes[-1])]\n",
    "\n",
    "ax3.legend()\n",
    "ax3.set_xlim(-11e-9, 3e-9)\n",
    "ax3.set_ylim(-2, 2)\n",
    "\n",
    "plt.show()"
   ]
  },
  {
   "cell_type": "code",
   "execution_count": null,
   "metadata": {
    "collapsed": false
   },
   "outputs": [],
   "source": [
    "plt.close('all')"
   ]
  }
 ],
 "metadata": {
  "kernelspec": {
   "display_name": "Python 2",
   "language": "python",
   "name": "python2"
  },
  "language_info": {
   "codemirror_mode": {
    "name": "ipython",
    "version": 2
   },
   "file_extension": ".py",
   "mimetype": "text/x-python",
   "name": "python",
   "nbconvert_exporter": "python",
   "pygments_lexer": "ipython2",
   "version": "2.7.9"
  }
 },
 "nbformat": 4,
 "nbformat_minor": 0
}

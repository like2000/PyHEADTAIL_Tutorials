{
 "cells": [
  {
   "cell_type": "code",
   "execution_count": 1,
   "metadata": {
    "collapsed": false
   },
   "outputs": [],
   "source": [
    "%reload_ext Cython\n",
    "%reload_ext line_profiler"
   ]
  },
  {
   "cell_type": "code",
   "execution_count": 2,
   "metadata": {
    "collapsed": false
   },
   "outputs": [
    {
     "name": "stderr",
     "output_type": "stream",
     "text": [
      "/usr/lib64/python2.7/site-packages/matplotlib/__init__.py:872: UserWarning: axes.color_cycle is deprecated and replaced with axes.prop_cycle; please use the latter.\n",
      "  warnings.warn(self.msg_depr % (key, alt_key))\n"
     ]
    }
   ],
   "source": [
    "import numpy as np\n",
    "import matplotlib.pyplot as plt\n",
    "from scipy.constants import c, e, m_p\n",
    "from scipy.signal import fftconvolve\n",
    "\n",
    "%matplotlib tk\n",
    "import seaborn as sns\n",
    "sns.set_context('notebook', font_scale=1.5,\n",
    "                rc={'lines.markeredgewidth': 1})\n",
    "sns.set_style('darkgrid', {\n",
    "        'axes.linewidth': 2,\n",
    "        'legend.fancybox': True})"
   ]
  },
  {
   "cell_type": "code",
   "execution_count": 3,
   "metadata": {
    "collapsed": false
   },
   "outputs": [
    {
     "name": "stdout",
     "output_type": "stream",
     "text": [
      "PyHEADTAIL v1.9.3.12\n",
      "\n",
      "\n"
     ]
    }
   ],
   "source": [
    "from PyHEADTAIL.trackers.rf_bucket import RFBucket\n",
    "import PyHEADTAIL.particles.generators as gen"
   ]
  },
  {
   "cell_type": "markdown",
   "metadata": {},
   "source": [
    "### Create bunches and bunches_list"
   ]
  },
  {
   "cell_type": "code",
   "execution_count": 4,
   "metadata": {
    "collapsed": false
   },
   "outputs": [
    {
     "name": "stdout",
     "output_type": "stream",
     "text": [
      "479.606062093\n"
     ]
    }
   ],
   "source": [
    "momentum = 450e9 * e/c\n",
    "gamma = np.sqrt((momentum/(m_p*c))**2 + 1)\n",
    "beta = np.sqrt(1 - gamma**-2)\n",
    "\n",
    "circumference = 40\n",
    "alpha = 3.225e-4\n",
    "h1 = 20\n",
    "V1 = 1000\n",
    "p_increment = 0 * e/c * circumference/(beta*c)\n",
    "\n",
    "print gamma"
   ]
  },
  {
   "cell_type": "code",
   "execution_count": 5,
   "metadata": {
    "collapsed": false
   },
   "outputs": [],
   "source": [
    "rfbucket = RFBucket(\n",
    "    charge=e, mass=m_p, gamma=gamma,\n",
    "    circumference=circumference,\n",
    "    alpha_array=[alpha], p_increment=0,\n",
    "    harmonic_list=[h1], voltage_list=[V1], phi_offset_list=[0])"
   ]
  },
  {
   "cell_type": "code",
   "execution_count": 6,
   "metadata": {
    "collapsed": false
   },
   "outputs": [
    {
     "name": "stdout",
     "output_type": "stream",
     "text": [
      "[  7.16509355e-09   3.75595475e-09   9.55430869e-09]\n",
      "[ 0.44193405  0.47084237  0.45004354]\n"
     ]
    }
   ],
   "source": [
    "dt = np.random.uniform(0, 10e-9, 3)\n",
    "epsn_z = np.random.uniform(0, 0.5, 3)\n",
    "print dt\n",
    "print epsn_z"
   ]
  },
  {
   "cell_type": "code",
   "execution_count": 7,
   "metadata": {
    "collapsed": true
   },
   "outputs": [],
   "source": [
    "T0 = circumference/beta/c\n",
    "dt = (0, 2.5e-9, 7.5e-9, T0+0, T0+2.5e-9, T0+7.5e-9)\n",
    "epsn_z = (0.35, 0.25, 0.1, 0.35, 0.25, 0.1)\n",
    "# epsn_z = (0.1, 0.25, 0.35, 0.1, 0.25, 0.35)"
   ]
  },
  {
   "cell_type": "code",
   "execution_count": 8,
   "metadata": {
    "collapsed": false
   },
   "outputs": [
    {
     "name": "stdout",
     "output_type": "stream",
     "text": [
      "*** Maximum RMS emittance 1.12145002894eV s.\n",
      "... distance to target emittance: 2.50e-02\n",
      "... distance to target emittance: 2.51e-02\n",
      "... distance to target emittance: -1.77e-04\n",
      "--> Emittance: 0.350001068509\n",
      "--> Bunch length:0.164249527414"
     ]
    },
    {
     "name": "stderr",
     "output_type": "stream",
     "text": [
      "/home/kli/workspace/PyHEADTAIL/particles/generators.py:330: VisibleDeprecationWarning: using a non-integer number instead of an integer will result in an error in the future\n",
      "  coords = [np.random.normal(loc=0., scale=std, size=n_particles),\n",
      "/home/kli/workspace/PyHEADTAIL/particles/generators.py:331: VisibleDeprecationWarning: using a non-integer number instead of an integer will result in an error in the future\n",
      "  np.random.normal(loc=0., scale=std, size=n_particles)]\n",
      "/home/kli/workspace/PyHEADTAIL/particles/generators.py:530: VisibleDeprecationWarning: using a non-integer number instead of an integer will result in an error in the future\n",
      "  u = uniform(low=xmin, high=xmax, size=n_gen)\n"
     ]
    },
    {
     "name": "stdout",
     "output_type": "stream",
     "text": [
      "\n",
      "*** Maximum RMS emittance 1.12145002894eV s.\n",
      "... distance to target emittance: 1.35e-02\n",
      "... distance to target emittance: 1.36e-02\n",
      "... distance to target emittance: 2.72e-05\n",
      "--> Emittance: 0.250000058984\n",
      "--> Bunch length:0.137176493154\n",
      "*** Maximum RMS emittance 1.12145002894eV s.\n",
      "... distance to target emittance: 1.90e-03\n",
      "... distance to target emittance: 2.02e-03\n",
      "... distance to target emittance: 7.91e-07\n",
      "--> Emittance: 0.100000000329\n",
      "--> Bunch length:0.0853883539502\n",
      "*** Maximum RMS emittance 1.12145002894eV s.\n",
      "... distance to target emittance: 2.50e-02\n",
      "... distance to target emittance: 2.51e-02\n",
      "... distance to target emittance: -1.77e-04\n",
      "--> Emittance: 0.350001068509\n",
      "--> Bunch length:0.164249527414\n",
      "*** Maximum RMS emittance 1.12145002894eV s.\n",
      "... distance to target emittance: 1.35e-02\n",
      "... distance to target emittance: 1.36e-02\n",
      "... distance to target emittance: 2.72e-05\n",
      "--> Emittance: 0.250000058984\n",
      "--> Bunch length:0.137176493154\n",
      "*** Maximum RMS emittance 1.12145002894eV s.\n",
      "... distance to target emittance: 1.90e-03\n",
      "... distance to target emittance: 2.02e-03\n",
      "... distance to target emittance: 7.91e-07\n",
      "--> Emittance: 0.100000000329\n",
      "--> Bunch length:0.0853883539502\n"
     ]
    },
    {
     "name": "stderr",
     "output_type": "stream",
     "text": [
      "/home/kli/workspace/PyHEADTAIL/particles/generators.py:531: VisibleDeprecationWarning: using a non-integer number instead of an integer will result in an error in the future\n",
      "  v = uniform(low=ymin, high=ymax, size=n_gen)\n",
      "/home/kli/workspace/PyHEADTAIL/particles/generators.py:532: VisibleDeprecationWarning: using a non-integer number instead of an integer will result in an error in the future\n",
      "  s = uniform(size=n_gen)\n"
     ]
    }
   ],
   "source": [
    "bunches_list = [\n",
    "    gen.ParticleGenerator(\n",
    "        macroparticlenumber=1e5, intensity=1e11,\n",
    "        charge=e, mass=m_p, gamma=gamma,\n",
    "        circumference=circumference,\n",
    "        distribution_x=gen.gaussian2D(2e-6),\n",
    "        distribution_y=gen.gaussian2D(2e-6),\n",
    "        distribution_z=gen.RF_bucket_distribution(rfbucket, epsn_z=epsn_z[i])\n",
    "    ).generate() for i in xrange(len(dt))]\n",
    "\n",
    "for i, b in enumerate(bunches_list):\n",
    "    b.z -= dt[i] * (b.beta*c)\n",
    "    b.dt = dt[i]\n",
    "\n",
    "bunches = sum(bunches_list)\n",
    "bunches.dt = dt[0]"
   ]
  },
  {
   "cell_type": "markdown",
   "metadata": {},
   "source": [
    "### Wakes and wake kicks and functions"
   ]
  },
  {
   "cell_type": "code",
   "execution_count": 9,
   "metadata": {
    "collapsed": false
   },
   "outputs": [],
   "source": [
    "from PyHEADTAIL.particles.slicing import UniformBinSlicer\n",
    "from PyHEADTAIL.impedances.wakes import CircularResonator, WakeField"
   ]
  },
  {
   "cell_type": "code",
   "execution_count": 24,
   "metadata": {
    "collapsed": false
   },
   "outputs": [
    {
     "name": "stdout",
     "output_type": "stream",
     "text": [
      "*** PyHEADTAIL WARNING! Acceleration not handled properly by this kind of convolution due to changing bunch length!\n",
      "*** PyHEADTAIL WARNING! Acceleration not handled properly by this kind of convolution due to changing bunch length!\n"
     ]
    }
   ],
   "source": [
    "slicer = UniformBinSlicer(60, z_cuts=(-.3, .3))\n",
    "\n",
    "wake = CircularResonator(R_shunt=1e9, frequency=1e9, Q=500, n_turns_wake=2)\n",
    "\n",
    "wakefields = WakeField(slicer, wake, circumference=circumference)\n",
    "wakekick = wakefields.wake_kicks[0]\n",
    "wakefunction = wakekick.wake_function"
   ]
  },
  {
   "cell_type": "markdown",
   "metadata": {},
   "source": [
    "### Convolutions"
   ]
  },
  {
   "cell_type": "code",
   "execution_count": 25,
   "metadata": {
    "collapsed": true
   },
   "outputs": [],
   "source": [
    "def convolution_python(t_target, t_source, c_source, w):\n",
    "    dxp = 0.*t_target\n",
    "    for k in xrange(len(t_target)):\n",
    "        for l in xrange(len(t_source)):\n",
    "            dxp[k] += c_source[l]*w(t_target[k]-t_source[l])\n",
    "\n",
    "    return dxp"
   ]
  },
  {
   "cell_type": "code",
   "execution_count": 26,
   "metadata": {
    "collapsed": true
   },
   "outputs": [],
   "source": [
    "def convolution_numpy(t_target, t_source, c_source, w):\n",
    "    tmin, tmax = t_source[0], t_source[-1]\n",
    "    tt = np.concatenate((t_target-tmax, (t_target-tmin)[1:]))\n",
    "    \n",
    "    return np.convolve(c_source, w(tt), mode='valid')"
   ]
  },
  {
   "cell_type": "code",
   "execution_count": 27,
   "metadata": {
    "collapsed": false
   },
   "outputs": [],
   "source": [
    "def convolve_multibunch(times, moments, wf, dt=None, f_convolution=convolution_python):\n",
    "    dxp = []\n",
    "    if dt is None: dt = 0.*np.array(times)\n",
    "    for i in xrange(len(times)):\n",
    "        z = 0.*times[i]\n",
    "        t_target = times[i]\n",
    "        for j in range(i+1):\n",
    "            t_source = times[j] + dt[i] - dt[j]\n",
    "            c_source = moments[j]\n",
    "            z += f_convolution(t_target, t_source, c_source, wf)\n",
    "            \n",
    "        dxp.append(z)\n",
    "        \n",
    "    return dxp"
   ]
  },
  {
   "cell_type": "code",
   "execution_count": 28,
   "metadata": {
    "collapsed": false
   },
   "outputs": [],
   "source": [
    "def convolve_PyHEADTAIL_sb(bunch, times, ages, cmoments, betas):\n",
    "    return wakekick._accumulate_source_signal(bunch, times, ages, cmoments, betas)"
   ]
  },
  {
   "cell_type": "code",
   "execution_count": 29,
   "metadata": {
    "collapsed": false
   },
   "outputs": [],
   "source": [
    "def convolve_PyHEADTAIL_mb(bunches, times, ages, cmoments, betas):\n",
    "    return wakekick._accumulate_source_signal_multibunch(bunches, times, ages, cmoments, betas)"
   ]
  },
  {
   "cell_type": "markdown",
   "metadata": {},
   "source": [
    "### Use cases\n",
    "#### Create slices and slices_list\n",
    "---"
   ]
  },
  {
   "cell_type": "code",
   "execution_count": 16,
   "metadata": {
    "collapsed": true
   },
   "outputs": [],
   "source": [
    "def get_times_and_moments(bunches_list, slicer):\n",
    "    bunches_list = np.atleast_1d(bunches_list)\n",
    "\n",
    "    slices_list = []\n",
    "    times_list = []\n",
    "    cmoments_list = []\n",
    "    for i, b in enumerate(bunches_list):\n",
    "        distance = dt[i]*b.beta*c\n",
    "        b.z += distance\n",
    "        slices_list.append(b.get_slices(slicer))\n",
    "        times_list.append(slices_list[-1].z_centers / (b.beta*c))\n",
    "        cmoments_list.append(slices_list[-1].charge_per_slice)\n",
    "        b.z -= distance\n",
    "\n",
    "    # Multi-turn multi-bunch times and moments arrays - here, only one turn assumed\n",
    "    n_turns = 1\n",
    "    n_bunches = len(bunches_list)\n",
    "    n_slices = len(times_list[0])\n",
    "\n",
    "    tmp = np.zeros((n_turns, n_bunches, n_slices))\n",
    "    tmp[0,:,:] = times_list\n",
    "    times_array = tmp\n",
    "\n",
    "    tmp = np.zeros((n_turns, n_bunches, n_slices))\n",
    "    tmp[0,:,:] = cmoments_list\n",
    "    cmoments_array = tmp\n",
    "\n",
    "    ages_list = np.array([0 for b in bunches_list])\n",
    "    betas_list = np.array([[b.beta for b in bunches_list]])\n",
    "    \n",
    "    return times_array, ages_list, cmoments_array, betas_list"
   ]
  },
  {
   "cell_type": "markdown",
   "metadata": {},
   "source": [
    "#### Single beam"
   ]
  },
  {
   "cell_type": "code",
   "execution_count": 17,
   "metadata": {
    "collapsed": false
   },
   "outputs": [],
   "source": [
    "# Single beam\n",
    "slicer = UniformBinSlicer(2000, z_cuts=(-45, .5))\n",
    "\n",
    "times, ages, cmoments, betas = get_times_and_moments(bunches, slicer)\n",
    "\n",
    "delta_xp_mb = convolve_PyHEADTAIL_mb(bunches, times, ages, cmoments, betas)\n",
    "# %timeit convolve_PyHEADTAIL_mb(bunches, times, ages, cmoments, betas)\n",
    "\n",
    "times_list = times[:,0,:]\n",
    "cmoments_list = cmoments[:,0,:]\n",
    "\n",
    "delta_xp_sb = convolve_PyHEADTAIL_sb(bunches, times_list, ages, cmoments_list, betas)\n",
    "delta_xp_np = convolve_multibunch(times_list, cmoments_list, wakefunction)\n",
    "# %timeit convolve_PyHEADTAIL_sb(bunches, times_list, ages, cmoments_list, betas)\n",
    "# %timeit convolve_multibunch(times_list, cmoments_list, wakefunction)\n",
    "# %timeit convolve_multibunch(times_list, cmoments_list, wakefunction, f_convolution=convolution_numpy)"
   ]
  },
  {
   "cell_type": "code",
   "execution_count": 33,
   "metadata": {
    "collapsed": false
   },
   "outputs": [
    {
     "ename": "ValueError",
     "evalue": "x and y must have same first dimension",
     "output_type": "error",
     "traceback": [
      "\u001b[1;31m---------------------------------------------------------------------------\u001b[0m",
      "\u001b[1;31mValueError\u001b[0m                                Traceback (most recent call last)",
      "\u001b[1;32m<ipython-input-33-9a048cc5b669>\u001b[0m in \u001b[0;36m<module>\u001b[1;34m()\u001b[0m\n\u001b[0;32m     24\u001b[0m \u001b[0max3\u001b[0m\u001b[1;33m.\u001b[0m\u001b[0mplot\u001b[0m\u001b[1;33m(\u001b[0m\u001b[0mtimes\u001b[0m\u001b[1;33m-\u001b[0m\u001b[0mtimes\u001b[0m\u001b[1;33m[\u001b[0m\u001b[1;33m-\u001b[0m\u001b[1;36m1\u001b[0m\u001b[1;33m]\u001b[0m\u001b[1;33m,\u001b[0m \u001b[0mdxp1\u001b[0m\u001b[1;33m/\u001b[0m\u001b[0mmax\u001b[0m\u001b[1;33m(\u001b[0m\u001b[0mdxp1\u001b[0m\u001b[1;33m)\u001b[0m\u001b[1;33m,\u001b[0m \u001b[0mlabel\u001b[0m\u001b[1;33m=\u001b[0m\u001b[1;34m\"all bunches\"\u001b[0m\u001b[1;33m)\u001b[0m\u001b[1;33m\u001b[0m\u001b[0m\n\u001b[0;32m     25\u001b[0m \u001b[1;33m\u001b[0m\u001b[0m\n\u001b[1;32m---> 26\u001b[1;33m \u001b[0max3\u001b[0m\u001b[1;33m.\u001b[0m\u001b[0mplot\u001b[0m\u001b[1;33m(\u001b[0m\u001b[0mtimes_reg\u001b[0m\u001b[1;33m-\u001b[0m\u001b[0mtimes\u001b[0m\u001b[1;33m[\u001b[0m\u001b[1;33m-\u001b[0m\u001b[1;36m1\u001b[0m\u001b[1;33m]\u001b[0m\u001b[1;33m,\u001b[0m \u001b[0mdxp_mt\u001b[0m\u001b[1;33m/\u001b[0m\u001b[0mmax\u001b[0m\u001b[1;33m(\u001b[0m\u001b[0mdxp1\u001b[0m\u001b[1;33m)\u001b[0m\u001b[1;33m,\u001b[0m \u001b[0mlabel\u001b[0m\u001b[1;33m=\u001b[0m\u001b[1;34m\"mt bunches\"\u001b[0m\u001b[1;33m)\u001b[0m\u001b[1;33m\u001b[0m\u001b[0m\n\u001b[0m\u001b[0;32m     27\u001b[0m \u001b[1;33m\u001b[0m\u001b[0m\n\u001b[0;32m     28\u001b[0m \u001b[0max3\u001b[0m\u001b[1;33m.\u001b[0m\u001b[0mlegend\u001b[0m\u001b[1;33m(\u001b[0m\u001b[1;33m)\u001b[0m\u001b[1;33m\u001b[0m\u001b[0m\n",
      "\u001b[1;32m/usr/lib64/python2.7/site-packages/matplotlib/__init__.pyc\u001b[0m in \u001b[0;36minner\u001b[1;34m(ax, *args, **kwargs)\u001b[0m\n\u001b[0;32m   1810\u001b[0m                     warnings.warn(msg % (label_namer, func.__name__),\n\u001b[0;32m   1811\u001b[0m                                   RuntimeWarning, stacklevel=2)\n\u001b[1;32m-> 1812\u001b[1;33m             \u001b[1;32mreturn\u001b[0m \u001b[0mfunc\u001b[0m\u001b[1;33m(\u001b[0m\u001b[0max\u001b[0m\u001b[1;33m,\u001b[0m \u001b[1;33m*\u001b[0m\u001b[0margs\u001b[0m\u001b[1;33m,\u001b[0m \u001b[1;33m**\u001b[0m\u001b[0mkwargs\u001b[0m\u001b[1;33m)\u001b[0m\u001b[1;33m\u001b[0m\u001b[0m\n\u001b[0m\u001b[0;32m   1813\u001b[0m         \u001b[0mpre_doc\u001b[0m \u001b[1;33m=\u001b[0m \u001b[0minner\u001b[0m\u001b[1;33m.\u001b[0m\u001b[0m__doc__\u001b[0m\u001b[1;33m\u001b[0m\u001b[0m\n\u001b[0;32m   1814\u001b[0m         \u001b[1;32mif\u001b[0m \u001b[0mpre_doc\u001b[0m \u001b[1;32mis\u001b[0m \u001b[0mNone\u001b[0m\u001b[1;33m:\u001b[0m\u001b[1;33m\u001b[0m\u001b[0m\n",
      "\u001b[1;32m/usr/lib64/python2.7/site-packages/matplotlib/axes/_axes.pyc\u001b[0m in \u001b[0;36mplot\u001b[1;34m(self, *args, **kwargs)\u001b[0m\n\u001b[0;32m   1422\u001b[0m             \u001b[0mkwargs\u001b[0m\u001b[1;33m[\u001b[0m\u001b[1;34m'color'\u001b[0m\u001b[1;33m]\u001b[0m \u001b[1;33m=\u001b[0m \u001b[0mc\u001b[0m\u001b[1;33m\u001b[0m\u001b[0m\n\u001b[0;32m   1423\u001b[0m \u001b[1;33m\u001b[0m\u001b[0m\n\u001b[1;32m-> 1424\u001b[1;33m         \u001b[1;32mfor\u001b[0m \u001b[0mline\u001b[0m \u001b[1;32min\u001b[0m \u001b[0mself\u001b[0m\u001b[1;33m.\u001b[0m\u001b[0m_get_lines\u001b[0m\u001b[1;33m(\u001b[0m\u001b[1;33m*\u001b[0m\u001b[0margs\u001b[0m\u001b[1;33m,\u001b[0m \u001b[1;33m**\u001b[0m\u001b[0mkwargs\u001b[0m\u001b[1;33m)\u001b[0m\u001b[1;33m:\u001b[0m\u001b[1;33m\u001b[0m\u001b[0m\n\u001b[0m\u001b[0;32m   1425\u001b[0m             \u001b[0mself\u001b[0m\u001b[1;33m.\u001b[0m\u001b[0madd_line\u001b[0m\u001b[1;33m(\u001b[0m\u001b[0mline\u001b[0m\u001b[1;33m)\u001b[0m\u001b[1;33m\u001b[0m\u001b[0m\n\u001b[0;32m   1426\u001b[0m             \u001b[0mlines\u001b[0m\u001b[1;33m.\u001b[0m\u001b[0mappend\u001b[0m\u001b[1;33m(\u001b[0m\u001b[0mline\u001b[0m\u001b[1;33m)\u001b[0m\u001b[1;33m\u001b[0m\u001b[0m\n",
      "\u001b[1;32m/usr/lib64/python2.7/site-packages/matplotlib/axes/_base.pyc\u001b[0m in \u001b[0;36m_grab_next_args\u001b[1;34m(self, *args, **kwargs)\u001b[0m\n\u001b[0;32m    384\u001b[0m                 \u001b[1;32mreturn\u001b[0m\u001b[1;33m\u001b[0m\u001b[0m\n\u001b[0;32m    385\u001b[0m             \u001b[1;32mif\u001b[0m \u001b[0mlen\u001b[0m\u001b[1;33m(\u001b[0m\u001b[0mremaining\u001b[0m\u001b[1;33m)\u001b[0m \u001b[1;33m<=\u001b[0m \u001b[1;36m3\u001b[0m\u001b[1;33m:\u001b[0m\u001b[1;33m\u001b[0m\u001b[0m\n\u001b[1;32m--> 386\u001b[1;33m                 \u001b[1;32mfor\u001b[0m \u001b[0mseg\u001b[0m \u001b[1;32min\u001b[0m \u001b[0mself\u001b[0m\u001b[1;33m.\u001b[0m\u001b[0m_plot_args\u001b[0m\u001b[1;33m(\u001b[0m\u001b[0mremaining\u001b[0m\u001b[1;33m,\u001b[0m \u001b[0mkwargs\u001b[0m\u001b[1;33m)\u001b[0m\u001b[1;33m:\u001b[0m\u001b[1;33m\u001b[0m\u001b[0m\n\u001b[0m\u001b[0;32m    387\u001b[0m                     \u001b[1;32myield\u001b[0m \u001b[0mseg\u001b[0m\u001b[1;33m\u001b[0m\u001b[0m\n\u001b[0;32m    388\u001b[0m                 \u001b[1;32mreturn\u001b[0m\u001b[1;33m\u001b[0m\u001b[0m\n",
      "\u001b[1;32m/usr/lib64/python2.7/site-packages/matplotlib/axes/_base.pyc\u001b[0m in \u001b[0;36m_plot_args\u001b[1;34m(self, tup, kwargs)\u001b[0m\n\u001b[0;32m    362\u001b[0m             \u001b[0mx\u001b[0m\u001b[1;33m,\u001b[0m \u001b[0my\u001b[0m \u001b[1;33m=\u001b[0m \u001b[0mindex_of\u001b[0m\u001b[1;33m(\u001b[0m\u001b[0mtup\u001b[0m\u001b[1;33m[\u001b[0m\u001b[1;33m-\u001b[0m\u001b[1;36m1\u001b[0m\u001b[1;33m]\u001b[0m\u001b[1;33m)\u001b[0m\u001b[1;33m\u001b[0m\u001b[0m\n\u001b[0;32m    363\u001b[0m \u001b[1;33m\u001b[0m\u001b[0m\n\u001b[1;32m--> 364\u001b[1;33m         \u001b[0mx\u001b[0m\u001b[1;33m,\u001b[0m \u001b[0my\u001b[0m \u001b[1;33m=\u001b[0m \u001b[0mself\u001b[0m\u001b[1;33m.\u001b[0m\u001b[0m_xy_from_xy\u001b[0m\u001b[1;33m(\u001b[0m\u001b[0mx\u001b[0m\u001b[1;33m,\u001b[0m \u001b[0my\u001b[0m\u001b[1;33m)\u001b[0m\u001b[1;33m\u001b[0m\u001b[0m\n\u001b[0m\u001b[0;32m    365\u001b[0m \u001b[1;33m\u001b[0m\u001b[0m\n\u001b[0;32m    366\u001b[0m         \u001b[1;32mif\u001b[0m \u001b[0mself\u001b[0m\u001b[1;33m.\u001b[0m\u001b[0mcommand\u001b[0m \u001b[1;33m==\u001b[0m \u001b[1;34m'plot'\u001b[0m\u001b[1;33m:\u001b[0m\u001b[1;33m\u001b[0m\u001b[0m\n",
      "\u001b[1;32m/usr/lib64/python2.7/site-packages/matplotlib/axes/_base.pyc\u001b[0m in \u001b[0;36m_xy_from_xy\u001b[1;34m(self, x, y)\u001b[0m\n\u001b[0;32m    221\u001b[0m         \u001b[0my\u001b[0m \u001b[1;33m=\u001b[0m \u001b[0m_check_1d\u001b[0m\u001b[1;33m(\u001b[0m\u001b[0my\u001b[0m\u001b[1;33m)\u001b[0m\u001b[1;33m\u001b[0m\u001b[0m\n\u001b[0;32m    222\u001b[0m         \u001b[1;32mif\u001b[0m \u001b[0mx\u001b[0m\u001b[1;33m.\u001b[0m\u001b[0mshape\u001b[0m\u001b[1;33m[\u001b[0m\u001b[1;36m0\u001b[0m\u001b[1;33m]\u001b[0m \u001b[1;33m!=\u001b[0m \u001b[0my\u001b[0m\u001b[1;33m.\u001b[0m\u001b[0mshape\u001b[0m\u001b[1;33m[\u001b[0m\u001b[1;36m0\u001b[0m\u001b[1;33m]\u001b[0m\u001b[1;33m:\u001b[0m\u001b[1;33m\u001b[0m\u001b[0m\n\u001b[1;32m--> 223\u001b[1;33m             \u001b[1;32mraise\u001b[0m \u001b[0mValueError\u001b[0m\u001b[1;33m(\u001b[0m\u001b[1;34m\"x and y must have same first dimension\"\u001b[0m\u001b[1;33m)\u001b[0m\u001b[1;33m\u001b[0m\u001b[0m\n\u001b[0m\u001b[0;32m    224\u001b[0m         \u001b[1;32mif\u001b[0m \u001b[0mx\u001b[0m\u001b[1;33m.\u001b[0m\u001b[0mndim\u001b[0m \u001b[1;33m>\u001b[0m \u001b[1;36m2\u001b[0m \u001b[1;32mor\u001b[0m \u001b[0my\u001b[0m\u001b[1;33m.\u001b[0m\u001b[0mndim\u001b[0m \u001b[1;33m>\u001b[0m \u001b[1;36m2\u001b[0m\u001b[1;33m:\u001b[0m\u001b[1;33m\u001b[0m\u001b[0m\n\u001b[0;32m    225\u001b[0m             \u001b[1;32mraise\u001b[0m \u001b[0mValueError\u001b[0m\u001b[1;33m(\u001b[0m\u001b[1;34m\"x and y can be no greater than 2-D\"\u001b[0m\u001b[1;33m)\u001b[0m\u001b[1;33m\u001b[0m\u001b[0m\n",
      "\u001b[1;31mValueError\u001b[0m: x and y must have same first dimension"
     ]
    }
   ],
   "source": [
    "times = np.squeeze(times)\n",
    "cmoments = np.squeeze(cmoments)\n",
    "dxp1 = np.squeeze(delta_xp_mb)\n",
    "dxp2 = np.squeeze(delta_xp_sb)\n",
    "dxp3 = np.squeeze(delta_xp_np)\n",
    "\n",
    "t0 = np.concatenate((times-times[-1], (times-times[0])[1:]))\n",
    "\n",
    "col = sns.color_palette('husl', 6)\n",
    "fig, (ax1, ax2, ax3) = plt.subplots(3, figsize=(12,10))\n",
    "\n",
    "ax1.plot(t0, wakefunction(t0)[::-1]/max(wakefunction(t0)[::-1]))\n",
    "ax1.plot(times-times[-1], cmoments/max(cmoments))\n",
    "ax1.set_ylim((-1.1, 1.1))\n",
    "ax1.legend(['Bunch', 'Wake'])\n",
    "ax1.set_xlim(-11e-9, 3e-9)\n",
    "\n",
    "ax2.plot(dxp1/max(dxp1))\n",
    "ax2.plot(dxp2/max(dxp2))\n",
    "ax2.plot(-dxp3/max(-dxp3))\n",
    "ax2.legend(['PyHEADTAIL MB', 'PyHEADTAIL SB', 'Notebook manual'])\n",
    "\n",
    "ax3.plot(times-times[-1], 2*cmoments/max(cmoments))\n",
    "ax3.plot(times-times[-1], dxp1/max(dxp1), label=\"all bunches\")\n",
    "\n",
    "ax3.plot(times_reg-times[-1], dxp_mt/max(dxp1), label=\"mt bunches\")\n",
    "\n",
    "ax3.legend()\n",
    "ax3.set_xlim(-11e-9, 3e-9)\n",
    "ax3.set_ylim(-2.1, 2.1)"
   ]
  },
  {
   "cell_type": "code",
   "execution_count": 35,
   "metadata": {
    "collapsed": false
   },
   "outputs": [
    {
     "ename": "AttributeError",
     "evalue": "'list' object has no attribute 'shape'",
     "output_type": "error",
     "traceback": [
      "\u001b[1;31m---------------------------------------------------------------------------\u001b[0m",
      "\u001b[1;31mAttributeError\u001b[0m                            Traceback (most recent call last)",
      "\u001b[1;32m<ipython-input-35-1dbfd6a9206d>\u001b[0m in \u001b[0;36m<module>\u001b[1;34m()\u001b[0m\n\u001b[1;32m----> 1\u001b[1;33m \u001b[0mtimes_reg\u001b[0m\u001b[1;33m.\u001b[0m\u001b[0mshape\u001b[0m\u001b[1;33m,\u001b[0m \u001b[0mdxp_mt\u001b[0m\u001b[1;33m.\u001b[0m\u001b[0mshape\u001b[0m\u001b[1;33m\u001b[0m\u001b[0m\n\u001b[0m",
      "\u001b[1;31mAttributeError\u001b[0m: 'list' object has no attribute 'shape'"
     ]
    }
   ],
   "source": [
    "times_reg.shape, dxp_mt.shape"
   ]
  },
  {
   "cell_type": "markdown",
   "metadata": {},
   "source": [
    "#### Multi turn test\n",
    "---"
   ]
  },
  {
   "cell_type": "code",
   "execution_count": 30,
   "metadata": {
    "collapsed": false
   },
   "outputs": [],
   "source": [
    "slicer = UniformBinSlicer(500, z_cuts=(-5, 0.5))\n",
    "\n",
    "bunches_source = sum(bunches_list[:3])\n",
    "bunches_target = sum(bunches_list[3:])\n",
    "bunches_target.dt = 0\n",
    "\n",
    "s_source = bunches_source.get_slices(slicer)\n",
    "s_target = bunches_target.get_slices(slicer)\n",
    "\n",
    "n_turns, n_bunches = 2, 1\n",
    "times_reg = np.zeros((n_turns, n_bunches, slicer.n_slices))\n",
    "cmoments_reg = np.zeros((n_turns, n_bunches, slicer.n_slices))\n",
    "\n",
    "times_reg[0,0,:] = s_target.z_centers/(beta*c)\n",
    "times_reg[1,0,:] = s_source.z_centers/(beta*c)\n",
    "cmoments_reg[0,0,:] = s_target.charge_per_slice\n",
    "cmoments_reg[1,0,:] = s_source.charge_per_slice\n",
    "\n",
    "ages = [0, T0]\n",
    "betas = [bunches_target.beta, bunches_source.beta]\n",
    "\n",
    "# slices = []\n",
    "# for i in range(n_turns):\n",
    "#     for j in range(n_bunches):\n",
    "#         slices.append(bunches_mt[i,j].get_slices(slicer))\n",
    "        \n",
    "# slices = np.reshape(slices, (n_turns, n_bunches))\n",
    "\n"
   ]
  },
  {
   "cell_type": "code",
   "execution_count": 31,
   "metadata": {
    "collapsed": false
   },
   "outputs": [],
   "source": [
    "dxp_mt = convolve_PyHEADTAIL_mb(bunches_target, times_reg, ages, cmoments_reg, betas)"
   ]
  },
  {
   "cell_type": "code",
   "execution_count": 138,
   "metadata": {
    "collapsed": false
   },
   "outputs": [],
   "source": [
    "def convolve_PyHEADTAIL_mb(bunches, times, ages, cmoments, betas):\n",
    "    return wakekick._accumulate_source_signal_multibunch(bunches, times, ages, cmoments, betas)"
   ]
  },
  {
   "cell_type": "markdown",
   "metadata": {},
   "source": [
    "#### Multiple bunches"
   ]
  },
  {
   "cell_type": "code",
   "execution_count": 24,
   "metadata": {
    "collapsed": false
   },
   "outputs": [],
   "source": [
    "slicer = UniformBinSlicer(60, z_cuts=(-.3, .3))\n",
    "\n",
    "times_list, ages, cmoments_list, betas = get_times_and_moments(bunches_list, slicer)\n",
    "\n",
    "delta_xp_mb_l = convolve_PyHEADTAIL_mb(bunches_list, times_list, ages, cmoments_list, betas)\n",
    "# %timeit convolve_PyHEADTAIL_mb(bunches, times, ages, cmoments, betas)\n",
    "\n",
    "delta_xp_sb_l = []\n",
    "delta_xp_np_l = []\n",
    "for i, b in enumerate(bunches_list):\n",
    "    delta_xp_sb_l.append(convolve_PyHEADTAIL_sb(\n",
    "            b, times_list[:,i,:], ages, cmoments_list[:,i,:], betas))\n",
    "    delta_xp_np_l.append(convolve_multibunch(\n",
    "            times_list[:,i,:], cmoments_list[:,i,:], wakefunction, f_convolution=convolution_numpy))"
   ]
  },
  {
   "cell_type": "code",
   "execution_count": 26,
   "metadata": {
    "collapsed": false
   },
   "outputs": [
    {
     "data": {
      "text/plain": [
       "(-2.1, 2.1)"
      ]
     },
     "execution_count": 26,
     "metadata": {},
     "output_type": "execute_result"
    }
   ],
   "source": [
    "times = np.squeeze(times)\n",
    "cmoments = np.squeeze(cmoments)\n",
    "dxp1 = np.squeeze(delta_xp_mb)\n",
    "dxp2 = np.squeeze(delta_xp_sb)\n",
    "dxp3 = np.squeeze(delta_xp_np)\n",
    "\n",
    "dxp1_l = np.squeeze(delta_xp_mb_l)\n",
    "dxp2_l = np.squeeze(delta_xp_sb_l)\n",
    "dxp3_l = np.squeeze(delta_xp_np_l)\n",
    "\n",
    "t0 = np.concatenate((times-times[-1], (times-times[0])[1:]))\n",
    "\n",
    "col = sns.color_palette('husl', 7)\n",
    "fig, (ax1, ax2, ax3) = plt.subplots(3, figsize=(12,10))\n",
    "\n",
    "ax1.plot(t0, wakefunction(t0)[::-1]/max(wakefunction(t0)[::-1]))\n",
    "ax1.plot(times-times[-1], cmoments/max(cmoments))\n",
    "ax1.set_ylim((-1.1, 1.1))\n",
    "ax1.legend(['Bunch', 'Wake'])\n",
    "ax1.set_xlim(-11e-9, 3e-9)\n",
    "\n",
    "ax2.plot(dxp1/max(dxp1))\n",
    "ax2.plot(dxp2/max(dxp2))\n",
    "ax2.plot(-dxp3/max(-dxp3))\n",
    "ax2.legend(['PyHEADTAIL MB', 'PyHEADTAIL SB', 'Notebook manual'])\n",
    "\n",
    "ax3.plot(times-times[-1], 2*cmoments/max(cmoments), '--')\n",
    "ax3.plot(times-times[-1], dxp1/max(dxp1), '--', label=\"all bunches\")\n",
    "\n",
    "labels = [\"first bunch\", \"second bunch\", \"third bunch\"]\n",
    "for i in xrange(len(bunches_list)):\n",
    "    tml = np.squeeze(times_list[:,i,:])\n",
    "    cml = np.squeeze(cmoments_list[:,i,:])\n",
    "    ax3.plot(tml-times[-1]-dt[i], 2*cml/np.max(cmoments_list), c=col[i], label=labels[i])\n",
    "    ax3.plot(tml-times[-1]-dt[i], dxp1_l[i]/max(dxp1), c=col[i+3])\n",
    "\n",
    "#     [ax3.axvline(s, c=c[0], alpha=0.8) for s in (dts-dts[-1])]\n",
    "#     [ax3.axvline(s, c=c[1], alpha=0.8) for s in (dts-dts[-1]-dt[i])]\n",
    "#     [ax3.axvline(s, c=c[2], alpha=0.8) for s in (alltimes-alltimes[-1])]\n",
    "\n",
    "ax3.legend()\n",
    "ax3.set_xlim(-11e-9, 3e-9)\n",
    "ax3.set_ylim(-2.1, 2.1)"
   ]
  },
  {
   "cell_type": "code",
   "execution_count": 21,
   "metadata": {
    "collapsed": false
   },
   "outputs": [],
   "source": [
    "plt.close('all')"
   ]
  }
 ],
 "metadata": {
  "kernelspec": {
   "display_name": "Python 2",
   "language": "python",
   "name": "python2"
  },
  "language_info": {
   "codemirror_mode": {
    "name": "ipython",
    "version": 2
   },
   "file_extension": ".py",
   "mimetype": "text/x-python",
   "name": "python",
   "nbconvert_exporter": "python",
   "pygments_lexer": "ipython2",
   "version": "2.7.9"
  }
 },
 "nbformat": 4,
 "nbformat_minor": 0
}

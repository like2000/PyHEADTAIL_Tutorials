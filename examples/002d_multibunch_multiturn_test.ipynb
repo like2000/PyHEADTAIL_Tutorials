{
 "cells": [
  {
   "cell_type": "code",
   "execution_count": 1,
   "metadata": {
    "collapsed": false
   },
   "outputs": [],
   "source": [
    "%reload_ext Cython\n",
    "%reload_ext line_profiler"
   ]
  },
  {
   "cell_type": "code",
   "execution_count": 2,
   "metadata": {
    "collapsed": false
   },
   "outputs": [
    {
     "name": "stderr",
     "output_type": "stream",
     "text": [
      "/usr/lib64/python2.7/site-packages/matplotlib/__init__.py:872: UserWarning: axes.color_cycle is deprecated and replaced with axes.prop_cycle; please use the latter.\n",
      "  warnings.warn(self.msg_depr % (key, alt_key))\n"
     ]
    }
   ],
   "source": [
    "from copy import deepcopy\n",
    "import numpy as np\n",
    "import matplotlib.pyplot as plt\n",
    "from scipy.constants import c, e, m_p\n",
    "from scipy.signal import fftconvolve\n",
    "\n",
    "%matplotlib tk\n",
    "import seaborn as sns\n",
    "sns.set_context('notebook', font_scale=1.5,\n",
    "                rc={'lines.markeredgewidth': 1})\n",
    "sns.set_style('darkgrid', {\n",
    "        'axes.linewidth': 2,\n",
    "        'legend.fancybox': True})"
   ]
  },
  {
   "cell_type": "code",
   "execution_count": 3,
   "metadata": {
    "collapsed": false
   },
   "outputs": [
    {
     "name": "stdout",
     "output_type": "stream",
     "text": [
      "PyHEADTAIL v1.9.3.13\n",
      "\n",
      "\n"
     ]
    }
   ],
   "source": [
    "from PyHEADTAIL.trackers.rf_bucket import RFBucket\n",
    "import PyHEADTAIL.particles.generators as gen"
   ]
  },
  {
   "cell_type": "markdown",
   "metadata": {},
   "source": [
    "### Create bunches and bunches_list"
   ]
  },
  {
   "cell_type": "code",
   "execution_count": 4,
   "metadata": {
    "collapsed": false
   },
   "outputs": [
    {
     "name": "stdout",
     "output_type": "stream",
     "text": [
      "479.606062093\n"
     ]
    }
   ],
   "source": [
    "momentum = 450e9 * e/c\n",
    "gamma = np.sqrt((momentum/(m_p*c))**2 + 1)\n",
    "beta = np.sqrt(1 - gamma**-2)\n",
    "\n",
    "circumference = 40\n",
    "alpha = 3.225e-4\n",
    "h1 = 20\n",
    "V1 = 1000\n",
    "p_increment = 0 * e/c * circumference/(beta*c)\n",
    "\n",
    "print gamma"
   ]
  },
  {
   "cell_type": "code",
   "execution_count": 5,
   "metadata": {
    "collapsed": false
   },
   "outputs": [],
   "source": [
    "rfbucket = RFBucket(\n",
    "    charge=e, mass=m_p, gamma=gamma,\n",
    "    circumference=circumference,\n",
    "    alpha_array=[alpha], p_increment=0,\n",
    "    harmonic_list=[h1], voltage_list=[V1], phi_offset_list=[0])"
   ]
  },
  {
   "cell_type": "code",
   "execution_count": 6,
   "metadata": {
    "collapsed": false
   },
   "outputs": [
    {
     "name": "stdout",
     "output_type": "stream",
     "text": [
      "[  8.78011096e-09   8.25225359e-09   3.25650744e-09]\n",
      "[ 0.32427764  0.04757782  0.43033839]\n"
     ]
    }
   ],
   "source": [
    "dt = np.random.uniform(0, 10e-9, 3)\n",
    "epsn_z = np.random.uniform(0, 0.5, 3)\n",
    "print dt\n",
    "print epsn_z"
   ]
  },
  {
   "cell_type": "code",
   "execution_count": 7,
   "metadata": {
    "collapsed": true
   },
   "outputs": [],
   "source": [
    "T0 = circumference/beta/c\n",
    "dt = (0, 2.5e-9, 7.5e-9, T0+0, T0+2.5e-9, T0+7.5e-9)\n",
    "epsn_z = (0.35, 0.25, 0.1, 0.35, 0.25, 0.1)\n",
    "# epsn_z = (0.1, 0.25, 0.35, 0.1, 0.25, 0.35)"
   ]
  },
  {
   "cell_type": "code",
   "execution_count": 8,
   "metadata": {
    "collapsed": false
   },
   "outputs": [
    {
     "name": "stdout",
     "output_type": "stream",
     "text": [
      "*** Maximum RMS emittance 1.12145002894eV s.\n",
      "... distance to target emittance: 2.50e-02\n",
      "... distance to target emittance: 2.51e-02\n",
      "... distance to target emittance: -1.77e-04\n",
      "--> Emittance: 0.350001068509\n",
      "--> Bunch length:0.164249527414"
     ]
    },
    {
     "name": "stderr",
     "output_type": "stream",
     "text": [
      "/home/kli/workspace/PyHEADTAIL/particles/generators.py:330: VisibleDeprecationWarning: using a non-integer number instead of an integer will result in an error in the future\n",
      "  coords = [np.random.normal(loc=0., scale=std, size=n_particles),\n",
      "/home/kli/workspace/PyHEADTAIL/particles/generators.py:331: VisibleDeprecationWarning: using a non-integer number instead of an integer will result in an error in the future\n",
      "  np.random.normal(loc=0., scale=std, size=n_particles)]\n",
      "/home/kli/workspace/PyHEADTAIL/particles/generators.py:530: VisibleDeprecationWarning: using a non-integer number instead of an integer will result in an error in the future\n",
      "  u = uniform(low=xmin, high=xmax, size=n_gen)\n"
     ]
    },
    {
     "name": "stdout",
     "output_type": "stream",
     "text": [
      "\n",
      "*** Maximum RMS emittance 1.12145002894eV s.\n",
      "... distance to target emittance: 1.35e-02\n",
      "... distance to target emittance: 1.36e-02\n",
      "... distance to target emittance: 2.72e-05\n",
      "--> Emittance: 0.250000058984\n",
      "--> Bunch length:0.137176493154\n",
      "*** Maximum RMS emittance 1.12145002894eV s.\n",
      "... distance to target emittance: 1.90e-03\n",
      "... distance to target emittance: 2.02e-03\n",
      "... distance to target emittance: 7.91e-07\n",
      "--> Emittance: 0.100000000329\n",
      "--> Bunch length:0.0853883539502\n",
      "*** Maximum RMS emittance 1.12145002894eV s.\n",
      "... distance to target emittance: 2.50e-02\n",
      "... distance to target emittance: 2.51e-02\n",
      "... distance to target emittance: -1.77e-04\n",
      "--> Emittance: 0.350001068509\n",
      "--> Bunch length:0.164249527414\n",
      "*** Maximum RMS emittance 1.12145002894eV s.\n",
      "... distance to target emittance: 1.35e-02\n",
      "... distance to target emittance: 1.36e-02\n",
      "... distance to target emittance: 2.72e-05\n",
      "--> Emittance: 0.250000058984\n",
      "--> Bunch length:0.137176493154\n",
      "*** Maximum RMS emittance 1.12145002894eV s.\n",
      "... distance to target emittance: 1.90e-03\n",
      "... distance to target emittance: 2.02e-03\n",
      "... distance to target emittance: 7.91e-07\n",
      "--> Emittance: 0.100000000329\n",
      "--> Bunch length:0.0853883539502\n"
     ]
    },
    {
     "name": "stderr",
     "output_type": "stream",
     "text": [
      "/home/kli/workspace/PyHEADTAIL/particles/generators.py:531: VisibleDeprecationWarning: using a non-integer number instead of an integer will result in an error in the future\n",
      "  v = uniform(low=ymin, high=ymax, size=n_gen)\n",
      "/home/kli/workspace/PyHEADTAIL/particles/generators.py:532: VisibleDeprecationWarning: using a non-integer number instead of an integer will result in an error in the future\n",
      "  s = uniform(size=n_gen)\n"
     ]
    }
   ],
   "source": [
    "bunches_list = [\n",
    "    gen.ParticleGenerator(\n",
    "        macroparticlenumber=1e5, intensity=1e11,\n",
    "        charge=e, mass=m_p, gamma=gamma,\n",
    "        circumference=circumference,\n",
    "        distribution_x=gen.gaussian2D(2e-6),\n",
    "        distribution_y=gen.gaussian2D(2e-6),\n",
    "        distribution_z=gen.RF_bucket_distribution(rfbucket, epsn_z=epsn_z[i])\n",
    "    ).generate() for i in xrange(6)]\n",
    "\n",
    "# bunches_list = [deepcopy(b) for i in range(2) for b in bunches_list]\n",
    "for i, b in enumerate(bunches_list):\n",
    "    b.z -= dt[i] * (b.beta*c)\n",
    "    b.dt = dt[i]\n",
    "\n",
    "bunches = sum(bunches_list)\n",
    "bunches.dt = dt[0]"
   ]
  },
  {
   "cell_type": "code",
   "execution_count": 9,
   "metadata": {
    "collapsed": false
   },
   "outputs": [
    {
     "name": "stdout",
     "output_type": "stream",
     "text": [
      "[<PyHEADTAIL.particles.particles.Particles object at 0x7f67f1f2ac50>, <PyHEADTAIL.particles.particles.Particles object at 0x7f67f1f2add0>, <PyHEADTAIL.particles.particles.Particles object at 0x7f67f1f2af90>, <PyHEADTAIL.particles.particles.Particles object at 0x7f67f1ec2190>, <PyHEADTAIL.particles.particles.Particles object at 0x7f67f1ec2350>, <PyHEADTAIL.particles.particles.Particles object at 0x7f67f1ec2510>]\n",
      "[0.00065432033640587647, -0.74854430435652308, -2.2489821610391307, -40.000101823403391, -40.749698812625297, -42.248139343109045]\n",
      "[0.3500811936608908, 0.25035558827137228, 0.099318083990680511, 0.34859437850085245, 0.25011768808613033, 0.099647057149103574]\n",
      "[0, 2.5e-09, 7.5e-09, 1.3342592810823143e-07, 1.3592592810823143e-07, 1.4092592810823144e-07]\n"
     ]
    }
   ],
   "source": [
    "print bunches_list\n",
    "print [b.mean_z() for b in bunches_list]\n",
    "print [b.epsn_z() for b in bunches_list]\n",
    "print [b.dt for b in bunches_list]"
   ]
  },
  {
   "cell_type": "markdown",
   "metadata": {},
   "source": [
    "### Wakes and wake kicks and functions"
   ]
  },
  {
   "cell_type": "code",
   "execution_count": 10,
   "metadata": {
    "collapsed": false
   },
   "outputs": [],
   "source": [
    "from PyHEADTAIL.particles.slicing import UniformBinSlicer\n",
    "from PyHEADTAIL.impedances.wakes import CircularResonator, WakeField"
   ]
  },
  {
   "cell_type": "code",
   "execution_count": 11,
   "metadata": {
    "collapsed": false
   },
   "outputs": [
    {
     "name": "stdout",
     "output_type": "stream",
     "text": [
      "*** PyHEADTAIL WARNING! Acceleration not handled properly by this kind of convolution due to changing bunch length!\n",
      "*** PyHEADTAIL WARNING! Acceleration not handled properly by this kind of convolution due to changing bunch length!\n"
     ]
    }
   ],
   "source": [
    "slicer = UniformBinSlicer(60, z_cuts=(-.3, .3))\n",
    "\n",
    "wake = CircularResonator(R_shunt=1e9, frequency=1e9, Q=500, n_turns_wake=3)\n",
    "\n",
    "wakefields = WakeField(slicer, wake, circumference=circumference)\n",
    "wakekick = wakefields.wake_kicks[0]\n",
    "wakefunction = wakekick.wake_function"
   ]
  },
  {
   "cell_type": "markdown",
   "metadata": {},
   "source": [
    "### Convolutions"
   ]
  },
  {
   "cell_type": "code",
   "execution_count": 12,
   "metadata": {
    "collapsed": true
   },
   "outputs": [],
   "source": [
    "def convolution_python(t_target, t_source, c_source, w):\n",
    "    dxp = 0.*t_target\n",
    "    for k in xrange(len(t_target)):\n",
    "        for l in xrange(len(t_source)):\n",
    "            dxp[k] += c_source[l]*w(t_target[k]-t_source[l])\n",
    "\n",
    "    return dxp"
   ]
  },
  {
   "cell_type": "code",
   "execution_count": 13,
   "metadata": {
    "collapsed": true
   },
   "outputs": [],
   "source": [
    "def convolution_numpy(t_target, t_source, c_source, w):\n",
    "    tmin, tmax = t_source[0], t_source[-1]\n",
    "    tt = np.concatenate((t_target-tmax, (t_target-tmin)[1:]))\n",
    "    \n",
    "    return np.convolve(c_source, w(tt), mode='valid')"
   ]
  },
  {
   "cell_type": "code",
   "execution_count": 14,
   "metadata": {
    "collapsed": false
   },
   "outputs": [],
   "source": [
    "def convolve_multibunch(bunches, times, ages, cmoments, betas, wf, f_convolution=convolution_python):\n",
    "    dxp = []\n",
    "    bunches = np.atleast_1d(bunches)\n",
    "    \n",
    "    n_turns, n_bunches, n_slices = times.shape\n",
    "    dt = [b.dt for b in bunches]\n",
    "\n",
    "    for i in xrange(n_bunches):\n",
    "        z = 0.*times[i]\n",
    "        t_target = times[i]\n",
    "        n_bunches_infront = i+1\n",
    "        for k in xrange(n_turns):\n",
    "            if k>0:\n",
    "                n_bunches_infront = n_bunches\n",
    "            for j in range(n_bunches_infront):\n",
    "                t_source = times[k,j] - ages[k] + dt[i] - dt[j]\n",
    "                c_source = cmoments[k,j]\n",
    "                z += f_convolution(t_target, t_source, c_source, wf) # betas not used here thanks to wake\n",
    "            \n",
    "        dxp.append(z)\n",
    "        \n",
    "    return dxp"
   ]
  },
  {
   "cell_type": "code",
   "execution_count": 15,
   "metadata": {
    "collapsed": false
   },
   "outputs": [],
   "source": [
    "def convolve_PyHEADTAIL_sb(bunch, times, ages, cmoments, betas):\n",
    "    return wakekick._accumulate_source_signal(bunch, times, ages, cmoments, betas)"
   ]
  },
  {
   "cell_type": "code",
   "execution_count": 16,
   "metadata": {
    "collapsed": false
   },
   "outputs": [],
   "source": [
    "def convolve_PyHEADTAIL_mb(bunches, times, ages, cmoments, betas):\n",
    "    return wakekick._accumulate_source_signal_multibunch(bunches, times, ages, cmoments, betas)"
   ]
  },
  {
   "cell_type": "markdown",
   "metadata": {},
   "source": [
    "### Use cases\n",
    "#### Create slices and slices_list\n",
    "---"
   ]
  },
  {
   "cell_type": "code",
   "execution_count": 17,
   "metadata": {
    "collapsed": true
   },
   "outputs": [],
   "source": [
    "def get_times_and_moments(bunches_list, slicer):\n",
    "    bunches_list = np.atleast_1d(bunches_list)\n",
    "\n",
    "    slices_list = []\n",
    "    times_list = []\n",
    "    cmoments_list = []\n",
    "    for i, b in enumerate(bunches_list):\n",
    "        distance = dt[i]*b.beta*c\n",
    "        b.z += distance\n",
    "        slices_list.append(b.get_slices(slicer))\n",
    "        times_list.append(slices_list[-1].z_centers / (b.beta*c))\n",
    "        cmoments_list.append(slices_list[-1].charge_per_slice)\n",
    "        b.z -= distance\n",
    "\n",
    "    # Multi-turn multi-bunch times and moments arrays - here, only one turn assumed\n",
    "    n_turns = 1\n",
    "    n_bunches = len(bunches_list)\n",
    "    n_slices = len(times_list[0])\n",
    "\n",
    "    tmp = np.zeros((n_turns, n_bunches, n_slices))\n",
    "    tmp[0,:,:] = times_list\n",
    "    times_array = tmp\n",
    "\n",
    "    tmp = np.zeros((n_turns, n_bunches, n_slices))\n",
    "    tmp[0,:,:] = cmoments_list\n",
    "    cmoments_array = tmp\n",
    "\n",
    "    ages_list = np.array([0 for b in bunches_list])\n",
    "    betas_list = np.array([[b.beta for b in bunches_list]])\n",
    "    \n",
    "    return times_array, ages_list, cmoments_array, betas_list"
   ]
  },
  {
   "cell_type": "markdown",
   "metadata": {},
   "source": [
    "#### Single beam"
   ]
  },
  {
   "cell_type": "code",
   "execution_count": 18,
   "metadata": {
    "collapsed": false
   },
   "outputs": [],
   "source": [
    "# Single beam\n",
    "slicer = UniformBinSlicer(2000, z_cuts=(-45, .5))\n",
    "\n",
    "times, ages, cmoments, betas = get_times_and_moments(bunches, slicer)\n",
    "\n",
    "delta_xp_mb = convolve_PyHEADTAIL_mb(bunches, times, ages, cmoments, betas)\n",
    "delta_xp_np = convolve_multibunch(bunches, times, ages, cmoments, betas, wakefunction)\n",
    "# %timeit convolve_PyHEADTAIL_mb(bunches, times, ages, cmoments, betas)\n",
    "# %timeit convolve_multibunch(times_list, cmoments_list, wakefunction)\n",
    "# %timeit convolve_multibunch(times_list, cmoments_list, wakefunction, f_convolution=convolution_numpy)\n",
    "\n",
    "times_list = times[:,0,:]\n",
    "cmoments_list = cmoments[:,0,:]\n",
    "\n",
    "delta_xp_sb = convolve_PyHEADTAIL_sb(bunches, times_list, ages, cmoments_list, betas)\n",
    "# %timeit convolve_PyHEADTAIL_sb(bunches, times_list, ages, cmoments_list, betas)"
   ]
  },
  {
   "cell_type": "code",
   "execution_count": 19,
   "metadata": {
    "collapsed": false
   },
   "outputs": [
    {
     "data": {
      "text/plain": [
       "(-2.1, 2.1)"
      ]
     },
     "execution_count": 19,
     "metadata": {},
     "output_type": "execute_result"
    }
   ],
   "source": [
    "times = np.squeeze(times)\n",
    "cmoments = np.squeeze(cmoments)\n",
    "dxp1 = np.squeeze(delta_xp_mb)\n",
    "dxp2 = np.squeeze(delta_xp_sb)\n",
    "dxp3 = np.squeeze(delta_xp_np)\n",
    "\n",
    "t0 = np.concatenate((times-times[-1], (times-times[0])[1:]))\n",
    "\n",
    "col = sns.color_palette('husl', 6)\n",
    "fig, (ax1, ax2, ax3) = plt.subplots(3, figsize=(12,10))\n",
    "\n",
    "ax1.plot(t0, wakefunction(t0)[::-1]/max(wakefunction(t0)[::-1]))\n",
    "ax1.plot(times-times[-1], cmoments/max(cmoments))\n",
    "ax1.set_ylim((-1.1, 1.1))\n",
    "ax1.legend(['Bunch', 'Wake'])\n",
    "ax1.set_xlim(-11e-9, 3e-9)\n",
    "\n",
    "ax2.plot(dxp1/max(dxp1))\n",
    "ax2.plot(dxp2/max(dxp2))\n",
    "ax2.plot(-dxp3/max(-dxp3))\n",
    "ax2.legend(['PyHEADTAIL MB', 'PyHEADTAIL SB', 'Notebook manual'])\n",
    "\n",
    "ax3.plot(times-times[-1], 2*cmoments/max(cmoments))\n",
    "ax3.plot(times-times[-1], dxp1/max(dxp1), label=\"all bunches\")\n",
    "\n",
    "# ax3.plot(times_reg-times[-1], dxp_mt/max(dxp1), label=\"mt bunches\")\n",
    "\n",
    "ax3.legend()\n",
    "ax3.set_xlim(-11e-9, 3e-9)\n",
    "ax3.set_ylim(-2.1, 2.1)"
   ]
  },
  {
   "cell_type": "markdown",
   "metadata": {},
   "source": [
    "#### Multi turn test\n",
    "---"
   ]
  },
  {
   "cell_type": "code",
   "execution_count": 58,
   "metadata": {
    "collapsed": false
   },
   "outputs": [],
   "source": [
    "slicer = UniformBinSlicer(500, z_cuts=(-5, 0.5))\n",
    "\n",
    "bunches_source = sum(bunches_list[:3])\n",
    "bunches_target = sum(bunches_list[3:])\n",
    "times_s, ages_s, cmoments_s, betas_s = get_times_and_moments(bunches_source, slicer)\n",
    "times_t, ages_t, cmoments_t, betas_t = get_times_and_moments(bunches_source, slicer)\n",
    "\n",
    "bunches_target.dt = 0\n",
    "\n",
    "n_turns, n_bunches = 2, 1\n",
    "times_reg = np.zeros((n_turns, n_bunches, slicer.n_slices))\n",
    "cmoments_reg = np.zeros((n_turns, n_bunches, slicer.n_slices))\n",
    "\n",
    "times_reg[0,0,:] = times_t\n",
    "times_reg[1,0,:] = times_s\n",
    "cmoments_reg[0,0,:] = cmoments_t\n",
    "cmoments_reg[1,0,:] = cmoments_s\n",
    "\n",
    "ages = [0., T0]\n",
    "betas = [bunches_target.beta, bunches_source.beta]"
   ]
  },
  {
   "cell_type": "code",
   "execution_count": 60,
   "metadata": {
    "collapsed": false
   },
   "outputs": [],
   "source": [
    "def convolve_multibunch(bunches, times, ages, cmoments, betas, wf, f_convolution=convolution_python):\n",
    "    dxp = []\n",
    "    bunches = np.atleast_1d(bunches)\n",
    "    \n",
    "    n_turns, n_bunches, n_slices = times.shape\n",
    "#     print n_turns, n_bunches, n_slices\n",
    "    dt = [b.dt for b in bunches]\n",
    "\n",
    "    for i in xrange(n_bunches):\n",
    "        z = 0\n",
    "        t_target = times[0,i]\n",
    "        n_bunches_infront = i+1\n",
    "        for k in xrange(n_turns):\n",
    "            if k>0:\n",
    "                n_bunches_infront = n_bunches\n",
    "            for j in range(n_bunches_infront):\n",
    "                t_source = times[k,j] + ages[k] + dt[i] - dt[j]\n",
    "                print t_target[:1], t_source[:1], ages[k], n_bunches_infront, i, j, k\n",
    "                c_source = cmoments[k,j]\n",
    "                z += f_convolution(t_target, t_source, c_source, wf) # betas not used here thanks to wake\n",
    "            \n",
    "        dxp.append(z)\n",
    "        \n",
    "    return dxp"
   ]
  },
  {
   "cell_type": "code",
   "execution_count": 61,
   "metadata": {
    "collapsed": false
   },
   "outputs": [],
   "source": [
    "def convolve_PyHEADTAIL_mb(bunches, times, ages, cmoments, betas):\n",
    "    return wakekick._accumulate_source_signal_multibunch(bunches, times, ages, cmoments, betas)"
   ]
  },
  {
   "cell_type": "code",
   "execution_count": 62,
   "metadata": {
    "collapsed": false
   },
   "outputs": [
    {
     "name": "stdout",
     "output_type": "stream",
     "text": [
      "[ -1.66598949e-08] [ -1.66598949e-08] 0.0 1 0 0 0\n",
      "[ -1.66598949e-08] [  1.16766033e-07] 1.33425928108e-07 1 0 0 1\n"
     ]
    }
   ],
   "source": [
    "dxp_mt = convolve_PyHEADTAIL_mb(bunches_target, times_reg, ages, cmoments_reg, betas)\n",
    "dxp_mt_np = convolve_multibunch(bunches, times_reg, ages, cmoments_reg, betas, wakefunction)\n",
    "dxp_mt_np = np.squeeze(dxp_mt_np[0])"
   ]
  },
  {
   "cell_type": "code",
   "execution_count": 64,
   "metadata": {
    "collapsed": false
   },
   "outputs": [
    {
     "data": {
      "text/plain": [
       "(-2.1, 2.1)"
      ]
     },
     "execution_count": 64,
     "metadata": {},
     "output_type": "execute_result"
    }
   ],
   "source": [
    "times = np.squeeze(times)\n",
    "cmoments = np.squeeze(cmoments)\n",
    "dxp1 = np.squeeze(delta_xp_mb)\n",
    "dxp2 = np.squeeze(delta_xp_sb)\n",
    "dxp3 = np.squeeze(delta_xp_np)\n",
    "\n",
    "t0 = np.concatenate((times-times[-1], (times-times[0])[1:]))\n",
    "\n",
    "col = sns.color_palette('husl', 6)\n",
    "fig, (ax1, ax2, ax3) = plt.subplots(3, figsize=(12,10))\n",
    "\n",
    "ax1.plot(t0, wakefunction(t0)[::-1]/max(wakefunction(t0)[::-1]))\n",
    "ax1.plot(times-times[-1], cmoments/max(cmoments))\n",
    "ax1.set_ylim((-1.1, 1.1))\n",
    "ax1.legend(['Bunch', 'Wake'])\n",
    "ax1.set_xlim(-11e-9, 3e-9)\n",
    "\n",
    "ax2.plot(dxp1/max(dxp1))\n",
    "ax2.plot(dxp2/max(dxp2))\n",
    "ax2.plot(-dxp3/max(-dxp3))\n",
    "ax2.legend(['PyHEADTAIL MB', 'PyHEADTAIL SB', 'Notebook manual'])\n",
    "\n",
    "ax3.plot(times-times[-1], 2*cmoments/max(cmoments))\n",
    "ax3.plot(times-times[-1], dxp1/max(dxp1), label=\"all bunches\")\n",
    "\n",
    "for i in range(n_turns):\n",
    "    ax3.plot(times_reg[i,0,:]-times[-1]-ages[i], dxp_mt[0]/max(dxp_mt[0]))\n",
    "    ax3.plot(times_reg[i,0,:]-times[-1]-ages[i], -dxp_mt_np/max(-dxp_mt_np))\n",
    "    ax3.plot(times_reg[i,0,:]-times[-1]-ages[i], 2*cmoments_reg[i,0,:]/max(cmoments_reg[i,0,:]), c='y')\n",
    "\n",
    "ax3.legend()\n",
    "# ax3.set_xlim(-11e-9, 3e-9)\n",
    "ax3.set_ylim(-2.1, 2.1)"
   ]
  },
  {
   "cell_type": "markdown",
   "metadata": {},
   "source": [
    "#### Multiple bunches"
   ]
  },
  {
   "cell_type": "code",
   "execution_count": null,
   "metadata": {
    "collapsed": false
   },
   "outputs": [],
   "source": [
    "slicer = UniformBinSlicer(60, z_cuts=(-.3, .3))\n",
    "\n",
    "times_list, ages, cmoments_list, betas = get_times_and_moments(bunches_list, slicer)\n",
    "\n",
    "delta_xp_mb_l = convolve_PyHEADTAIL_mb(bunches_list, times_list, ages, cmoments_list, betas)\n",
    "# %timeit convolve_PyHEADTAIL_mb(bunches, times, ages, cmoments, betas)\n",
    "\n",
    "delta_xp_sb_l = []\n",
    "delta_xp_np_l = []\n",
    "for i, b in enumerate(bunches_list):\n",
    "    delta_xp_sb_l.append(convolve_PyHEADTAIL_sb(\n",
    "            b, times_list[:,i,:], ages, cmoments_list[:,i,:], betas))\n",
    "    delta_xp_np_l.append(convolve_multibunch(\n",
    "            times_list[:,i,:], cmoments_list[:,i,:], wakefunction, f_convolution=convolution_numpy))"
   ]
  },
  {
   "cell_type": "code",
   "execution_count": null,
   "metadata": {
    "collapsed": false
   },
   "outputs": [],
   "source": [
    "times = np.squeeze(times)\n",
    "cmoments = np.squeeze(cmoments)\n",
    "dxp1 = np.squeeze(delta_xp_mb)\n",
    "dxp2 = np.squeeze(delta_xp_sb)\n",
    "dxp3 = np.squeeze(delta_xp_np)\n",
    "\n",
    "dxp1_l = np.squeeze(delta_xp_mb_l)\n",
    "dxp2_l = np.squeeze(delta_xp_sb_l)\n",
    "dxp3_l = np.squeeze(delta_xp_np_l)\n",
    "\n",
    "t0 = np.concatenate((times-times[-1], (times-times[0])[1:]))\n",
    "\n",
    "col = sns.color_palette('husl', 7)\n",
    "fig, (ax1, ax2, ax3) = plt.subplots(3, figsize=(12,10))\n",
    "\n",
    "ax1.plot(t0, wakefunction(t0)[::-1]/max(wakefunction(t0)[::-1]))\n",
    "ax1.plot(times-times[-1], cmoments/max(cmoments))\n",
    "ax1.set_ylim((-1.1, 1.1))\n",
    "ax1.legend(['Bunch', 'Wake'])\n",
    "ax1.set_xlim(-11e-9, 3e-9)\n",
    "\n",
    "ax2.plot(dxp1/max(dxp1))\n",
    "ax2.plot(dxp2/max(dxp2))\n",
    "ax2.plot(-dxp3/max(-dxp3))\n",
    "ax2.legend(['PyHEADTAIL MB', 'PyHEADTAIL SB', 'Notebook manual'])\n",
    "\n",
    "ax3.plot(times-times[-1], 2*cmoments/max(cmoments), '--')\n",
    "ax3.plot(times-times[-1], dxp1/max(dxp1), '--', label=\"all bunches\")\n",
    "\n",
    "labels = [\"first bunch\", \"second bunch\", \"third bunch\"]\n",
    "for i in xrange(len(bunches_list)):\n",
    "    tml = np.squeeze(times_list[:,i,:])\n",
    "    cml = np.squeeze(cmoments_list[:,i,:])\n",
    "    ax3.plot(tml-times[-1]-dt[i], 2*cml/np.max(cmoments_list), c=col[i], label=labels[i])\n",
    "    ax3.plot(tml-times[-1]-dt[i], dxp1_l[i]/max(dxp1), c=col[i+3])\n",
    "\n",
    "#     [ax3.axvline(s, c=c[0], alpha=0.8) for s in (dts-dts[-1])]\n",
    "#     [ax3.axvline(s, c=c[1], alpha=0.8) for s in (dts-dts[-1]-dt[i])]\n",
    "#     [ax3.axvline(s, c=c[2], alpha=0.8) for s in (alltimes-alltimes[-1])]\n",
    "\n",
    "ax3.legend()\n",
    "ax3.set_xlim(-11e-9, 3e-9)\n",
    "ax3.set_ylim(-2.1, 2.1)"
   ]
  },
  {
   "cell_type": "code",
   "execution_count": null,
   "metadata": {
    "collapsed": false
   },
   "outputs": [],
   "source": [
    "plt.close('all')"
   ]
  }
 ],
 "metadata": {
  "kernelspec": {
   "display_name": "Python 2",
   "language": "python",
   "name": "python2"
  },
  "language_info": {
   "codemirror_mode": {
    "name": "ipython",
    "version": 2
   },
   "file_extension": ".py",
   "mimetype": "text/x-python",
   "name": "python",
   "nbconvert_exporter": "python",
   "pygments_lexer": "ipython2",
   "version": "2.7.9"
  }
 },
 "nbformat": 4,
 "nbformat_minor": 0
}

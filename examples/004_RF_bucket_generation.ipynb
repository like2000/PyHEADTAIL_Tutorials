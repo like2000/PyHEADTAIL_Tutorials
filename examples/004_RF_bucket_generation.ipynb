{
 "cells": [
  {
   "cell_type": "code",
   "execution_count": 1,
   "metadata": {
    "collapsed": false
   },
   "outputs": [
    {
     "name": "stderr",
     "output_type": "stream",
     "text": [
      "/usr/lib64/python2.7/site-packages/matplotlib/__init__.py:872: UserWarning: axes.color_cycle is deprecated and replaced with axes.prop_cycle; please use the latter.\n",
      "  warnings.warn(self.msg_depr % (key, alt_key))\n"
     ]
    }
   ],
   "source": [
    "import numpy as np\n",
    "import matplotlib.pyplot as plt\n",
    "from scipy.constants import c, e, m_p\n",
    "from scipy.signal import fftconvolve\n",
    "\n",
    "%matplotlib tk\n",
    "import seaborn as sns\n",
    "sns.set_context('notebook', font_scale=1.5,\n",
    "                rc={'lines.markeredgewidth': 1})\n",
    "sns.set_style('darkgrid', {\n",
    "        'axes.linewidth': 2,\n",
    "        'legend.fancybox': True})"
   ]
  },
  {
   "cell_type": "markdown",
   "metadata": {},
   "source": [
    "## Bunch creation\n",
    "\n",
    "We create a bunch. No fancy wrapper function available yet to produce a RF matched distribution. A little tedious because it requires quite some definitions to be done beforehand of the full RF System - but that's due to the nature of the problem.\n",
    "\n",
    "- Some beam kinetic parameters and RF machine parameters"
   ]
  },
  {
   "cell_type": "code",
   "execution_count": 139,
   "metadata": {
    "collapsed": false
   },
   "outputs": [],
   "source": [
    "from PyHEADTAIL.trackers.simple_long_tracking import RFSystems\n",
    "from PyHEADTAIL.trackers.rf_bucket import RFBucket\n",
    "from PyHEADTAIL.particles.generators import ParticleGenerator, StationaryExponential\n",
    "from PyHEADTAIL.particles.generators import gaussian2D, longitudinal_linear_matcher, RF_bucket_distribution"
   ]
  },
  {
   "cell_type": "markdown",
   "metadata": {},
   "source": [
    "### SPS"
   ]
  },
  {
   "cell_type": "code",
   "execution_count": 140,
   "metadata": {
    "collapsed": false
   },
   "outputs": [],
   "source": [
    "# Machine\n",
    "C      = 6911.\n",
    "R      = C/(2*np.pi)\n",
    "\n",
    "p0     = 26e9 * e/c\n",
    "gamma  = np.sqrt(1 + (p0/(m_p*c))**2)\n",
    "\n",
    "alpha  = 1/18**2\n",
    "eta    = alpha - 1/gamma**2\n",
    "V      = [4e6, -1e6]\n",
    "h      = [4620, 18480]\n",
    "dphi   = [np.pi, 0]\n",
    "\n",
    "# Acceleration\n",
    "beta          = np.sqrt(1-1/gamma**2)\n",
    "T0            = C/(beta*c)\n",
    "normalisation = 1/C * e/p0 * T0\n",
    "dp            = 0*3.98e6 * e/c\n",
    "# dp            = -1e6 * e/c"
   ]
  },
  {
   "cell_type": "markdown",
   "metadata": {},
   "source": [
    "### LHC"
   ]
  },
  {
   "cell_type": "code",
   "execution_count": 79,
   "metadata": {
    "collapsed": false
   },
   "outputs": [
    {
     "name": "stdout",
     "output_type": "stream",
     "text": [
      "479.606062093\n"
     ]
    }
   ],
   "source": [
    "momentum = 450e9 * e/c\n",
    "gamma = np.sqrt((momentum/(m_p*c))**2 + 1)\n",
    "beta = np.sqrt(1 - gamma**-2)\n",
    "\n",
    "circumference = 26658.883\n",
    "alpha = 3.225e-4\n",
    "h1 = 35640\n",
    "V1 = 8e6\n",
    "p_increment = 0 * e/c * circumference/(beta*c)\n",
    "\n",
    "print gamma"
   ]
  },
  {
   "cell_type": "code",
   "execution_count": 127,
   "metadata": {
    "collapsed": false
   },
   "outputs": [],
   "source": [
    "rfbucket = RFBucket(\n",
    "    charge=e, mass=m_p, gamma=gamma,\n",
    "    circumference=C,\n",
    "    alpha_array=[alpha], p_increment=dp,\n",
    "    harmonic_list=h, voltage_list=V, phi_offset_list=dphi)"
   ]
  },
  {
   "cell_type": "code",
   "execution_count": 128,
   "metadata": {
    "collapsed": false
   },
   "outputs": [],
   "source": [
    "eps_geo_z = 0.1 * e / (4. * np.pi * p0)\n",
    "\n",
    "bunch = ParticleGenerator(\n",
    "    macroparticlenumber=1e5, intensity=1e11,\n",
    "    charge=e, mass=m_p, gamma=gamma,\n",
    "    circumference=C,\n",
    "    distribution_x=gaussian2D(2e-6),\n",
    "    distribution_y=gaussian2D(2e-6),\n",
    "    distribution_z=gaussian2D(eps_geo_z), Qs=0.01, eta=eta).generate()\n",
    "#     distribution_z=RF_bucket_distribution(rfbucket, sigma_z=0.23)).generate()"
   ]
  },
  {
   "cell_type": "code",
   "execution_count": 138,
   "metadata": {
    "collapsed": false
   },
   "outputs": [],
   "source": [
    "fig = plt.figure(figsize=(16,10))\n",
    "ax1 = fig.add_subplot(111)\n",
    "hh = rfbucket.hamiltonian(bunch.z, bunch.dp)\n",
    "zz = np.linspace(-.8, .8, 1000)\n",
    "ss = rfbucket.separatrix(zz)\n",
    "\n",
    "ax1.plot(zz, +ss, c='orange', lw=2)\n",
    "ax1.plot(zz, -ss, c='orange', lw=2)\n",
    "ax1.scatter(bunch.z, bunch.dp, c=hh, marker='.', cmap=plt.cm.viridis_r)\n",
    "ax1.set_xlim(-.9, .9)\n",
    "ax1.set_ylim(-5e-3, 5e-3)\n",
    "plt.xlabel(\"z [m]\")\n",
    "plt.ylabel(r\"$\\delta$\")\n",
    "plt.show()"
   ]
  },
  {
   "cell_type": "code",
   "execution_count": 135,
   "metadata": {
    "collapsed": false
   },
   "outputs": [],
   "source": [
    "long_map = RFSystems(\n",
    "    circumference=C,\n",
    "    harmonic_list=h, voltage_list=V, phi_offset_list=dphi, alpha_array=[alpha],\n",
    "    gamma_reference=gamma, p_increment=dp, mass=m_p, charge=e)"
   ]
  },
  {
   "cell_type": "code",
   "execution_count": 136,
   "metadata": {
    "collapsed": false
   },
   "outputs": [],
   "source": [
    "plt.close('all')\n",
    "plt.ion()\n",
    "fig, ax1 = plt.subplots(1, figsize=(16, 10))\n",
    "\n",
    "nturns = 100\n",
    "turns = np.arange(nturns)\n",
    "mean_z = 0.*turns\n",
    "mean_dp = 0.*turns\n",
    "sigma_z = 0.*turns\n",
    "epsn_z = 0.*turns\n",
    "for i in xrange(nturns):\n",
    "#     print '{:d} of {:d}\\r'.format(i, nturns)\n",
    "    long_map.track(bunch)\n",
    "    mean_z[i] = bunch.mean_z()\n",
    "    mean_dp[i] = bunch.mean_dp()\n",
    "    sigma_z[i] = bunch.sigma_z()\n",
    "    epsn_z[i] = bunch.epsn_z()\n",
    "    if i%2==0:\n",
    "        ax1.plot(zz, +ss, c='orange', lw=2)\n",
    "        ax1.plot(zz, -ss, c='orange', lw=2)\n",
    "        ax1.plot(bunch.z[::10], bunch.dp[::10], '.')\n",
    "        plt.pause(0.1)\n",
    "        plt.draw()\n",
    "        plt.cla()\n",
    "\n",
    "plt.ioff()\n",
    "plt.close('all')"
   ]
  },
  {
   "cell_type": "code",
   "execution_count": 132,
   "metadata": {
    "collapsed": false
   },
   "outputs": [],
   "source": [
    "fig, (ax1, ax2) = plt.subplots(2, figsize=(16,10), sharex=True)\n",
    "\n",
    "ax1.plot(turns, mean_z)\n",
    "ax1.set_ylabel(r\"$\\mu_z$ [m]\")\n",
    "ax1.set_ylim(-1, 1)\n",
    "ax2.plot(turns, sigma_z)\n",
    "ax2.set_xlabel(\"z [m]\")\n",
    "ax2.set_ylabel(r\"$\\sigma_z$ [eV s]\")\n",
    "ax2.set_ylim(0, 0.5)\n",
    "\n",
    "plt.show()"
   ]
  },
  {
   "cell_type": "markdown",
   "metadata": {},
   "source": [
    "## Wakes, slicing, convolution etc."
   ]
  },
  {
   "cell_type": "markdown",
   "metadata": {},
   "source": [
    "The CircularResonator wake is a special resonator wake with Yokoya factors X1=1, Y1=1, X2=0, Y2=0\n",
    "\n",
    "functions transverse and longitudinal are actually meant to be used internally when building the wake kicks - at this point they are concatenated with the respective Yokoya factor being applied/provided. For visualisation we can also build them externally manually."
   ]
  },
  {
   "cell_type": "code",
   "execution_count": 19,
   "metadata": {
    "collapsed": false
   },
   "outputs": [],
   "source": [
    "from PyHEADTAIL.impedances.wakes import CircularResonator, \\\n",
    "    WakeField, check_wake_sampling\n",
    "from PyHEADTAIL.particles.slicing import UniformBinSlicer"
   ]
  },
  {
   "cell_type": "code",
   "execution_count": 29,
   "metadata": {
    "collapsed": false
   },
   "outputs": [
    {
     "name": "stdout",
     "output_type": "stream",
     "text": [
      "*** PyHEADTAIL WARNING! Acceleration not handled properly by this kind of convolution due to changing bunch length!\n",
      "*** PyHEADTAIL WARNING! Acceleration not handled properly by this kind of convolution due to changing bunch length!\n"
     ]
    }
   ],
   "source": [
    "wake = CircularResonator(R_shunt=1e9, frequency=1e9, Q=20)\n",
    "slicer = UniformBinSlicer(60, z_cuts=(-.3, .3))\n",
    "\n",
    "wakefields = WakeField(slicer, wake)\n",
    "kick = wakefields.wake_kicks[0]\n",
    "wf = kick.wake_function\n",
    "\n",
    "slices = []\n",
    "times, cmoments = [], []\n",
    "for i, b in enumerate(bunches):\n",
    "    distance = dt[i]*b.beta*c\n",
    "    b.z += distance\n",
    "    slices.append(b.get_slices(slicer))\n",
    "    times.append(slices[-1].z_centers / (b.beta*c))\n",
    "    cmoments.append(slices[-1].charge_per_slice)\n",
    "    b.z -= distance\n",
    "\n",
    "slices1, slices2, slices3 = slices\n",
    "times1, times2, times3 = times\n",
    "cmoments1, cmoments2, cmoments3 = cmoments"
   ]
  },
  {
   "cell_type": "code",
   "execution_count": 21,
   "metadata": {
    "collapsed": false
   },
   "outputs": [],
   "source": [
    "col = sns.hls_palette(6, l=.3, s=.8)\n",
    "\n",
    "fig, axes = plt.subplots(len(slices), figsize=(12,6))\n",
    "\n",
    "for i, ax in enumerate(axes):\n",
    "    [ax.axvline(s, c=col[0]) for s in slices[i].z_centers]\n",
    "    [ax.axvline(s, c=col[2]) for s in [slices[i].z_cut_tail, slices[i].z_cut_head]]\n",
    "    ax.plot(slices[i].z_centers, slices[i].charge_per_slice, '-o')\n",
    "    ax.set_xlim(-.4, .4)\n",
    "\n",
    "plt.show()"
   ]
  },
  {
   "cell_type": "markdown",
   "metadata": {},
   "source": [
    "## Convolutions"
   ]
  },
  {
   "cell_type": "code",
   "execution_count": 82,
   "metadata": {
    "collapsed": false
   },
   "outputs": [],
   "source": [
    "def convolution_python(t_target, t_source, c_source, w):\n",
    "    dxp = 0.*t_target\n",
    "    for k in xrange(len(t_target)):\n",
    "        for l in xrange(len(t_source)):\n",
    "            dxp[k] += c_source[l]*w(t_target[k]-t_source[l])\n",
    "\n",
    "    return dxp"
   ]
  },
  {
   "cell_type": "code",
   "execution_count": 88,
   "metadata": {
    "collapsed": true
   },
   "outputs": [],
   "source": [
    "def convolution_numpy(t_target, t_source, c_source, w):\n",
    "    tmin, tmax = t_source[0], t_source[-1]\n",
    "    tt = np.concatenate((t_target-tmax, (t_target-tmin)[1:]))\n",
    "    \n",
    "    return np.convolve(c_source, w(tt), mode='valid')"
   ]
  },
  {
   "cell_type": "code",
   "execution_count": 84,
   "metadata": {
    "collapsed": true
   },
   "outputs": [],
   "source": [
    "def convolution_scipy(t, x, w):\n",
    "    tmin, tmax = t[0], t[-1]\n",
    "    tt = np.concatenate((t-tmax, (t-tmin)[1:]))\n",
    "    \n",
    "    return fftconvolve(w(tt), x, mode='valid')"
   ]
  },
  {
   "cell_type": "code",
   "execution_count": 91,
   "metadata": {
    "collapsed": true
   },
   "outputs": [],
   "source": [
    "def convolution_multibunch_numpy(times, moments, wf, dt):\n",
    "    \n",
    "    dxp = []\n",
    "    if dt is None: dt = 0.*np.array(times)\n",
    "    for i in xrange(len(times)):\n",
    "        z = 0.*times[i]\n",
    "        t_target = times[i]\n",
    "        for j in range(i+1):\n",
    "            t_source = times[j] + dt[i] - dt[j]\n",
    "            c_source = moments[j]\n",
    "            z += convolution_numpy(t_target, t_source, c_source, wf)\n",
    "            \n",
    "        dxp.append(z)\n",
    "        \n",
    "    return dxp"
   ]
  },
  {
   "cell_type": "code",
   "execution_count": null,
   "metadata": {
    "collapsed": true
   },
   "outputs": [],
   "source": [
    "def convolution_multibunch_numpy(times, cmoments, wf, dt):\n",
    "    dts = times[i]\n",
    "    t0 = np.concatenate((dts-dts[-1], (dts-dts[0])[1:]))\n",
    "\n",
    "    dxp = np.convolve(s.charge_per_slice, wf(t0))\n",
    "    dxp_s = np.convolve(s.charge_per_slice, wf(t0), mode='same')\n",
    "    dxp_v = np.convolve(s.charge_per_slice, wf(t0), mode='valid')\n",
    "\n",
    "    for j in range(i):\n",
    "        print i, j, dt[i-j]\n",
    "        t_sources = times[j] + dt[i]-dt[j]\n",
    "        t2 = np.concatenate((dts-t_sources[-1], (dts-t_sources[0])[1:]))\n",
    "\n",
    "        dxp += np.convolve(slices[j].charge_per_slice, wf(t2))\n",
    "        dxp_s += np.convolve(slices[j].charge_per_slice, wf(t2), mode='same')\n",
    "        dxp_v += np.convolve(slices[j].charge_per_slice, wf(t2), mode='valid')\n",
    "    \n",
    "    dxp_list.append(dxp_v)"
   ]
  },
  {
   "cell_type": "code",
   "execution_count": 85,
   "metadata": {
    "collapsed": true
   },
   "outputs": [],
   "source": [
    "def convolve_multibunch(times, moments, wf, dt=None):\n",
    "    dxp = []\n",
    "    if dt is None: dt = 0.*np.array(times)\n",
    "    for i in xrange(len(times)):\n",
    "        z = 0.*times[i]\n",
    "        t_target = times[i]\n",
    "        for j in range(i+1):\n",
    "            t_source = times[j] + dt[i] - dt[j]\n",
    "            c_source = moments[j]\n",
    "            z += convolution_python(t_target, t_source, c_source, wf)\n",
    "            \n",
    "        dxp.append(z)\n",
    "        \n",
    "    return dxp"
   ]
  },
  {
   "cell_type": "code",
   "execution_count": null,
   "metadata": {
    "collapsed": false
   },
   "outputs": [],
   "source": [
    "plt.close('all')"
   ]
  }
 ],
 "metadata": {
  "kernelspec": {
   "display_name": "Python 2",
   "language": "python",
   "name": "python2"
  },
  "language_info": {
   "codemirror_mode": {
    "name": "ipython",
    "version": 2
   },
   "file_extension": ".py",
   "mimetype": "text/x-python",
   "name": "python",
   "nbconvert_exporter": "python",
   "pygments_lexer": "ipython2",
   "version": "2.7.9"
  }
 },
 "nbformat": 4,
 "nbformat_minor": 0
}

{
 "cells": [
  {
   "cell_type": "code",
   "execution_count": 1,
   "metadata": {
    "collapsed": false
   },
   "outputs": [],
   "source": [
    "%reload_ext Cython\n",
    "%reload_ext line_profiler"
   ]
  },
  {
   "cell_type": "code",
   "execution_count": 4,
   "metadata": {
    "collapsed": false
   },
   "outputs": [],
   "source": [
    "import numpy as np\n",
    "import matplotlib.pyplot as plt\n",
    "from scipy.constants import c, e, m_p\n",
    "from scipy.signal import fftconvolve\n",
    "\n",
    "%matplotlib tk\n",
    "import seaborn as sns\n",
    "sns.set_context('notebook', font_scale=1.5,\n",
    "                rc={'lines.markeredgewidth': 1})\n",
    "sns.set_style('darkgrid', {\n",
    "        'axes.linewidth': 2,\n",
    "        'legend.fancybox': True})"
   ]
  },
  {
   "cell_type": "code",
   "execution_count": 5,
   "metadata": {
    "collapsed": false
   },
   "outputs": [],
   "source": [
    "from PyHEADTAIL.trackers.rf_bucket import RFBucket\n",
    "import PyHEADTAIL.particles.generators as gen"
   ]
  },
  {
   "cell_type": "markdown",
   "metadata": {},
   "source": [
    "### Create bunches and bunches_list"
   ]
  },
  {
   "cell_type": "code",
   "execution_count": 6,
   "metadata": {
    "collapsed": false
   },
   "outputs": [
    {
     "name": "stdout",
     "output_type": "stream",
     "text": [
      "479.606062093\n"
     ]
    }
   ],
   "source": [
    "momentum = 450e9 * e/c\n",
    "gamma = np.sqrt((momentum/(m_p*c))**2 + 1)\n",
    "beta = np.sqrt(1 - gamma**-2)\n",
    "\n",
    "circumference = 26658.883\n",
    "alpha = 3.225e-4\n",
    "h1 = 35640\n",
    "V1 = 8e6\n",
    "p_increment = 0 * e/c * circumference/(beta*c)\n",
    "\n",
    "print gamma"
   ]
  },
  {
   "cell_type": "code",
   "execution_count": 7,
   "metadata": {
    "collapsed": false
   },
   "outputs": [],
   "source": [
    "rfbucket = RFBucket(\n",
    "    charge=e, mass=m_p, gamma=gamma,\n",
    "    circumference=circumference,\n",
    "    alpha_array=[alpha], p_increment=0,\n",
    "    harmonic_list=[h1], voltage_list=[V1], phi_offset_list=[0])"
   ]
  },
  {
   "cell_type": "code",
   "execution_count": 8,
   "metadata": {
    "collapsed": false
   },
   "outputs": [
    {
     "name": "stdout",
     "output_type": "stream",
     "text": [
      "[  6.41871292e-09   7.19524847e-09   7.91539442e-09]\n",
      "[ 0.41942041  0.11852963  0.49772888]\n"
     ]
    }
   ],
   "source": [
    "dt = np.random.uniform(0, 10e-9, 3)\n",
    "epsn_z = np.random.uniform(0, 0.5, 3)\n",
    "print dt\n",
    "print epsn_z"
   ]
  },
  {
   "cell_type": "code",
   "execution_count": 9,
   "metadata": {
    "collapsed": true
   },
   "outputs": [],
   "source": [
    "dt = (0, 2.5e-9, 7.5e-9)\n",
    "epsn_z = (0.35, 0.25, 0.1)"
   ]
  },
  {
   "cell_type": "code",
   "execution_count": 11,
   "metadata": {
    "collapsed": false
   },
   "outputs": [
    {
     "name": "stdout",
     "output_type": "stream",
     "text": [
      "*** Maximum RMS emittance 0.888689919173eV s.\n",
      "... distance to target emittance: 2.32e-02\n",
      "... distance to target emittance: 2.34e-02\n",
      "... distance to target emittance: -5.11e-04\n",
      "... distance to target emittance: 1.04e-05\n",
      "--> Emittance: 0.350000004218\n",
      "--> Bunch length:0.0697492609648\n",
      "*** Maximum RMS emittance 0.888689919173eV s.\n",
      "... distance to target emittance: 1.69e-02\n",
      "... distance to target emittance: 1.70e-02\n",
      "... distance to target emittance: -4.02e-05\n",
      "--> Emittance: 0.250000069118\n",
      "--> Bunch length:0.0580813886211\n",
      "*** Maximum RMS emittance 0.888689919173eV s.\n",
      "... distance to target emittance: 2.45e-03\n",
      "... distance to target emittance: 2.57e-03\n",
      "... distance to target emittance: 1.73e-06\n",
      "--> Emittance: 0.100000001214\n",
      "--> Bunch length:0.0359672667212\n"
     ]
    }
   ],
   "source": [
    "bunches_list = [\n",
    "    gen.ParticleGenerator(\n",
    "        macroparticlenumber=1e5, intensity=1e11,\n",
    "        charge=e, mass=m_p, gamma=gamma,\n",
    "        circumference=26658.883,\n",
    "        distribution_x=gen.gaussian2D(2e-6),\n",
    "        distribution_y=gen.gaussian2D(2e-6),\n",
    "        distribution_z=gen.RF_bucket_distribution(rfbucket, epsn_z=epsn_z[i])\n",
    "    ).generate() for i in xrange(3)]\n",
    "\n",
    "for i, b in enumerate(bunches_list):\n",
    "    b.z -= dt[i] * (b.beta*c)\n",
    "    b.dt = dt[i]\n",
    "\n",
    "bunches = sum(bunches_list)\n",
    "bunches.dt = dt[0]"
   ]
  },
  {
   "cell_type": "markdown",
   "metadata": {},
   "source": [
    "### Wakes and wake kicks and functions"
   ]
  },
  {
   "cell_type": "code",
   "execution_count": 12,
   "metadata": {
    "collapsed": false
   },
   "outputs": [],
   "source": [
    "from PyHEADTAIL.particles.slicing import UniformBinSlicer\n",
    "from PyHEADTAIL.impedances.wakes import CircularResonator, WakeField"
   ]
  },
  {
   "cell_type": "code",
   "execution_count": 14,
   "metadata": {
    "collapsed": false
   },
   "outputs": [
    {
     "name": "stdout",
     "output_type": "stream",
     "text": [
      "*** PyHEADTAIL WARNING! Acceleration not handled properly by this kind of convolution due to changing bunch length!\n",
      "*** PyHEADTAIL WARNING! Acceleration not handled properly by this kind of convolution due to changing bunch length!\n"
     ]
    }
   ],
   "source": [
    "slicer = UniformBinSlicer(60, z_cuts=(-.3, .3))\n",
    "\n",
    "wake = CircularResonator(R_shunt=1e9, frequency=1e9, Q=20)\n",
    "\n",
    "wakefields = WakeField(slicer, wake)\n",
    "wakekick = wakefields.wake_kicks[0]\n",
    "wakefunction = wakekick.wake_function"
   ]
  },
  {
   "cell_type": "markdown",
   "metadata": {},
   "source": [
    "### Convolutions"
   ]
  },
  {
   "cell_type": "code",
   "execution_count": 15,
   "metadata": {
    "collapsed": true
   },
   "outputs": [],
   "source": [
    "def convolution_python(t_target, t_source, c_source, w):\n",
    "    dxp = 0.*t_target\n",
    "    for k in xrange(len(t_target)):\n",
    "        for l in xrange(len(t_source)):\n",
    "            dxp[k] += c_source[l]*w(t_target[k]-t_source[l])\n",
    "\n",
    "    return dxp"
   ]
  },
  {
   "cell_type": "code",
   "execution_count": 16,
   "metadata": {
    "collapsed": true
   },
   "outputs": [],
   "source": [
    "def convolution_numpy(t_target, t_source, c_source, w):\n",
    "    tmin, tmax = t_source[0], t_source[-1]\n",
    "    tt = np.concatenate((t_target-tmax, (t_target-tmin)[1:]))\n",
    "    \n",
    "    return np.convolve(c_source, w(tt), mode='valid')"
   ]
  },
  {
   "cell_type": "code",
   "execution_count": 17,
   "metadata": {
    "collapsed": false
   },
   "outputs": [],
   "source": [
    "def convolve_multibunch(times, moments, wf, dt=None, f_convolution=convolution_python):\n",
    "    dxp = []\n",
    "    if dt is None: dt = 0.*np.array(times)\n",
    "    for i in xrange(len(times)):\n",
    "        z = 0.*times[i]\n",
    "        t_target = times[i]\n",
    "        for j in range(i+1):\n",
    "            t_source = times[j] + dt[i] - dt[j]\n",
    "            c_source = moments[j]\n",
    "            z += f_convolution(t_target, t_source, c_source, wf)\n",
    "            \n",
    "        dxp.append(z)\n",
    "        \n",
    "    return dxp"
   ]
  },
  {
   "cell_type": "code",
   "execution_count": 18,
   "metadata": {
    "collapsed": false
   },
   "outputs": [],
   "source": [
    "def convolve_PyHEADTAIL_sb(bunch, times, ages, cmoments, betas):\n",
    "    return wakekick._accumulate_source_signal(bunch, times, ages, cmoments, betas)"
   ]
  },
  {
   "cell_type": "code",
   "execution_count": 19,
   "metadata": {
    "collapsed": false
   },
   "outputs": [],
   "source": [
    "def convolve_PyHEADTAIL_mb(bunches, times, ages, cmoments, betas):\n",
    "    return wakekick._accumulate_source_signal_multibunch(bunches, times, ages, cmoments, betas)"
   ]
  },
  {
   "cell_type": "markdown",
   "metadata": {},
   "source": [
    "### Use cases\n",
    "#### Create slices and slices_list\n",
    "---"
   ]
  },
  {
   "cell_type": "code",
   "execution_count": 21,
   "metadata": {
    "collapsed": true
   },
   "outputs": [],
   "source": [
    "def get_times_and_moments(bunches_list, slicer):\n",
    "    bunches_list = np.atleast_1d(bunches_list)\n",
    "\n",
    "    slices_list = []\n",
    "    times_list = []\n",
    "    cmoments_list = []\n",
    "    for i, b in enumerate(bunches_list):\n",
    "        distance = dt[i]*b.beta*c\n",
    "        b.z += distance\n",
    "        slices_list.append(b.get_slices(slicer))\n",
    "        times_list.append(slices_list[-1].z_centers / (b.beta*c))\n",
    "        cmoments_list.append(slices_list[-1].charge_per_slice)\n",
    "        b.z -= distance\n",
    "\n",
    "    # Multi-turn multi-bunch times and moments arrays - here, only one turn assumed\n",
    "    n_turns = 1\n",
    "    n_bunches = len(bunches_list)\n",
    "    n_slices = len(times_list[0])\n",
    "\n",
    "    tmp = np.zeros((n_turns, n_bunches, n_slices))\n",
    "    tmp[0,:,:] = times_list\n",
    "    times_array = tmp\n",
    "\n",
    "    tmp = np.zeros((n_turns, n_bunches, n_slices))\n",
    "    tmp[0,:,:] = cmoments_list\n",
    "    cmoments_array = tmp\n",
    "\n",
    "    ages_list = np.array([0 for b in bunches_list])\n",
    "    betas_list = np.array([[b.beta for b in bunches_list]])\n",
    "    \n",
    "    return times_array, ages_list, cmoments_array, betas_list"
   ]
  },
  {
   "cell_type": "markdown",
   "metadata": {},
   "source": [
    "#### Single beam"
   ]
  },
  {
   "cell_type": "code",
   "execution_count": 22,
   "metadata": {
    "collapsed": false
   },
   "outputs": [],
   "source": [
    "# Single beam\n",
    "slicer = UniformBinSlicer(400, z_cuts=(-3, .5))\n",
    "\n",
    "times, ages, cmoments, betas = get_times_and_moments(bunches, slicer)\n",
    "\n",
    "delta_xp_mb = convolve_PyHEADTAIL_mb(bunches, times, ages, cmoments, betas)\n",
    "# %timeit convolve_PyHEADTAIL_mb(bunches, times, ages, cmoments, betas)\n",
    "\n",
    "times_list = times[:,0,:]\n",
    "cmoments_list = cmoments[:,0,:]\n",
    "\n",
    "delta_xp_sb = convolve_PyHEADTAIL_sb(bunches, times_list, ages, cmoments_list, betas)\n",
    "delta_xp_np = convolve_multibunch(times_list, cmoments_list, wakefunction)\n",
    "# %timeit convolve_PyHEADTAIL_sb(bunches, times_list, ages, cmoments_list, betas)\n",
    "# %timeit convolve_multibunch(times_list, cmoments_list, wakefunction)\n",
    "# %timeit convolve_multibunch(times_list, cmoments_list, wakefunction, f_convolution=convolution_numpy)"
   ]
  },
  {
   "cell_type": "code",
   "execution_count": 23,
   "metadata": {
    "collapsed": false
   },
   "outputs": [
    {
     "data": {
      "text/plain": [
       "(-2.1, 2.1)"
      ]
     },
     "execution_count": 23,
     "metadata": {},
     "output_type": "execute_result"
    }
   ],
   "source": [
    "times = np.squeeze(times)\n",
    "cmoments = np.squeeze(cmoments)\n",
    "dxp1 = np.squeeze(delta_xp_mb)\n",
    "dxp2 = np.squeeze(delta_xp_sb)\n",
    "dxp3 = np.squeeze(delta_xp_np)\n",
    "\n",
    "t0 = np.concatenate((times-times[-1], (times-times[0])[1:]))\n",
    "\n",
    "col = sns.color_palette('husl', 6)\n",
    "fig, (ax1, ax2, ax3) = plt.subplots(3, figsize=(12,10))\n",
    "\n",
    "ax1.plot(t0, wakefunction(t0)[::-1]/max(wakefunction(t0)[::-1]))\n",
    "ax1.plot(times-times[-1], cmoments/max(cmoments))\n",
    "ax1.set_ylim((-1.1, 1.1))\n",
    "ax1.legend(['Bunch', 'Wake'])\n",
    "ax1.set_xlim(-11e-9, 3e-9)\n",
    "\n",
    "ax2.plot(dxp1/max(dxp1))\n",
    "ax2.plot(dxp2/max(dxp2))\n",
    "ax2.plot(-dxp3/max(-dxp3))\n",
    "ax2.legend(['PyHEADTAIL MB', 'PyHEADTAIL SB', 'Notebook manual'])\n",
    "\n",
    "ax3.plot(times-times[-1], 2*cmoments/max(cmoments))\n",
    "ax3.plot(times-times[-1], dxp1/max(dxp1), label=\"all bunches\")\n",
    "\n",
    "ax3.legend()\n",
    "ax3.set_xlim(-11e-9, 3e-9)\n",
    "ax3.set_ylim(-2.1, 2.1)"
   ]
  },
  {
   "cell_type": "markdown",
   "metadata": {},
   "source": [
    "#### Multiple bunches"
   ]
  },
  {
   "cell_type": "code",
   "execution_count": 24,
   "metadata": {
    "collapsed": false
   },
   "outputs": [],
   "source": [
    "slicer = UniformBinSlicer(60, z_cuts=(-.3, .3))\n",
    "\n",
    "times_list, ages, cmoments_list, betas = get_times_and_moments(bunches_list, slicer)\n",
    "\n",
    "delta_xp_mb_l = convolve_PyHEADTAIL_mb(bunches_list, times_list, ages, cmoments_list, betas)\n",
    "# %timeit convolve_PyHEADTAIL_mb(bunches, times, ages, cmoments, betas)\n",
    "\n",
    "delta_xp_sb_l = []\n",
    "delta_xp_np_l = []\n",
    "for i, b in enumerate(bunches_list):\n",
    "    delta_xp_sb_l.append(convolve_PyHEADTAIL_sb(\n",
    "            b, times_list[:,i,:], ages, cmoments_list[:,i,:], betas))\n",
    "    delta_xp_np_l.append(convolve_multibunch(\n",
    "            times_list[:,i,:], cmoments_list[:,i,:], wakefunction, f_convolution=convolution_numpy))"
   ]
  },
  {
   "cell_type": "code",
   "execution_count": 26,
   "metadata": {
    "collapsed": false
   },
   "outputs": [
    {
     "data": {
      "text/plain": [
       "(-2.1, 2.1)"
      ]
     },
     "execution_count": 26,
     "metadata": {},
     "output_type": "execute_result"
    }
   ],
   "source": [
    "times = np.squeeze(times)\n",
    "cmoments = np.squeeze(cmoments)\n",
    "dxp1 = np.squeeze(delta_xp_mb)\n",
    "dxp2 = np.squeeze(delta_xp_sb)\n",
    "dxp3 = np.squeeze(delta_xp_np)\n",
    "\n",
    "dxp1_l = np.squeeze(delta_xp_mb_l)\n",
    "dxp2_l = np.squeeze(delta_xp_sb_l)\n",
    "dxp3_l = np.squeeze(delta_xp_np_l)\n",
    "\n",
    "t0 = np.concatenate((times-times[-1], (times-times[0])[1:]))\n",
    "\n",
    "col = sns.color_palette('husl', 7)\n",
    "fig, (ax1, ax2, ax3) = plt.subplots(3, figsize=(12,10))\n",
    "\n",
    "ax1.plot(t0, wakefunction(t0)[::-1]/max(wakefunction(t0)[::-1]))\n",
    "ax1.plot(times-times[-1], cmoments/max(cmoments))\n",
    "ax1.set_ylim((-1.1, 1.1))\n",
    "ax1.legend(['Bunch', 'Wake'])\n",
    "ax1.set_xlim(-11e-9, 3e-9)\n",
    "\n",
    "ax2.plot(dxp1/max(dxp1))\n",
    "ax2.plot(dxp2/max(dxp2))\n",
    "ax2.plot(-dxp3/max(-dxp3))\n",
    "ax2.legend(['PyHEADTAIL MB', 'PyHEADTAIL SB', 'Notebook manual'])\n",
    "\n",
    "ax3.plot(times-times[-1], 2*cmoments/max(cmoments), '--')\n",
    "ax3.plot(times-times[-1], dxp1/max(dxp1), '--', label=\"all bunches\")\n",
    "\n",
    "labels = [\"first bunch\", \"second bunch\", \"third bunch\"]\n",
    "for i in xrange(len(bunches_list)):\n",
    "    tml = np.squeeze(times_list[:,i,:])\n",
    "    cml = np.squeeze(cmoments_list[:,i,:])\n",
    "    ax3.plot(tml-times[-1]-dt[i], 2*cml/np.max(cmoments_list), c=col[i], label=labels[i])\n",
    "    ax3.plot(tml-times[-1]-dt[i], dxp1_l[i]/max(dxp1), c=col[i+3])\n",
    "\n",
    "#     [ax3.axvline(s, c=c[0], alpha=0.8) for s in (dts-dts[-1])]\n",
    "#     [ax3.axvline(s, c=c[1], alpha=0.8) for s in (dts-dts[-1]-dt[i])]\n",
    "#     [ax3.axvline(s, c=c[2], alpha=0.8) for s in (alltimes-alltimes[-1])]\n",
    "\n",
    "ax3.legend()\n",
    "ax3.set_xlim(-11e-9, 3e-9)\n",
    "ax3.set_ylim(-2.1, 2.1)"
   ]
  },
  {
   "cell_type": "code",
   "execution_count": 21,
   "metadata": {
    "collapsed": false
   },
   "outputs": [],
   "source": [
    "plt.close('all')"
   ]
  }
 ],
 "metadata": {
  "kernelspec": {
   "display_name": "Python 2",
   "language": "python",
   "name": "python2"
  },
  "language_info": {
   "codemirror_mode": {
    "name": "ipython",
    "version": 2
   },
   "file_extension": ".py",
   "mimetype": "text/x-python",
   "name": "python",
   "nbconvert_exporter": "python",
   "pygments_lexer": "ipython2",
   "version": "2.7.9"
  }
 },
 "nbformat": 4,
 "nbformat_minor": 0
}

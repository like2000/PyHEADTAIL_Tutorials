{
 "cells": [
  {
   "cell_type": "code",
   "execution_count": 5,
   "metadata": {
    "collapsed": false
   },
   "outputs": [],
   "source": [
    "import sys\n",
    "import numpy as np\n",
    "import matplotlib.pyplot as plt\n",
    "from scipy.constants import c, e, m_p\n",
    "from scipy.signal import fftconvolve\n",
    "\n",
    "%matplotlib tk\n",
    "import seaborn as sns\n",
    "sns.set_context('notebook', font_scale=1.5,\n",
    "                rc={'lines.markeredgewidth': 1})\n",
    "sns.set_style('darkgrid', {\n",
    "        'axes.linewidth': 2,\n",
    "        'legend.fancybox': True})"
   ]
  },
  {
   "cell_type": "code",
   "execution_count": 6,
   "metadata": {
    "collapsed": false
   },
   "outputs": [],
   "source": [
    "from SPS import SPS"
   ]
  },
  {
   "cell_type": "markdown",
   "metadata": {},
   "source": [
    "Here we can play with **tunes** and **n_segments** - really the combination of the two, plus the type of non-linearity, determine the resonances excited..."
   ]
  },
  {
   "cell_type": "code",
   "execution_count": 146,
   "metadata": {
    "collapsed": false
   },
   "outputs": [
    {
     "name": "stdout",
     "output_type": "stream",
     "text": [
      "Synchrotron init. From kwargs: n_segments = 3\n",
      "Synchrotron init. From kwargs: accQ_y = 20.18\n",
      "Synchrotron init. From kwargs: accQ_x = 20.24\n",
      "Synchrotron init. From kwargs: RF_at = 'end_of_transverse'\n"
     ]
    }
   ],
   "source": [
    "# =====================================\n",
    "# Input parameters\n",
    "Qx, Qy = 20.24, 20.18\n",
    "n_segments = 3#9\n",
    "n_turns = 2048\n",
    "\n",
    "# =====================================\n",
    "# Build machine\n",
    "C = np.pi*50*44\n",
    "# sps = SPS(machine_configuration='Q20-flattop', RF_at='end_of_transverse', optics_mode='non-smooth',\n",
    "#           name=['s{:d}'.format(i) for i in xrange(n_segments+1)],\n",
    "#           s=[i*C/n_segments for i in xrange(n_segments+1)],\n",
    "#           accQ_x=[i*Qx/n_segments for i in xrange(n_segments+1)],\n",
    "#           accQ_y=[i*Qy/n_segments for i in xrange(n_segments+1)],\n",
    "#           beta_x=np.array([50, 100, 10, 50]), beta_y=np.array([50, 10, 100, 50]),\n",
    "#           alpha_x=np.zeros(n_segments+1), alpha_y=np.zeros(n_segments+1)\n",
    "#           )\n",
    "sps = SPS(machine_configuration='Q20-flattop', RF_at='end_of_transverse',\n",
    "          n_segments=n_segments, accQ_x=Qx, accQ_y=Qy)\n",
    "sps.one_turn_map.pop(-1)\n",
    "ax = sps.transverse_map.alpha_x[0]\n",
    "ay = sps.transverse_map.alpha_y[0]\n",
    "bx = sps.transverse_map.beta_x[0]\n",
    "by = sps.transverse_map.beta_y[0]\n",
    "\n",
    "# =====================================\n",
    "# Add octupoles\n",
    "from PyHEADTAIL.multipoles.multipoles import ThinSextupole, ThinOctupole\n",
    "\n",
    "# sex = ThinSextupole(k2l=2)\n",
    "# sps.install_after_each_transverse_segment(sex)\n",
    "oct = ThinOctupole(k3l=1000)\n",
    "sps.install_after_each_transverse_segment(oct)"
   ]
  },
  {
   "cell_type": "code",
   "execution_count": 147,
   "metadata": {
    "collapsed": false
   },
   "outputs": [
    {
     "name": "stdout",
     "output_type": "stream",
     "text": [
      "--> Processing particle 480"
     ]
    }
   ],
   "source": [
    "macroparticlenumber = 500\n",
    "bunch = sps.generate_6D_Gaussian_bunch(n_macroparticles=macroparticlenumber, intensity=1e11,\n",
    "                                       epsn_x=3.5e-6, epsn_y=3.5e-6, sigma_z=0.23)\n",
    "# bunch.update({\n",
    "#         'x': xx.flatten(),\n",
    "#         'xp': xxp.flatten(),\n",
    "#         'y': yy.flatten(),\n",
    "#         'yp': yyp.flatten()})\n",
    "\n",
    "x = np.zeros((n_turns, macroparticlenumber))\n",
    "xp = np.zeros((n_turns, macroparticlenumber))\n",
    "y = np.zeros((n_turns, macroparticlenumber))\n",
    "yp = np.zeros((n_turns, macroparticlenumber))\n",
    "\n",
    "# ===============\n",
    "# Do the tracking\n",
    "for i in xrange(n_turns):\n",
    "    for m in sps.one_turn_map:\n",
    "        m.track(bunch)\n",
    "\n",
    "    x[i,:] = bunch.x\n",
    "    xp[i,:] = bunch.xp\n",
    "    y[i,:] = bunch.y\n",
    "    yp[i,:] = bunch.yp\n",
    "    \n",
    "# =======================\n",
    "# Some frequency analysis\n",
    "from PySussix import Sussix\n",
    "\n",
    "tunesx1 = np.zeros(macroparticlenumber)\n",
    "tunesy1 = np.zeros(macroparticlenumber)\n",
    "tunesx2 = np.zeros(macroparticlenumber)\n",
    "tunesy2 = np.zeros(macroparticlenumber)\n",
    "\n",
    "ssx = Sussix()\n",
    "\n",
    "ssx.sussix_inp(nt1=1, nt2=n_turns/2, idam=2, ir=0, tunex=0.2, tuney=0.2)\n",
    "for i in xrange(macroparticlenumber):\n",
    "    if i%20==0:\n",
    "        sys.stdout.write(\"\\r--> Processing particle {:d}\".format(i))\n",
    "    ssx.sussix(x[:,i], bx*xp[:,i], y[:,i], by*yp[:,i], x[:,i], xp[:,i])\n",
    "    tunesx1[i] = ssx.ox[np.argmax(ssx.ax)]\n",
    "    tunesy1[i] = ssx.oy[np.argmax(ssx.ay)]\n",
    "\n",
    "ssx.sussix_inp(nt1=n_turns/2, nt2=n_turns, idam=2, ir=0, tunex=0.2, tuney=0.2)\n",
    "for i in xrange(macroparticlenumber):\n",
    "    if i%20==0:\n",
    "        sys.stdout.write(\"\\r--> Processing particle {:d}\".format(i))\n",
    "    ssx.sussix(x[:,i], bx*xp[:,i], y[:,i], by*yp[:,i], x[:,i], xp[:,i])\n",
    "    tunesx2[i] = ssx.ox[np.argmax(ssx.ax)]\n",
    "    tunesy2[i] = ssx.oy[np.argmax(ssx.ay)]\n",
    "    \n",
    "diff_x = np.log(tunesx2-tunesx1)\n",
    "diff_y = np.log(tunesy2-tunesy1)\n",
    "\n",
    "\n",
    "plt.close('all')\n",
    "# ===============\n",
    "# Plot output\n",
    "fig = plt.figure(figsize=(20, 10))\n",
    "ax1 = fig.add_subplot(131)\n",
    "ax2 = fig.add_subplot(132, sharex=ax1, sharey=ax1)\n",
    "ax3 = fig.add_subplot(133)\n",
    "\n",
    "ax1.plot(x, xp, '.')\n",
    "ax2.plot(y, yp, '.')\n",
    "ax1.set_xlim(-1e-2, 1e-2)\n",
    "ax1.set_ylim(-1e-4, 1e-4)\n",
    "\n",
    "ax3.scatter(tunesx1, tunesy1, c=diff_x, s=40, marker='o', cmap='viridis')\n",
    "ax3.set_xlim(left=Qx%1-4e-2)\n",
    "ax3.set_ylim(bottom=Qy%1-4e-2)\n",
    "\n",
    "plt.show()"
   ]
  },
  {
   "cell_type": "markdown",
   "metadata": {},
   "source": [
    "***"
   ]
  },
  {
   "cell_type": "markdown",
   "metadata": {},
   "source": [
    "## Regular points"
   ]
  },
  {
   "cell_type": "code",
   "execution_count": 119,
   "metadata": {
    "collapsed": false
   },
   "outputs": [
    {
     "name": "stdout",
     "output_type": "stream",
     "text": [
      "0.000485036753365 0.000485036753365\n"
     ]
    }
   ],
   "source": [
    "bunch = sps.generate_6D_Gaussian_bunch(n_macroparticles=1e5, intensity=1e11,\n",
    "                                       epsn_x=4.5e-6, epsn_y=4.5e-6, sigma_z=0.23)\n",
    "sJx = np.sqrt(bunch.sigma_x()**2 + (bx*bunch.sigma_xp())**2)/2.\n",
    "sJy = np.sqrt(bunch.sigma_x()**2 + (bx*bunch.sigma_xp())**2)/2.\n",
    "print sJx, sJy\n",
    "\n",
    "\n",
    "J = np.linspace(0, 1, 12)**2 * 3.6e-8\n",
    "phi1 = np.linspace(0, 2*np.pi, 12)\n",
    "phi2 = np.linspace(0, 2*np.pi, 12)\n",
    "phi3 = np.linspace(0, 2*np.pi, 12)\n",
    "\n",
    "JJ, PP = np.meshgrid(J, phi1)\n",
    "xx = np.sqrt(2.*JJ*bx)*np.cos(PP)\n",
    "xxp = -np.sqrt(2.*JJ/bx)*(np.sin(PP) + ax*np.cos(PP))\n",
    "yy = np.sqrt(2.*JJ*by)*np.sin(PP)\n",
    "yyp = -np.sqrt(2.*JJ/by)*(np.cos(PP) + ay*np.sin(PP))\n",
    "\n",
    "\n",
    "macroparticlenumber = np.product(JJ.shape)\n",
    "\n",
    "fig, (ax1, ax2) = plt.subplots(1, 2, figsize=(16,9))\n",
    "ax1.plot(xx, yy, '-o')\n",
    "ax2.plot(yyp, xxp, '-o')\n",
    "\n",
    "plt.show()"
   ]
  },
  {
   "cell_type": "markdown",
   "metadata": {},
   "source": [
    "## Build a 4-sphere grid"
   ]
  },
  {
   "cell_type": "code",
   "execution_count": 123,
   "metadata": {
    "collapsed": false
   },
   "outputs": [],
   "source": [
    "macroparticlenumber = 400\n",
    "\n",
    "u4 = np.random.normal(size=(4, macroparticlenumber))\n",
    "r  = np.sqrt(sum(u4**2))\n",
    "u4 *= 1./r * 7e-5\n",
    "xx = u4[0,:]\n",
    "xxp = u4[1,:]\n",
    "yy = u4[2,:]\n",
    "yyp = u4[3,:]\n",
    "\n",
    "fig, (ax1, ax2) = plt.subplots(1, 2, figsize=(16,9))\n",
    "ax1.plot(xx, yy, 'o')\n",
    "ax2.plot(xxp, yyp, 'o')\n",
    "\n",
    "plt.show()"
   ]
  },
  {
   "cell_type": "code",
   "execution_count": 100,
   "metadata": {
    "collapsed": false
   },
   "outputs": [
    {
     "name": "stdout",
     "output_type": "stream",
     "text": [
      "0.000483725204433 0.000483725204433\n"
     ]
    }
   ],
   "source": [
    "bunch = sps.generate_6D_Gaussian_bunch(n_macroparticles=1e5, intensity=1e11,\n",
    "                                       epsn_x=4.5e-6, epsn_y=4.5e-6, sigma_z=0.23)\n",
    "sJx = np.sqrt(bunch.sigma_x()**2 + (bx*bunch.sigma_xp())**2)/2.\n",
    "sJy = np.sqrt(bunch.sigma_x()**2 + (bx*bunch.sigma_xp())**2)/2.\n",
    "print sJx, sJy\n",
    "\n",
    "\n",
    "J = np.linspace(0, 1, 12)**2 * 3.6e-8\n",
    "phi1 = np.linspace(0, 2*np.pi, 12)\n",
    "phi2 = np.linspace(0, 2*np.pi, 12)\n",
    "phi3 = np.linspace(0, 2*np.pi, 12)\n",
    "\n",
    "JJ, PP = np.meshgrid(J, phi1)\n",
    "xx = np.sqrt(2.*JJ*bx)*np.cos(PP)\n",
    "xxp = -np.sqrt(2.*JJ/bx)*(np.sin(PP) + ax*np.cos(PP))\n",
    "yy = np.sqrt(2.*JJ*by)*np.cos(PP)\n",
    "yyp = -np.sqrt(2.*JJ/by)*(np.sin(PP) + ay*np.cos(PP))\n",
    "\n",
    "\n",
    "macroparticlenumber = np.product(JJ.shape)\n",
    "\n",
    "x = np.zeros((n_turns, macroparticlenumber))\n",
    "xp = np.zeros((n_turns, macroparticlenumber))\n",
    "y = np.zeros((n_turns, macroparticlenumber))\n",
    "yp = np.zeros((n_turns, macroparticlenumber))\n",
    "\n",
    "fig, (ax1, ax2) = plt.subplots(1, 2, figsize=(16,9))\n",
    "ax1.plot(xx, yy, '-o')\n",
    "ax2.plot(yy, yyp, '-o')\n",
    "\n",
    "plt.show()"
   ]
  },
  {
   "cell_type": "markdown",
   "metadata": {},
   "source": [
    "***"
   ]
  }
 ],
 "metadata": {
  "kernelspec": {
   "display_name": "Python 2",
   "language": "python",
   "name": "python2"
  },
  "language_info": {
   "codemirror_mode": {
    "name": "ipython",
    "version": 2
   },
   "file_extension": ".py",
   "mimetype": "text/x-python",
   "name": "python",
   "nbconvert_exporter": "python",
   "pygments_lexer": "ipython2",
   "version": "2.7.9"
  }
 },
 "nbformat": 4,
 "nbformat_minor": 0
}

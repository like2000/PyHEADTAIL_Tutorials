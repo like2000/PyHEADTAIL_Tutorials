{
 "cells": [
  {
   "cell_type": "code",
   "execution_count": 18,
   "metadata": {
    "collapsed": false
   },
   "outputs": [
    {
     "name": "stdout",
     "output_type": "stream",
     "text": [
      "The Cython extension is already loaded. To reload it, use:\n",
      "  %reload_ext Cython\n",
      "The line_profiler extension is already loaded. To reload it, use:\n",
      "  %reload_ext line_profiler\n"
     ]
    }
   ],
   "source": [
    "%load_ext Cython\n",
    "%load_ext line_profiler"
   ]
  },
  {
   "cell_type": "code",
   "execution_count": 19,
   "metadata": {
    "collapsed": false
   },
   "outputs": [],
   "source": [
    "import sys\n",
    "import numpy as np\n",
    "import matplotlib.pyplot as plt\n",
    "from scipy.constants import c, e, m_p\n",
    "from scipy.signal import fftconvolve\n",
    "\n",
    "%matplotlib tk\n",
    "import seaborn as sns\n",
    "sns.set_context('notebook', font_scale=1.5,\n",
    "                rc={'lines.markeredgewidth': 1})\n",
    "sns.set_style('darkgrid', {\n",
    "        'axes.linewidth': 2,\n",
    "        'legend.fancybox': True})"
   ]
  },
  {
   "cell_type": "code",
   "execution_count": 20,
   "metadata": {
    "collapsed": false
   },
   "outputs": [],
   "source": [
    "from SPS import SPS"
   ]
  },
  {
   "cell_type": "markdown",
   "metadata": {},
   "source": [
    "Here we can play with **tunes** and **n_segments** - really the combination of the two, plus the type of non-linearity, determine the resonances excited..."
   ]
  },
  {
   "cell_type": "code",
   "execution_count": 61,
   "metadata": {
    "collapsed": false
   },
   "outputs": [
    {
     "name": "stdout",
     "output_type": "stream",
     "text": [
      "Synchrotron init. From kwargs: RF_at = 'end_of_transverse'\n"
     ]
    }
   ],
   "source": [
    "# =====================================\n",
    "# Input parameters\n",
    "n_segments = 3\n",
    "Qx, Qy = 20.13, 20.18\n",
    "\n",
    "n_turns = 2048\n",
    "n_sigmas = 6\n",
    "n_macroparticles = 400\n",
    "sx, sy = 0.5e-3, 0.5e-3\n",
    "\n",
    "# =====================================\n",
    "# Build machine and bunch\n",
    "x = np.zeros((n_turns, n_macroparticles))\n",
    "xp = np.zeros((n_turns, n_macroparticles))\n",
    "y = np.zeros((n_turns, n_macroparticles))\n",
    "yp = np.zeros((n_turns, n_macroparticles))\n",
    "\n",
    "C = np.pi*50*44\n",
    "sps = SPS(machine_configuration='Q20-flattop', RF_at='end_of_transverse', optics_mode='non-smooth',\n",
    "          name=['s{:d}'.format(i) for i in xrange(n_segments+1)],\n",
    "          s=[i*C/n_segments for i in xrange(n_segments+1)],\n",
    "          accQ_x=[i*Qx/n_segments for i in xrange(n_segments+1)],\n",
    "          accQ_y=[i*Qy/n_segments for i in xrange(n_segments+1)],\n",
    "          beta_x=np.array([50, 100, 10, 50]), beta_y=np.array([50, 10, 100, 50]),\n",
    "          alpha_x=np.zeros(n_segments+1), alpha_y=np.zeros(n_segments+1)\n",
    "          )\n",
    "sps.one_turn_map.pop(-1)\n",
    "ax = sps.transverse_map.alpha_x[0]\n",
    "ay = sps.transverse_map.alpha_y[0]\n",
    "bx = sps.transverse_map.beta_x[0]\n",
    "by = sps.transverse_map.beta_y[0]"
   ]
  },
  {
   "cell_type": "code",
   "execution_count": 68,
   "metadata": {
    "collapsed": false
   },
   "outputs": [],
   "source": [
    "J = np.linspace(0, 1, 20) * 2e-8\n",
    "phi = np.linspace(0, 2*np.pi, 20)\n",
    "\n",
    "JJ, PP = np.meshgrid(J, phi)\n",
    "\n",
    "xx = np.sqrt(2.*JJ*bx)*np.cos(PP)\n",
    "xxp = -np.sqrt(2.*JJ/bx)*(np.sin(PP) + ax*np.cos(PP))\n",
    "yy = np.sqrt(2.*JJ*by)*np.cos(PP)\n",
    "yyp = -np.sqrt(2.*JJ/by)*(np.sin(PP) + ay*np.cos(PP))"
   ]
  },
  {
   "cell_type": "code",
   "execution_count": 69,
   "metadata": {
    "collapsed": false
   },
   "outputs": [
    {
     "name": "stdout",
     "output_type": "stream",
     "text": [
      "--> Processing particle 380"
     ]
    }
   ],
   "source": [
    "bunch = sps.generate_6D_Gaussian_bunch(n_macroparticles=n_macroparticles, intensity=1e11,\n",
    "                                       epsn_x=4.5e-6, epsn_y=4.5e-6, sigma_z=0.23)\n",
    "# print bunch.sigma_x(), bunch.sigma_y()\n",
    "# exit(-1)\n",
    "bunch.update({\n",
    "        'x': xx.flatten(),\n",
    "        'xp': xxp.flatten(),\n",
    "        'y': yy.flatten(),\n",
    "        'yp': yyp.flatten()})\n",
    "\n",
    "\n",
    "# =====================================\n",
    "# Add octupoles\n",
    "from PyHEADTAIL.multipoles.multipoles import ThinSextupole, ThinOctupole\n",
    "\n",
    "# sex = ThinSextupole(k2l=2)\n",
    "# sps.install_after_each_transverse_segment(sex)\n",
    "oct = ThinOctupole(k3l=1000)\n",
    "sps.install_after_each_transverse_segment(oct)\n",
    "\n",
    "\n",
    "# ===============\n",
    "# Do the tracking\n",
    "for i in xrange(n_turns):\n",
    "    for m in sps.one_turn_map:\n",
    "        m.track(bunch)\n",
    "\n",
    "    x[i,:] = bunch.x\n",
    "    xp[i,:] = bunch.xp\n",
    "    y[i,:] = bunch.y\n",
    "    yp[i,:] = bunch.yp\n",
    "\n",
    "    \n",
    "# =======================\n",
    "# Some frequency analysis\n",
    "from PySussix import Sussix\n",
    "\n",
    "tunesx = np.zeros(n_macroparticles)\n",
    "tunesy = np.zeros(n_macroparticles)\n",
    "\n",
    "ssx = Sussix()\n",
    "ssx.sussix_inp(nt1=1, nt2=n_turns, idam=2, ir=0, tunex=0.2, tuney=0.2)\n",
    "\n",
    "# fig = plt.figure(figsize=(20, 10))\n",
    "# ax1 = fig.add_subplot(121)\n",
    "# ax2 = fig.add_subplot(122)\n",
    "# plt.ion()\n",
    "for i in xrange(n_macroparticles):\n",
    "    if i%20==0:\n",
    "        sys.stdout.write(\"\\r--> Processing particle {:d}\".format(i))\n",
    "    ssx.sussix(x[:,i], bx*xp[:,i], y[:,i], by*yp[:,i], x[:,i], xp[:,i])\n",
    "    tunesx[i] = ssx.ox[np.argmax(ssx.ax)]\n",
    "    tunesy[i] = ssx.oy[np.argmax(ssx.ay)]\n",
    "    \n",
    "#     ax1.stem(ssx.ox, ssx.ax/max(ssx.ax))\n",
    "#     ax1.plot(tunesx[i], 1, 'o')\n",
    "#     ax2.stem(ssx.oy, ssx.ay/max(ssx.ay))\n",
    "#     ax2.plot(tunesy[i], 1, 'o')\n",
    "#     plt.draw()\n",
    "#     plt.pause(0.1)\n",
    "#     ax1.cla()\n",
    "#     ax2.cla()\n",
    "\n",
    "plt.close('all')\n",
    "# ===============\n",
    "# Plot output\n",
    "fig = plt.figure(figsize=(20, 10))\n",
    "ax1 = fig.add_subplot(131)\n",
    "ax2 = fig.add_subplot(132, sharex=ax1, sharey=ax1)\n",
    "ax3 = fig.add_subplot(133)\n",
    "\n",
    "ax1.plot(x, xp, '.')\n",
    "ax2.plot(y, yp, '.')\n",
    "ax1.set_xlim(-1e-2, 1e-2)\n",
    "ax1.set_ylim(-1e-4, 1e-4)\n",
    "\n",
    "ax3.plot(tunesx, tunesy, '.')\n",
    "\n",
    "\n",
    "plt.show()"
   ]
  },
  {
   "cell_type": "code",
   "execution_count": 17,
   "metadata": {
    "collapsed": false
   },
   "outputs": [
    {
     "name": "stdout",
     "output_type": "stream",
     "text": [
      "Synchrotron init. From kwargs: n_segments = 3\n",
      "Synchrotron init. From kwargs: accQ_y = 10.18\n",
      "Synchrotron init. From kwargs: accQ_x = 20.2\n",
      "Synchrotron init. From kwargs: optics = ''\n",
      "Synchrotron init. From kwargs: RF_at = 'end_of_transverse'\n",
      "--> Processing particle 240"
     ]
    },
    {
     "ename": "KeyboardInterrupt",
     "evalue": "",
     "output_type": "error",
     "traceback": [
      "\u001b[1;31m---------------------------------------------------------------------------\u001b[0m",
      "\u001b[1;31mKeyboardInterrupt\u001b[0m                         Traceback (most recent call last)",
      "\u001b[1;32m<ipython-input-17-9334feca02c5>\u001b[0m in \u001b[0;36m<module>\u001b[1;34m()\u001b[0m\n\u001b[0;32m     67\u001b[0m     \u001b[1;32mif\u001b[0m \u001b[0mi\u001b[0m\u001b[1;33m%\u001b[0m\u001b[1;36m20\u001b[0m\u001b[1;33m==\u001b[0m\u001b[1;36m0\u001b[0m\u001b[1;33m:\u001b[0m\u001b[1;33m\u001b[0m\u001b[0m\n\u001b[0;32m     68\u001b[0m         \u001b[0msys\u001b[0m\u001b[1;33m.\u001b[0m\u001b[0mstdout\u001b[0m\u001b[1;33m.\u001b[0m\u001b[0mwrite\u001b[0m\u001b[1;33m(\u001b[0m\u001b[1;34m\"\\r--> Processing particle {:d}\"\u001b[0m\u001b[1;33m.\u001b[0m\u001b[0mformat\u001b[0m\u001b[1;33m(\u001b[0m\u001b[0mi\u001b[0m\u001b[1;33m)\u001b[0m\u001b[1;33m)\u001b[0m\u001b[1;33m\u001b[0m\u001b[0m\n\u001b[1;32m---> 69\u001b[1;33m     \u001b[0mssx\u001b[0m\u001b[1;33m.\u001b[0m\u001b[0msussix\u001b[0m\u001b[1;33m(\u001b[0m\u001b[0mx\u001b[0m\u001b[1;33m[\u001b[0m\u001b[1;33m:\u001b[0m\u001b[1;33m,\u001b[0m\u001b[0mi\u001b[0m\u001b[1;33m]\u001b[0m\u001b[1;33m,\u001b[0m \u001b[0mbx\u001b[0m\u001b[1;33m*\u001b[0m\u001b[0mxp\u001b[0m\u001b[1;33m[\u001b[0m\u001b[1;33m:\u001b[0m\u001b[1;33m,\u001b[0m\u001b[0mi\u001b[0m\u001b[1;33m]\u001b[0m\u001b[1;33m,\u001b[0m \u001b[0my\u001b[0m\u001b[1;33m[\u001b[0m\u001b[1;33m:\u001b[0m\u001b[1;33m,\u001b[0m\u001b[0mi\u001b[0m\u001b[1;33m]\u001b[0m\u001b[1;33m,\u001b[0m \u001b[0mby\u001b[0m\u001b[1;33m*\u001b[0m\u001b[0myp\u001b[0m\u001b[1;33m[\u001b[0m\u001b[1;33m:\u001b[0m\u001b[1;33m,\u001b[0m\u001b[0mi\u001b[0m\u001b[1;33m]\u001b[0m\u001b[1;33m,\u001b[0m \u001b[0mx\u001b[0m\u001b[1;33m[\u001b[0m\u001b[1;33m:\u001b[0m\u001b[1;33m,\u001b[0m\u001b[0mi\u001b[0m\u001b[1;33m]\u001b[0m\u001b[1;33m,\u001b[0m \u001b[0mxp\u001b[0m\u001b[1;33m[\u001b[0m\u001b[1;33m:\u001b[0m\u001b[1;33m,\u001b[0m\u001b[0mi\u001b[0m\u001b[1;33m]\u001b[0m\u001b[1;33m)\u001b[0m\u001b[1;33m\u001b[0m\u001b[0m\n\u001b[0m\u001b[0;32m     70\u001b[0m     \u001b[0mtunesx\u001b[0m\u001b[1;33m[\u001b[0m\u001b[0mi\u001b[0m\u001b[1;33m]\u001b[0m \u001b[1;33m=\u001b[0m \u001b[0mssx\u001b[0m\u001b[1;33m.\u001b[0m\u001b[0mox\u001b[0m\u001b[1;33m[\u001b[0m\u001b[0mnp\u001b[0m\u001b[1;33m.\u001b[0m\u001b[0margmax\u001b[0m\u001b[1;33m(\u001b[0m\u001b[0mssx\u001b[0m\u001b[1;33m.\u001b[0m\u001b[0max\u001b[0m\u001b[1;33m)\u001b[0m\u001b[1;33m]\u001b[0m\u001b[1;33m\u001b[0m\u001b[0m\n\u001b[0;32m     71\u001b[0m     \u001b[0mtunesy\u001b[0m\u001b[1;33m[\u001b[0m\u001b[0mi\u001b[0m\u001b[1;33m]\u001b[0m \u001b[1;33m=\u001b[0m \u001b[0mssx\u001b[0m\u001b[1;33m.\u001b[0m\u001b[0moy\u001b[0m\u001b[1;33m[\u001b[0m\u001b[0mnp\u001b[0m\u001b[1;33m.\u001b[0m\u001b[0margmax\u001b[0m\u001b[1;33m(\u001b[0m\u001b[0mssx\u001b[0m\u001b[1;33m.\u001b[0m\u001b[0may\u001b[0m\u001b[1;33m)\u001b[0m\u001b[1;33m]\u001b[0m\u001b[1;33m\u001b[0m\u001b[0m\n",
      "\u001b[1;32m/home/kli/local/lib/PySussix/PySussix.pyc\u001b[0m in \u001b[0;36msussix\u001b[1;34m(self, x, xp, y, yp, z, zp)\u001b[0m\n\u001b[0;32m     79\u001b[0m \u001b[1;33m\u001b[0m\u001b[0m\n\u001b[0;32m     80\u001b[0m     \u001b[1;32mdef\u001b[0m \u001b[0msussix\u001b[0m\u001b[1;33m(\u001b[0m\u001b[0mself\u001b[0m\u001b[1;33m,\u001b[0m \u001b[0mx\u001b[0m\u001b[1;33m,\u001b[0m \u001b[0mxp\u001b[0m\u001b[1;33m,\u001b[0m \u001b[0my\u001b[0m\u001b[1;33m,\u001b[0m \u001b[0myp\u001b[0m\u001b[1;33m,\u001b[0m \u001b[0mz\u001b[0m\u001b[1;33m,\u001b[0m \u001b[0mzp\u001b[0m\u001b[1;33m)\u001b[0m\u001b[1;33m:\u001b[0m\u001b[1;33m\u001b[0m\u001b[0m\n\u001b[1;32m---> 81\u001b[1;33m         \u001b[0mz\u001b[0m \u001b[1;33m=\u001b[0m \u001b[0mpysussix\u001b[0m\u001b[1;33m.\u001b[0m\u001b[0msussixnoo\u001b[0m\u001b[1;33m(\u001b[0m\u001b[0mx\u001b[0m\u001b[1;33m,\u001b[0m \u001b[0mxp\u001b[0m\u001b[1;33m,\u001b[0m \u001b[0my\u001b[0m\u001b[1;33m,\u001b[0m \u001b[0myp\u001b[0m\u001b[1;33m,\u001b[0m \u001b[0mz\u001b[0m\u001b[1;33m,\u001b[0m \u001b[0mzp\u001b[0m\u001b[1;33m,\u001b[0m \u001b[0mlen\u001b[0m\u001b[1;33m(\u001b[0m\u001b[0mx\u001b[0m\u001b[1;33m)\u001b[0m\u001b[1;33m)\u001b[0m\u001b[1;33m\u001b[0m\u001b[0m\n\u001b[0m\u001b[0;32m     82\u001b[0m         \u001b[0mself\u001b[0m\u001b[1;33m.\u001b[0m\u001b[0mtunex\u001b[0m \u001b[1;33m=\u001b[0m \u001b[0mz\u001b[0m\u001b[1;33m[\u001b[0m\u001b[1;36m0\u001b[0m\u001b[1;33m]\u001b[0m\u001b[1;33m\u001b[0m\u001b[0m\n\u001b[0;32m     83\u001b[0m         \u001b[0mself\u001b[0m\u001b[1;33m.\u001b[0m\u001b[0mtuney\u001b[0m \u001b[1;33m=\u001b[0m \u001b[0mz\u001b[0m\u001b[1;33m[\u001b[0m\u001b[1;36m1\u001b[0m\u001b[1;33m]\u001b[0m\u001b[1;33m\u001b[0m\u001b[0m\n",
      "\u001b[1;31mKeyboardInterrupt\u001b[0m: "
     ]
    }
   ],
   "source": [
    "# =====================================\n",
    "# Input parameters\n",
    "n_segments = 3\n",
    "Qx, Qy = 20.20, 10.18\n",
    "\n",
    "n_turns = 2048\n",
    "n_sigmas = 6\n",
    "n_macroparticles = 1000\n",
    "sx, sy = 0.5e-3, 0.5e-3\n",
    "\n",
    "# =====================================\n",
    "# Build machine and bunch\n",
    "x = np.zeros((n_turns, n_macroparticles))\n",
    "xp = np.zeros((n_turns, n_macroparticles))\n",
    "y = np.zeros((n_turns, n_macroparticles))\n",
    "yp = np.zeros((n_turns, n_macroparticles))\n",
    "\n",
    "sps = SPS(optics='', machine_configuration='Q20-flattop', n_segments=n_segments, accQ_x=Qx, accQ_y=Qy, RF_at='end_of_transverse')\n",
    "sps.one_turn_map.pop(-1)\n",
    "bx = sps.transverse_map.beta_x[0]\n",
    "by = sps.transverse_map.beta_y[0]\n",
    "\n",
    "bunch = sps.generate_6D_Gaussian_bunch(n_macroparticles=n_macroparticles, intensity=1e11,\n",
    "                                       epsn_x=3.5e-6, epsn_y=3.5e-6, sigma_z=0.23)\n",
    "# print bunch.sigma_x(), bunch.sigma_y()\n",
    "# exit(-1)\n",
    "# bunch.update({\n",
    "#         'x': np.linspace(-n_sigmas*sx, n_sigmas*sx, n_macroparticles),\n",
    "#         'xp': np.zeros(n_macroparticles),\n",
    "#         'y': np.linspace(-n_sigmas*sx, n_sigmas*sx, n_macroparticles),\n",
    "#         'yp': np.zeros(n_macroparticles)})\n",
    "\n",
    "\n",
    "# =====================================\n",
    "# Add octupoles\n",
    "from PyHEADTAIL.multipoles.multipoles import ThinSextupole, ThinOctupole\n",
    "\n",
    "# sex = ThinSextupole(k2l=2)\n",
    "# sps.install_after_each_transverse_segment(sex)\n",
    "oct = ThinOctupole(k3l=1000)\n",
    "sps.install_after_each_transverse_segment(oct)\n",
    "\n",
    "\n",
    "# ===============\n",
    "# Do the tracking\n",
    "for i in xrange(n_turns):\n",
    "    for m in sps.one_turn_map:\n",
    "        m.track(bunch)\n",
    "\n",
    "    x[i,:] = bunch.x\n",
    "    xp[i,:] = bunch.xp\n",
    "    y[i,:] = bunch.y\n",
    "    yp[i,:] = bunch.yp\n",
    "\n",
    "    \n",
    "# =======================\n",
    "# Some frequency analysis\n",
    "from PySussix import Sussix\n",
    "\n",
    "tunesx = np.zeros(n_macroparticles)\n",
    "tunesy = np.zeros(n_macroparticles)\n",
    "\n",
    "ssx = Sussix()\n",
    "ssx.sussix_inp(nt1=1, nt2=n_turns, idam=2, ir=0, tunex=0.2, tuney=0.2)\n",
    "\n",
    "for i in xrange(n_macroparticles):\n",
    "    if i%20==0:\n",
    "        sys.stdout.write(\"\\r--> Processing particle {:d}\".format(i))\n",
    "    ssx.sussix(x[:,i], bx*xp[:,i], y[:,i], by*yp[:,i], x[:,i], xp[:,i])\n",
    "    tunesx[i] = ssx.ox[np.argmax(ssx.ax)]\n",
    "    tunesy[i] = ssx.oy[np.argmax(ssx.ay)]\n",
    "\n",
    "\n",
    "# ===============\n",
    "# Plot output\n",
    "fig = plt.figure(figsize=(20, 10))\n",
    "ax1 = fig.add_subplot(131)\n",
    "ax2 = fig.add_subplot(132, sharex=ax1, sharey=ax1)\n",
    "ax3 = fig.add_subplot(133)\n",
    "\n",
    "ax1.plot(x, xp, '.')\n",
    "ax2.plot(y, yp, '.')\n",
    "ax1.set_xlim(-1e-2, 1e-2)\n",
    "ax1.set_ylim(-1e-4, 1e-4)\n",
    "\n",
    "ax3.plot(tunesx, tunesy, '.')\n",
    "\n",
    "\n",
    "plt.show()"
   ]
  },
  {
   "cell_type": "markdown",
   "metadata": {},
   "source": [
    "***"
   ]
  },
  {
   "cell_type": "code",
   "execution_count": 33,
   "metadata": {
    "collapsed": false
   },
   "outputs": [],
   "source": [
    "fig, axes = plt.subplots(1, figsize=(12,10))\n",
    "\n",
    "# plt.ion()\n",
    "for i in xrange(n_turns):\n",
    "    for m in sps.one_turn_map:\n",
    "        m.track(bunch)\n",
    "        \n",
    "    if i%10==0:\n",
    "        plt.plot(bunch.x, bunch.xp, '.')\n",
    "        axes.set_xlim(-1e-2, 1e-2)\n",
    "        axes.set_ylim(-1e-4, 1e-4)\n",
    "        plt.draw()\n",
    "        plt.pause(0.1)\n",
    "        axes.cla()\n",
    "\n",
    "plt.show()"
   ]
  }
 ],
 "metadata": {
  "kernelspec": {
   "display_name": "Python 2",
   "language": "python",
   "name": "python2"
  },
  "language_info": {
   "codemirror_mode": {
    "name": "ipython",
    "version": 2
   },
   "file_extension": ".py",
   "mimetype": "text/x-python",
   "name": "python",
   "nbconvert_exporter": "python",
   "pygments_lexer": "ipython2",
   "version": "2.7.9"
  }
 },
 "nbformat": 4,
 "nbformat_minor": 0
}

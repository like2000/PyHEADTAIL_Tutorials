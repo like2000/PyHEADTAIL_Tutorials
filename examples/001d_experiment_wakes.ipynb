{
 "cells": [
  {
   "cell_type": "code",
   "execution_count": 1,
   "metadata": {
    "collapsed": false
   },
   "outputs": [
    {
     "name": "stderr",
     "output_type": "stream",
     "text": [
      "/usr/lib64/python2.7/site-packages/matplotlib/__init__.py:872: UserWarning: axes.color_cycle is deprecated and replaced with axes.prop_cycle; please use the latter.\n",
      "  warnings.warn(self.msg_depr % (key, alt_key))\n"
     ]
    }
   ],
   "source": [
    "import numpy as np\n",
    "import matplotlib.pyplot as plt\n",
    "from scipy.constants import c, e, m_p\n",
    "\n",
    "%matplotlib tk\n",
    "import seaborn as sns\n",
    "sns.set_context('notebook', font_scale=1.5)\n",
    "sns.set_style('darkgrid', {\n",
    "        'axes.linewidth': 2,\n",
    "        'lines.markeredgewidth': 0,\n",
    "        'legend.fancybox': True})"
   ]
  },
  {
   "cell_type": "markdown",
   "metadata": {},
   "source": [
    "## Bunch creation\n",
    "\n",
    "We create a bunch - LHC type. No fancy wrapper function available yet to produce a RF matched distribution. A little tedious because it requires quite some definitions to be done beforehand of the full RF System - but that's due to the nature of the problem.\n",
    "\n",
    "- Some beam kinetic parameters and RF machine parameters"
   ]
  },
  {
   "cell_type": "code",
   "execution_count": 2,
   "metadata": {
    "collapsed": false
   },
   "outputs": [
    {
     "name": "stdout",
     "output_type": "stream",
     "text": [
      "PyHEADTAIL v1.7.2.1\n",
      "\n",
      "\n"
     ]
    }
   ],
   "source": [
    "from PyHEADTAIL.trackers.rf_bucket import RFBucket\n",
    "from PyHEADTAIL.particles.generators import ParticleGenerator, \\\n",
    "    gaussian2D, RF_bucket_distribution, StationaryExponential"
   ]
  },
  {
   "cell_type": "code",
   "execution_count": 3,
   "metadata": {
    "collapsed": false
   },
   "outputs": [
    {
     "name": "stdout",
     "output_type": "stream",
     "text": [
      "479.606062093\n"
     ]
    }
   ],
   "source": [
    "momentum = 450e9 * e/c\n",
    "gamma = np.sqrt((momentum/(m_p*c))**2 + 1)\n",
    "beta = np.sqrt(1 - gamma**-2)\n",
    "\n",
    "circumference = 26658.883\n",
    "alpha = 3.225e-4\n",
    "h1 = 35640\n",
    "V1 = 8e6\n",
    "p_increment = 0 * e/c * circumference/(beta*c)\n",
    "\n",
    "print gamma"
   ]
  },
  {
   "cell_type": "code",
   "execution_count": 4,
   "metadata": {
    "collapsed": false
   },
   "outputs": [],
   "source": [
    "rfbucket = RFBucket(\n",
    "    charge=e, mass=m_p, gamma=gamma,\n",
    "    circumference=circumference,\n",
    "    alpha_array=[alpha], p_increment=0,\n",
    "    harmonic_list=[h1], voltage_list=[V1], phi_offset_list=[0])"
   ]
  },
  {
   "cell_type": "code",
   "execution_count": 5,
   "metadata": {
    "collapsed": false
   },
   "outputs": [
    {
     "name": "stdout",
     "output_type": "stream",
     "text": [
      "*** Maximum RMS emittance 0.888689919173eV s.\n",
      "... distance to target emittance: 2.32e-02\n",
      "... distance to target emittance: 2.34e-02\n",
      "... distance to target emittance: -5.11e-04\n",
      "... distance to target emittance: 1.04e-05\n",
      "--> Emittance: 0.350000004218\n",
      "--> Bunch length:0.0697492609648\n"
     ]
    }
   ],
   "source": [
    "bunch = ParticleGenerator(\n",
    "    macroparticlenumber=1e5, intensity=1e11,\n",
    "    charge=e, mass=m_p, gamma=gamma,\n",
    "    circumference=26658.883,\n",
    "    distribution_x=gaussian2D(2e-6),\n",
    "    distribution_y=gaussian2D(2e-6),\n",
    "    distribution_z=RF_bucket_distribution(rfbucket, epsn_z=0.35)\n",
    ").generate()"
   ]
  },
  {
   "cell_type": "code",
   "execution_count": 6,
   "metadata": {
    "collapsed": false
   },
   "outputs": [
    {
     "name": "stdout",
     "output_type": "stream",
     "text": [
      "*** Maximum RMS emittance 0.888689919173eV s.\n",
      "... distance to target emittance: 2.32e-02\n",
      "... distance to target emittance: 2.34e-02\n",
      "... distance to target emittance: -5.11e-04\n",
      "... distance to target emittance: 1.04e-05\n",
      "--> Emittance: 0.350000004218\n",
      "--> Bunch length:0.0697492609648\n"
     ]
    }
   ],
   "source": [
    "bunch2 = ParticleGenerator(\n",
    "    macroparticlenumber=1e5, intensity=1e11,\n",
    "    charge=e, mass=m_p, gamma=gamma,\n",
    "    circumference=26658.883,\n",
    "    distribution_x=gaussian2D(2e-6),\n",
    "    distribution_y=gaussian2D(2e-6),\n",
    "    distribution_z=RF_bucket_distribution(rfbucket, epsn_z=0.35)\n",
    ").generate()\n",
    "\n",
    "distance = 3e-9 * (bunch2.beta*c)\n",
    "bunch2.z -= distance"
   ]
  },
  {
   "cell_type": "code",
   "execution_count": 7,
   "metadata": {
    "collapsed": false
   },
   "outputs": [],
   "source": [
    "# fig, (ax1, ax2, ax3) = plt.subplots(3, figsize=(6,6))\n",
    "# ax1.plot(bunch.x, bunch.xp, '.')\n",
    "# ax2.plot(bunch.y, bunch.yp, '.')\n",
    "# ax3.plot(bunch.z, bunch.dp, '.')\n",
    "# ax3.set_ylim(-max(abs(bunch.dp))-1e-4, max(abs(bunch.dp))+1e-4)\n",
    "# plt.show()"
   ]
  },
  {
   "cell_type": "code",
   "execution_count": 8,
   "metadata": {
    "collapsed": false
   },
   "outputs": [],
   "source": [
    "bunches = bunch + bunch2\n",
    "\n",
    "plt.plot(bunches.z, bunches.dp, '.')\n",
    "plt.show()"
   ]
  },
  {
   "cell_type": "markdown",
   "metadata": {},
   "source": [
    "## Wakes, slicing, convolution etc."
   ]
  },
  {
   "cell_type": "markdown",
   "metadata": {},
   "source": [
    "The CircularResonator wake is a special resonator wake with Yokoya factors X1=1, Y1=1, X2=0, Y2=0\n",
    "\n",
    "functions transverse and longitudinal are actually meant to be used internally when building the wake kicks - at this point they are concatenated with the respective Yokoya factor being applied/provided. For visualisation we can also build them externally manually."
   ]
  },
  {
   "cell_type": "code",
   "execution_count": 9,
   "metadata": {
    "collapsed": false
   },
   "outputs": [],
   "source": [
    "from PyHEADTAIL.impedances.wakes import CircularResonator, \\\n",
    "    WakeField, check_wake_sampling\n",
    "from PyHEADTAIL.particles.slicing import UniformBinSlicer"
   ]
  },
  {
   "cell_type": "code",
   "execution_count": 10,
   "metadata": {
    "collapsed": false
   },
   "outputs": [
    {
     "name": "stdout",
     "output_type": "stream",
     "text": [
      "*** PyHEADTAIL WARNING! Acceleration not handled properly by this kind of convolution due to changing bunch length!\n",
      "*** PyHEADTAIL WARNING! Acceleration not handled properly by this kind of convolution due to changing bunch length!\n"
     ]
    }
   ],
   "source": [
    "wake = CircularResonator(R_shunt=1e9, frequency=1e9, Q=20)\n",
    "slicer = UniformBinSlicer(50, z_cuts=(-.3, .3))\n",
    "\n",
    "wakefields = WakeField(slicer, wake)\n",
    "kick = wakefields.wake_kicks[0]\n",
    "wf = kick.wake_function\n",
    "\n",
    "slices = bunch.get_slices(slicer)\n",
    "times = slices.z_centers / (bunch.beta*c)\n",
    "dt = distance/(bunches.beta*c)\n",
    "\n",
    "bunch2.z += distance\n",
    "slices2 = bunch2.get_slices(slicer)\n",
    "times2 = slices2.z_centers / (bunch2.beta*c)\n",
    "bunch2.z -= distance"
   ]
  },
  {
   "cell_type": "code",
   "execution_count": 11,
   "metadata": {
    "collapsed": false
   },
   "outputs": [],
   "source": [
    "fig, (ax1, ax2) = plt.subplots(2, figsize=(12,6))\n",
    "\n",
    "[ax1.axvline(s, c='r') for s in slices.z_centers]\n",
    "[ax1.axvline(s, c='b') for s in [slices.z_cut_tail, slices.z_cut_head]]\n",
    "ax1.plot(slices.z_centers, slices.charge_per_slice, '-o')\n",
    "\n",
    "[ax2.axvline(s, c='r') for s in slices2.z_centers]\n",
    "[ax2.axvline(s, c='b') for s in [slices2.z_cut_tail, slices2.z_cut_head]]\n",
    "ax2.plot(slices2.z_centers, slices2.charge_per_slice, '-o')\n",
    "\n",
    "# ax1.set_xlim(-1, 1)\n",
    "plt.show()"
   ]
  },
  {
   "cell_type": "markdown",
   "metadata": {},
   "source": [
    "## Convolutions"
   ]
  },
  {
   "cell_type": "markdown",
   "metadata": {},
   "source": [
    "### First bunch"
   ]
  },
  {
   "cell_type": "code",
   "execution_count": 12,
   "metadata": {
    "collapsed": true
   },
   "outputs": [],
   "source": [
    "delta_xp = 0.*times\n",
    "for i, s in enumerate(slices.charge_per_slice):\n",
    "    for j in range(slices.n_slices)[::-1]:\n",
    "        delta_xp[i] += slices.charge_per_slice[j]*wf(times[i]-times[j])"
   ]
  },
  {
   "cell_type": "code",
   "execution_count": 13,
   "metadata": {
    "collapsed": false
   },
   "outputs": [],
   "source": [
    "# tt = times - times[0]\n",
    "# tt = np.concatenate((-tt[::-1], tt[1:]))\n",
    "t0 = np.concatenate((times-times[-1], (times-times[0])[1:]))\n",
    "\n",
    "dxp = np.convolve(slices.charge_per_slice, wf(t0))\n",
    "dxp_s = np.convolve(slices.charge_per_slice, wf(t0), mode='same')\n",
    "dxp_v = np.convolve(slices.charge_per_slice, wf(t0), mode='valid')\n",
    "\n",
    "fig, (ax1, ax2, ax3) = plt.subplots(3, figsize=(12,10))\n",
    "\n",
    "ax1.plot(t0, wf(t0)[::-1]/max(wf(t0)[::-1]))\n",
    "ax1.plot(times-times[-1], slices.charge_per_slice/max(slices.charge_per_slice))\n",
    "ax1.set_ylim((-1.1, 1.1))\n",
    "ax1.legend(['Bunch', 'Wake'])\n",
    "ax1.set_xlim(-8e-9, 3e-9)\n",
    "ax2.plot(delta_xp)\n",
    "ax2.plot(dxp_v)\n",
    "ax2.legend(['manual', 'valid'])\n",
    "ax3.plot(times-times[-1], slices.charge_per_slice/max(slices.charge_per_slice))\n",
    "ax3.plot(times-times[-1], dxp_v/max(dxp_v))\n",
    "ax3.set_ylim(-2, 2)\n",
    "\n",
    "plt.show()\n",
    "\n",
    "dxp_v1 = dxp_v.copy()"
   ]
  },
  {
   "cell_type": "markdown",
   "metadata": {},
   "source": [
    "### Second bunch"
   ]
  },
  {
   "cell_type": "code",
   "execution_count": 14,
   "metadata": {
    "collapsed": true
   },
   "outputs": [],
   "source": [
    "delta_xp = 0.*times\n",
    "for i, s in enumerate(slices.charge_per_slice):\n",
    "    for j in range(slices.n_slices)[::-1]:\n",
    "        delta_xp[i] += slices2.charge_per_slice[j]*wf(times[i]-times[j])\n",
    "        delta_xp[i] += slices.charge_per_slice[j]*wf(times[i]-times[j] - dt)"
   ]
  },
  {
   "cell_type": "code",
   "execution_count": 15,
   "metadata": {
    "collapsed": false
   },
   "outputs": [],
   "source": [
    "t0 = np.concatenate((times-times[-1], (times-times[0])[1:]))\n",
    "t2 = t0 - dt\n",
    "\n",
    "dxp = np.convolve(slices2.charge_per_slice, wf(t0))\n",
    "dxp_s = np.convolve(slices2.charge_per_slice, wf(t0), mode='same')\n",
    "dxp_v = np.convolve(slices2.charge_per_slice, wf(t0), mode='valid')\n",
    "\n",
    "dxp += np.convolve(slices.charge_per_slice, wf(t2))\n",
    "dxp_s += np.convolve(slices.charge_per_slice, wf(t2), mode='same')\n",
    "dxp_v += np.convolve(slices.charge_per_slice, wf(t2), mode='valid')\n",
    "\n",
    "fig, (ax1, ax2, ax3) = plt.subplots(3, figsize=(12,10))\n",
    "\n",
    "ax1.plot(t0, wf(t0)[::-1]/max(wf(t0)[::-1]))\n",
    "ax1.plot(times-times[-1]-dt, slices2.charge_per_slice/max(slices2.charge_per_slice))\n",
    "ax1.set_ylim((-1.1, 1.1))\n",
    "ax1.legend(['Bunch', 'Wake'])\n",
    "ax1.set_xlim(-8e-9, 3e-9)\n",
    "ax2.plot(delta_xp)\n",
    "ax2.plot(dxp_v)\n",
    "ax2.legend(['manual', 'valid'])\n",
    "ax3.plot(times-times[-1], slices2.charge_per_slice/max(slices2.charge_per_slice))\n",
    "ax3.plot(times-times[-1], dxp_v/max(dxp_v))\n",
    "ax3.set_ylim(-2, 2)\n",
    "\n",
    "plt.show()\n",
    "\n",
    "dxp_v2 = dxp_v.copy()"
   ]
  },
  {
   "cell_type": "markdown",
   "metadata": {
    "collapsed": true
   },
   "source": [
    "### More bunches"
   ]
  },
  {
   "cell_type": "code",
   "execution_count": 16,
   "metadata": {
    "collapsed": true
   },
   "outputs": [],
   "source": [
    "allslicer = UniformBinSlicer(300, z_cuts=(-2, .3))\n",
    "allslices = bunches.get_slices(allslicer)\n",
    "\n",
    "alltimes = allslices.z_centers / (bunches.beta*c)"
   ]
  },
  {
   "cell_type": "code",
   "execution_count": 17,
   "metadata": {
    "collapsed": false
   },
   "outputs": [],
   "source": [
    "delta_xp = 0.*alltimes\n",
    "for i, s in enumerate(allslices.charge_per_slice):\n",
    "    for j in range(allslices.n_slices)[::-1]:\n",
    "        delta_xp[i] += allslices.charge_per_slice[j]*wf(alltimes[i]-alltimes[j])"
   ]
  },
  {
   "cell_type": "code",
   "execution_count": 18,
   "metadata": {
    "collapsed": false
   },
   "outputs": [],
   "source": [
    "t0 = np.concatenate((alltimes-alltimes[-1],\n",
    "                    (alltimes-alltimes[0])[1:]))\n",
    "\n",
    "dxp = np.convolve(allslices.charge_per_slice, wf(t0))\n",
    "dxp_s = np.convolve(allslices.charge_per_slice, wf(t0), mode='same')\n",
    "dxp_v = np.convolve(allslices.charge_per_slice, wf(t0), mode='valid')\n",
    "\n",
    "fig, (ax1, ax2, ax3) = plt.subplots(3, figsize=(12,10))\n",
    "\n",
    "ax1.plot(t0, wf(t0)[::-1]/max(wf(t0)[::-1]))\n",
    "ax1.plot(alltimes-alltimes[-1],\n",
    "         allslices.charge_per_slice/max(allslices.charge_per_slice))\n",
    "ax1.set_ylim((-1.1, 1.1))\n",
    "ax1.legend(['Bunch', 'Wake'])\n",
    "ax1.set_xlim(-8e-9, 3e-9)\n",
    "ax2.plot(delta_xp)\n",
    "ax2.plot(dxp_v)\n",
    "ax2.legend(['manual', 'valid'])\n",
    "\n",
    "ax3.plot(alltimes-alltimes[-1],\n",
    "         allslices.charge_per_slice/max(allslices.charge_per_slice))\n",
    "ax3.plot(alltimes-alltimes[-1], dxp_v/max(dxp_v), label=\"all bunches\")\n",
    "\n",
    "ax3.plot(times-times[-1]-dt, slices2.charge_per_slice/max(slices2.charge_per_slice))\n",
    "ax3.plot(times-times[-1]-dt, dxp_v2/max(dxp_v), label=\"second bunch\")\n",
    "\n",
    "ax3.plot(times-times[-1], slices.charge_per_slice/max(slices.charge_per_slice))\n",
    "ax3.plot(times-times[-1], dxp_v1/max(dxp_v), label=\"first bunch\")\n",
    "\n",
    "ax3.legend()\n",
    "ax3.set_ylim(-2, 2)\n",
    "\n",
    "# c = sns.color_palette('husl', 3)\n",
    "# [ax3.axvline(s, c=c[0], alpha=0.8) for s in (times-times[-1])]\n",
    "# [ax3.axvline(s, c=c[1], alpha=0.8) for s in (times2-times2[-1]-dt)]\n",
    "# [ax3.axvline(s, c=c[2], alpha=0.8) for s in (alltimes-alltimes[-1])]\n",
    "\n",
    "plt.show()"
   ]
  },
  {
   "cell_type": "code",
   "execution_count": null,
   "metadata": {
    "collapsed": false
   },
   "outputs": [],
   "source": [
    "plt.close('all')"
   ]
  }
 ],
 "metadata": {
  "kernelspec": {
   "display_name": "Python 2",
   "language": "python",
   "name": "python2"
  },
  "language_info": {
   "codemirror_mode": {
    "name": "ipython",
    "version": 2
   },
   "file_extension": ".py",
   "mimetype": "text/x-python",
   "name": "python",
   "nbconvert_exporter": "python",
   "pygments_lexer": "ipython2",
   "version": "2.7.9"
  }
 },
 "nbformat": 4,
 "nbformat_minor": 0
}

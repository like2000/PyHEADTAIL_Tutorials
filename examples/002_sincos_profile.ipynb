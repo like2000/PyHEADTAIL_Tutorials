{
 "cells": [
  {
   "cell_type": "code",
   "execution_count": 2,
   "metadata": {
    "collapsed": true
   },
   "outputs": [],
   "source": [
    "%reload_ext line_profiler\n",
    "%reload_ext Cython"
   ]
  },
  {
   "cell_type": "code",
   "execution_count": 3,
   "metadata": {
    "collapsed": false
   },
   "outputs": [
    {
     "name": "stderr",
     "output_type": "stream",
     "text": [
      "/usr/lib64/python2.7/site-packages/matplotlib/__init__.py:872: UserWarning: axes.color_cycle is deprecated and replaced with axes.prop_cycle; please use the latter.\n",
      "  warnings.warn(self.msg_depr % (key, alt_key))\n"
     ]
    }
   ],
   "source": [
    "import math\n",
    "import numpy as np\n",
    "import matplotlib.pyplot as plt\n",
    "plt.switch_backend(\"TkAgg\")\n",
    "from scipy.constants import c, e, m_p\n",
    "from scipy.signal import fftconvolve\n",
    "\n",
    "from interpolated_functions import interpolated_mod2pi\n",
    "sin_interpolated = interpolated_mod2pi(np.sin, -2.1 * np.pi, 2.1 * np.pi, 2000000)    \n",
    "cos_interpolated = interpolated_mod2pi(np.cos, -2.1 * np.pi, 2.1 * np.pi, 2000000)\n",
    "\n",
    "import seaborn as sns\n",
    "sns.set_context('notebook', font_scale=1.3,\n",
    "                rc={'lines.markeredgewidth': 1})\n",
    "sns.set_style('darkgrid', {\n",
    "        'axes.linewidth': 2,\n",
    "        'legend.fancybox': True})"
   ]
  },
  {
   "cell_type": "markdown",
   "metadata": {},
   "source": [
    "## Python sin\n",
    "---"
   ]
  },
  {
   "cell_type": "code",
   "execution_count": 4,
   "metadata": {
    "collapsed": false
   },
   "outputs": [],
   "source": [
    "def pysin(x):\n",
    "    y = [math.sin(i) for i in x]\n",
    "    return y"
   ]
  },
  {
   "cell_type": "markdown",
   "metadata": {},
   "source": [
    "## Numpy sin\n",
    "---"
   ]
  },
  {
   "cell_type": "code",
   "execution_count": 5,
   "metadata": {
    "collapsed": false
   },
   "outputs": [],
   "source": [
    "import numpy as np\n",
    "\n",
    "def npsin(x):\n",
    "    return np.sin(x)"
   ]
  },
  {
   "cell_type": "markdown",
   "metadata": {},
   "source": [
    "## VDT sin - sinv - sincos\n",
    "---"
   ]
  },
  {
   "cell_type": "code",
   "execution_count": 6,
   "metadata": {
    "collapsed": false
   },
   "outputs": [],
   "source": [
    "%%cython -I./vdt/include -L./vdt/lib --lib=vdt --compile-args=-fopenmp --link-args=-fopenmp --cplus\n",
    "#cython boundscheck=False\n",
    "\n",
    "cimport cython\n",
    "import numpy as np\n",
    "cimport numpy as np\n",
    "from cython.parallel import prange\n",
    "\n",
    "cdef extern from \"sin.h\" namespace \"vdt\":\n",
    "    cdef double fast_sin(double x) nogil\n",
    "    cdef void fast_sinv(int n, double *x, double *s) nogil\n",
    "\n",
    "cdef extern from \"sincos.h\" namespace \"vdt\":\n",
    "    cdef void fast_sincos(double x, double &s, double &c) nogil\n",
    "\n",
    "@cython.boundscheck(False)\n",
    "def vdt_sin(double[::1] x, double[::1] s):\n",
    "    \n",
    "    cdef int n = x.shape[0]\n",
    "    cdef int i\n",
    "    for i in prange(n, nogil=True, num_threads=4):\n",
    "        s[i] = fast_sin(x[i])\n",
    "    \n",
    "@cython.boundscheck(False)\n",
    "def vdt_sincos(double[::1] x, double[::1] s, double[::1] c):\n",
    "    \n",
    "    cdef int n = x.shape[0]\n",
    "    cdef int i\n",
    "    for i in prange(n, nogil=True, num_threads=4):\n",
    "        fast_sincos(x[i], s[i], c[i])\n",
    "\n",
    "@cython.boundscheck(False)\n",
    "def vdt_sinv(double[::1] x, double[::1] s):\n",
    "    \n",
    "    cdef int n = x.shape[0]\n",
    "    fast_sinv(n, &x[0], &s[0])"
   ]
  },
  {
   "cell_type": "markdown",
   "metadata": {},
   "source": [
    "## math.h sincos\n",
    "---"
   ]
  },
  {
   "cell_type": "code",
   "execution_count": 7,
   "metadata": {
    "collapsed": false
   },
   "outputs": [],
   "source": [
    "%%cython --compile-args=-fopenmp --link-args=-fopenmp\n",
    "\n",
    "import numpy as np\n",
    "cimport numpy as np\n",
    "cimport cython\n",
    "from cython.parallel import prange\n",
    "\n",
    "cdef extern from \"math.h\":\n",
    "    cdef void sincos(double x, double *sin, double *cos) nogil\n",
    "    \n",
    "@cython.boundscheck(False)\n",
    "@cython.wraparound(False)\n",
    "@cython.cdivision(False)\n",
    "cpdef fastsincos(double[::1] x, double[::1] s, double[::1] c):\n",
    "    cdef int n = x.shape[0]\n",
    "    cdef int i\n",
    "    for i in prange(n, nogil=True, num_threads=4):\n",
    "        sincos(x[i], &s[i], &c[i])"
   ]
  },
  {
   "cell_type": "markdown",
   "metadata": {},
   "source": [
    "## cmath sin\n",
    "---"
   ]
  },
  {
   "cell_type": "code",
   "execution_count": 8,
   "metadata": {
    "collapsed": false
   },
   "outputs": [],
   "source": [
    "%%cython --compile-args=-fopenmp --link-args=-fopenmp\n",
    "\n",
    "import numpy as np\n",
    "cimport numpy as np\n",
    "cimport cython\n",
    "from cython.parallel import prange\n",
    "from libc.math cimport sin\n",
    "\n",
    "@cython.boundscheck(False)\n",
    "@cython.wraparound(False)\n",
    "@cython.cdivision(False)\n",
    "def cmsin(double[::1] x, double[::1] s):\n",
    "    \n",
    "    cdef int n = x.shape[0]\n",
    "    cdef int i\n",
    "    for i in prange(n, nogil=True, num_threads=4):\n",
    "        s[i] = sin(x[i])"
   ]
  },
  {
   "cell_type": "code",
   "execution_count": 9,
   "metadata": {
    "collapsed": false
   },
   "outputs": [],
   "source": [
    "n = int(1e6)\n",
    "x = np.linspace(0, 2*np.pi, n)\n",
    "xd = np.zeros(len(x)*2)\n",
    "a = np.zeros(n)\n",
    "b = np.zeros(n)\n",
    "\n",
    "# d = np.zeros(2*n)\n",
    "# xd[::2] = x[:]"
   ]
  },
  {
   "cell_type": "code",
   "execution_count": 11,
   "metadata": {
    "collapsed": false
   },
   "outputs": [],
   "source": [
    "pysin_r = pysin(x)\n",
    "npsin_r = npsin(x)\n",
    "cmsin(x, a); cmsin_r = a.copy()\n",
    "\n",
    "fastsincos(x, a, b); sincos_r = a.copy()\n",
    "interpsin_r = sin_interpolated(x)\n",
    "\n",
    "vdt_sin(x, a); vdt_sin_r = a.copy()\n",
    "vdt_sinv(x, a); vdt_sinv_r = a.copy()\n",
    "vdt_sincos(x, a, b); vdt_sincos_r = a.copy()\n",
    "\n",
    "fig, axes = plt.subplots(2, 3, figsize=(16,9), sharex=True, tight_layout=True)\n",
    "\n",
    "axes[0,0].plot(x, npsin_r - cmsin_r)\n",
    "axes[0,0].set_title(\"Numpy sin vs. cmath sin\")\n",
    "axes[0,1].plot(x, npsin_r-sincos_r)\n",
    "axes[0,1].set_title(\"Numpy sin vs. cmath sincos\")\n",
    "axes[0,2].plot(x, npsin_r-interpsin_r)\n",
    "axes[0,2].set_title(\"Numpy sin vs. table interpolation sin\")\n",
    "\n",
    "axes[1,0].plot(x, npsin_r - vdt_sin_r)\n",
    "axes[1,0].set_title(\"Numpy sin vs. vdt sin\")\n",
    "axes[1,1].plot(x, npsin_r-vdt_sinv_r)\n",
    "axes[1,1].set_title(\"Numpy sin vs. vdt vectorized sin\")\n",
    "axes[1,2].plot(x, npsin_r-vdt_sincos_r)\n",
    "axes[1,2].set_title(\"Numpy sin vs. vdt sincos\")\n",
    "\n",
    "[ax.set_ylabel('Error [absolute]') for ax in axes.flatten()]\n",
    "[ax.set_xlabel('x [rad]') for ax in axes.flatten()]\n",
    "\n",
    "# plt.savefig('Errors.png')\n",
    "plt.show()"
   ]
  },
  {
   "cell_type": "code",
   "execution_count": 55,
   "metadata": {
    "collapsed": false
   },
   "outputs": [
    {
     "name": "stdout",
     "output_type": "stream",
     "text": [
      "1 loop, best of 3: 164 ms per loop\n",
      "10 loops, best of 3: 27.3 ms per loop\n",
      "100 loops, best of 3: 12.5 ms per loop\n"
     ]
    }
   ],
   "source": [
    "%timeit pysin(x)\n",
    "%timeit npsin(x)\n",
    "%timeit cmsin(x, a)"
   ]
  },
  {
   "cell_type": "code",
   "execution_count": 56,
   "metadata": {
    "collapsed": false
   },
   "outputs": [
    {
     "name": "stdout",
     "output_type": "stream",
     "text": [
      "10 loops, best of 3: 26.7 ms per loop\n",
      "100 loops, best of 3: 16.6 ms per loop\n"
     ]
    }
   ],
   "source": [
    "%timeit fastsincos(x, a, b)\n",
    "%timeit sin_interpolated(x)"
   ]
  },
  {
   "cell_type": "code",
   "execution_count": 57,
   "metadata": {
    "collapsed": false
   },
   "outputs": [
    {
     "name": "stdout",
     "output_type": "stream",
     "text": [
      "100 loops, best of 3: 5.4 ms per loop\n",
      "100 loops, best of 3: 8.02 ms per loop\n",
      "100 loops, best of 3: 8.13 ms per loop\n"
     ]
    }
   ],
   "source": [
    "%timeit vdt_sin(x, a)\n",
    "%timeit vdt_sinv(x, a)\n",
    "%timeit vdt_sincos(x, a, b)"
   ]
  },
  {
   "cell_type": "markdown",
   "metadata": {},
   "source": [
    "***"
   ]
  },
  {
   "cell_type": "code",
   "execution_count": 36,
   "metadata": {
    "collapsed": false
   },
   "outputs": [],
   "source": [
    "%%cython --lib=gsl --lib=gslcblas\n",
    "\n",
    "import numpy as np\n",
    "cimport numpy as np\n",
    "cimport cython\n",
    "\n",
    "cdef extern from \"gsl/gsl_sf_trig.h\":\n",
    "    cdef double gsl_sf_sin(double x)\n",
    "    \n",
    "def gsl_sin(double[::1] x, double[::1] s):\n",
    "    \n",
    "    cdef int n = x.shape[0]\n",
    "    cdef int i\n",
    "    for i in xrange(n):\n",
    "        s[i] = gsl_sf_sin(x[i])\n",
    "\n",
    "#     sc = sincos(x, &s[0], &c[0])\n",
    "\n",
    "# cpdef sc(double x, np.ndarray[double, ndim=1] s, np.ndarray[double, ndim=1] c):\n",
    "#     return sincos(x, &s[0], &c[0])\n",
    "#     return sincos(x, <double*> s.data, <double*> c.data)"
   ]
  },
  {
   "cell_type": "code",
   "execution_count": 12,
   "metadata": {
    "collapsed": false
   },
   "outputs": [
    {
     "name": "stdout",
     "output_type": "stream",
     "text": [
      "Synchrotron init. From kwargs: n_segments = 1\n",
      "Synchrotron init. From kwargs: Qp_y = 5\n",
      "Synchrotron init. From kwargs: Qp_x = 5\n",
      "Synchrotron init. From kwargs: longitudinal_mode = 'linear'\n",
      "*** PyHEADTAIL WARNING! Acceleration not handled properly by this kind of convolution due to changing bunch length!\n"
     ]
    }
   ],
   "source": [
    "from PyHEADTAIL.particles.slicing import UniformBinSlicer\n",
    "from PyHEADTAIL.impedances.wakes import Resonator, WakeField\n",
    "from SPS import SPS\n",
    "\n",
    "\n",
    "macroparticlenumber = int(10e4)\n",
    "intensity = 2e11\n",
    "epsn_x = 2e-6\n",
    "epsn_y = 2e-6\n",
    "sigma_z = 0.23\n",
    "\n",
    "\n",
    "sps = SPS(machine_configuration='Q20-injection', n_segments=1, longitudinal_mode='linear',\n",
    "          Qp_x=5, Qp_y=5)\n",
    "\n",
    "bunch = sps.generate_6D_Gaussian_bunch(\n",
    "    macroparticlenumber, intensity, epsn_x, epsn_y, sigma_z)\n",
    "\n",
    "sz = bunch.sigma_z()\n",
    "slices_for_wakes = UniformBinSlicer(100, z_cuts=(-3*sz, 3*sz))\n",
    "reso = Resonator(7.5e6, 1.3e9, 1, 1, 0, 0, 0, switch_Z=False)\n",
    "wake = WakeField(slices_for_wakes, reso)\n",
    "sps.one_turn_map.append(wake)\n",
    "\n",
    "m1, m2, m3 = sps.one_turn_map"
   ]
  },
  {
   "cell_type": "code",
   "execution_count": 13,
   "metadata": {
    "collapsed": false
   },
   "outputs": [
    {
     "name": "stdout",
     "output_type": "stream",
     "text": [
      "10 loops, best of 3: 18.1 ms per loop\n",
      "1000 loops, best of 3: 1.82 ms per loop\n",
      "100 loops, best of 3: 3.6 ms per loop\n"
     ]
    }
   ],
   "source": [
    "%timeit m1.track(bunch)\n",
    "%timeit m2.track(bunch)\n",
    "%timeit m3.track(bunch)"
   ]
  },
  {
   "cell_type": "code",
   "execution_count": null,
   "metadata": {
    "collapsed": true
   },
   "outputs": [],
   "source": [
    "# plt.ion()\n",
    "fig, (ax1, ax2, ax3) = plt.subplots(1, 3, figsize=(21,9))\n",
    "mx = []\n",
    "ex = []\n",
    "for i in xrange(10000):\n",
    "    for m in sps.one_turn_map:\n",
    "        m.track(bunch)\n",
    "\n",
    "    mx.append(bunch.mean_x())\n",
    "    ex.append(bunch.epsn_x())\n",
    "    if not i%500==0: continue\n",
    "    print \"\\rTurn # {:d}\".format(i),\n",
    "    print\n",
    "\n",
    "    # ax1.plot(bunch.x, bunch.xp, '.')\n",
    "    # ax2.plot(bunch.y, bunch.yp, '.')\n",
    "    # ax3.plot(bunch.z, bunch.dp, '.')\n",
    "    # ax1.set_xlim(-1e-2, 1e-2)\n",
    "    # ax2.set_xlim(-1e-2, 1e-2)\n",
    "    # ax3.set_xlim(-1, 1)\n",
    "    # ax1.set_ylim(-2e-4, 2e-4)\n",
    "    # ax2.set_ylim(-2e-4, 2e-4)\n",
    "    # ax3.set_ylim(-1e-2, 1e-2)\n",
    "\n",
    "    # plt.draw()\n",
    "    # plt.pause(0.1)\n",
    "    # [ax.cla() for ax in [ax1, ax2, ax3]]\n",
    "\n",
    "print\n",
    "ax1.plot(mx)\n",
    "ax2.plot(ex)\n",
    "plt.show()\n",
    "wurstel"
   ]
  }
 ],
 "metadata": {
  "kernelspec": {
   "display_name": "Python 2",
   "language": "python",
   "name": "python2"
  },
  "language_info": {
   "codemirror_mode": {
    "name": "ipython",
    "version": 2
   },
   "file_extension": ".py",
   "mimetype": "text/x-python",
   "name": "python",
   "nbconvert_exporter": "python",
   "pygments_lexer": "ipython2",
   "version": "2.7.9"
  }
 },
 "nbformat": 4,
 "nbformat_minor": 0
}

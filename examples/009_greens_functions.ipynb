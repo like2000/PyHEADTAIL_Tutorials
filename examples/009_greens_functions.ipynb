{
 "cells": [
  {
   "cell_type": "markdown",
   "metadata": {},
   "source": [
    "# Green's function and integrated Green's function\n",
    "\n",
    "***\n",
    "\n",
    "from sympy import init_session, init_printing\n",
    "init_session()\n",
    "init_printing()"
   ]
  },
  {
   "cell_type": "code",
   "execution_count": 1,
   "metadata": {
    "collapsed": false
   },
   "outputs": [],
   "source": [
    "from __future__ import division\n",
    "\n",
    "from sympy import *\n",
    "from sympy import pi\n",
    "from sympy.abc import c, e, h, x, y, z, pi\n",
    "from sympy.integrals.trigonometry import trigintegrate\n",
    "\n",
    "init_printing()\n",
    "# x, y = symbols('x y', real=True)\n",
    "# x0, y0 = symbols('x_0 y_0', real=True)"
   ]
  },
  {
   "cell_type": "code",
   "execution_count": 2,
   "metadata": {
    "collapsed": false
   },
   "outputs": [],
   "source": [
    "def G(x,y):\n",
    "    return 1/(2*pi) * log(\n",
    "        sqrt((x)**2 + (y)**2))"
   ]
  },
  {
   "cell_type": "code",
   "execution_count": 38,
   "metadata": {
    "collapsed": false
   },
   "outputs": [
    {
     "data": {
      "image/png": "[encoded data removed]",
      "text/latex": [
       "$$\\frac{1}{2 \\pi} \\log{\\left (\\sqrt{x^{2} + y^{2}} \\right )}$$"
      ],
      "text/plain": [
       "   ⎛   _________⎞\n",
       "   ⎜  ╱  2    2 ⎟\n",
       "log⎝╲╱  x  + y  ⎠\n",
       "─────────────────\n",
       "       2⋅π       "
      ]
     },
     "execution_count": 38,
     "metadata": {},
     "output_type": "execute_result"
    }
   ],
   "source": [
    "G(x,y)"
   ]
  },
  {
   "cell_type": "code",
   "execution_count": 39,
   "metadata": {
    "collapsed": false
   },
   "outputs": [],
   "source": [
    "aa = G(x,y).integrate(x)"
   ]
  },
  {
   "cell_type": "code",
   "execution_count": 41,
   "metadata": {
    "collapsed": false
   },
   "outputs": [
    {
     "data": {
      "image/png": "[encoded data removed]",
      "text/latex": [
       "$$\\frac{1}{4 \\pi} \\left(2 x \\log{\\left (\\sqrt{x^{2} + y^{2}} \\right )} - 2 x - i y \\left(\\log{\\left (x - i y \\right )} - \\log{\\left (x + i y \\right )}\\right)\\right)$$"
      ],
      "text/plain": [
       "       ⎛   _________⎞                                          \n",
       "       ⎜  ╱  2    2 ⎟                                          \n",
       "2⋅x⋅log⎝╲╱  x  + y  ⎠ - 2⋅x - ⅈ⋅y⋅(log(x - ⅈ⋅y) - log(x + ⅈ⋅y))\n",
       "───────────────────────────────────────────────────────────────\n",
       "                              4⋅π                              "
      ]
     },
     "execution_count": 41,
     "metadata": {},
     "output_type": "execute_result"
    }
   ],
   "source": [
    "aa.simplify().rewrite(atan)"
   ]
  },
  {
   "cell_type": "code",
   "execution_count": 42,
   "metadata": {
    "collapsed": false
   },
   "outputs": [
    {
     "data": {
      "image/png": "[encoded data removed]",
      "text/latex": [
       "$$\\frac{i}{2} \\log{\\left (\\frac{- i x + 1}{i x + 1} \\right )}$$"
      ],
      "text/plain": [
       "     ⎛-ⅈ⋅x + 1⎞\n",
       "ⅈ⋅log⎜────────⎟\n",
       "     ⎝ⅈ⋅x + 1 ⎠\n",
       "───────────────\n",
       "       2       "
      ]
     },
     "execution_count": 42,
     "metadata": {},
     "output_type": "execute_result"
    }
   ],
   "source": [
    "atan(x).rewrite(log)"
   ]
  },
  {
   "cell_type": "code",
   "execution_count": 43,
   "metadata": {
    "collapsed": false
   },
   "outputs": [
    {
     "data": {
      "image/png": "[encoded data removed]",
      "text/latex": [
       "$$0.5 i \\log{\\left (\\frac{- 1.0 i x + 1}{1.0 i x + 1} \\right )}$$"
      ],
      "text/plain": [
       "         ⎛-1.0⋅ⅈ⋅x + 1⎞\n",
       "0.5⋅ⅈ⋅log⎜────────────⎟\n",
       "         ⎝1.0⋅ⅈ⋅x + 1 ⎠"
      ]
     },
     "execution_count": 43,
     "metadata": {},
     "output_type": "execute_result"
    }
   ],
   "source": [
    "(1j/2 * log( (1 - 1j*x)/(1 + 1j*x) )).rewrite(tan)"
   ]
  },
  {
   "cell_type": "code",
   "execution_count": 44,
   "metadata": {
    "collapsed": false
   },
   "outputs": [],
   "source": [
    "bb = G(x,y).integrate(y).integrate(x)"
   ]
  },
  {
   "cell_type": "code",
   "execution_count": 45,
   "metadata": {
    "collapsed": false
   },
   "outputs": [
    {
     "data": {
      "image/png": "[encoded data removed]",
      "text/latex": [
       "$$- \\frac{i x^{2}}{8 \\pi} \\log{\\left (- i x + y \\right )} + \\frac{i x^{2}}{8 \\pi} \\log{\\left (i x + y \\right )} + \\frac{x y}{2 \\pi} \\log{\\left (\\sqrt{x^{2} + y^{2}} \\right )} - \\frac{3 x y}{4 \\pi} - \\frac{i y^{2}}{4 \\pi} \\log{\\left (x - i y \\right )} + \\frac{i y^{2}}{4 \\pi} \\log{\\left (x + i y \\right )} - \\frac{i y^{2}}{8 \\pi} \\log{\\left (- i x + y \\right )} + \\frac{i y^{2}}{8 \\pi} \\log{\\left (i x + y \\right )}$$"
      ],
      "text/plain": [
       "                                                  ⎛   _________⎞              \n",
       "     2                    2                       ⎜  ╱  2    2 ⎟              \n",
       "  ⅈ⋅x ⋅log(-ⅈ⋅x + y)   ⅈ⋅x ⋅log(ⅈ⋅x + y)   x⋅y⋅log⎝╲╱  x  + y  ⎠   3⋅x⋅y   ⅈ⋅y\n",
       "- ────────────────── + ───────────────── + ───────────────────── - ───── - ───\n",
       "         8⋅π                  8⋅π                   2⋅π             4⋅π       \n",
       "\n",
       "                                                                           \n",
       "2                   2                   2                    2             \n",
       " ⋅log(x - ⅈ⋅y)   ⅈ⋅y ⋅log(x + ⅈ⋅y)   ⅈ⋅y ⋅log(-ⅈ⋅x + y)   ⅈ⋅y ⋅log(ⅈ⋅x + y)\n",
       "────────────── + ───────────────── - ────────────────── + ─────────────────\n",
       "    4⋅π                 4⋅π                 8⋅π                  8⋅π       "
      ]
     },
     "execution_count": 45,
     "metadata": {},
     "output_type": "execute_result"
    }
   ],
   "source": [
    "bb.simplify().expand()"
   ]
  },
  {
   "cell_type": "markdown",
   "metadata": {},
   "source": [
    "## Beta gammas"
   ]
  },
  {
   "cell_type": "code",
   "execution_count": 10,
   "metadata": {
    "collapsed": false
   },
   "outputs": [
    {
     "data": {
      "image/png": "[encoded data removed]",
      "text/latex": [
       "$$\\left [ - \\frac{\\sqrt{c^{2} m^{2} + p_{0}^{2}}}{c m}, \\quad \\frac{\\sqrt{c^{2} m^{2} + p_{0}^{2}}}{c m}\\right ]$$"
      ],
      "text/plain": [
       "⎡    _____________      _____________⎤\n",
       "⎢   ╱  2  2     2      ╱  2  2     2 ⎥\n",
       "⎢-╲╱  c ⋅m  + p₀     ╲╱  c ⋅m  + p₀  ⎥\n",
       "⎢──────────────────, ────────────────⎥\n",
       "⎣       c⋅m                c⋅m       ⎦"
      ]
     },
     "execution_count": 10,
     "metadata": {},
     "output_type": "execute_result"
    }
   ],
   "source": [
    "def beta(gamma):\n",
    "    return sqrt(1 - gamma**-2)\n",
    "\n",
    "simplify(solve(p0 - m*gamma*beta(gamma)*c, gamma))"
   ]
  },
  {
   "cell_type": "markdown",
   "metadata": {},
   "source": [
    "# NumPy evaluations"
   ]
  },
  {
   "cell_type": "code",
   "execution_count": 11,
   "metadata": {
    "collapsed": false
   },
   "outputs": [
    {
     "name": "stderr",
     "output_type": "stream",
     "text": [
      "/usr/lib64/python2.7/site-packages/matplotlib/__init__.py:872: UserWarning: axes.color_cycle is deprecated and replaced with axes.prop_cycle; please use the latter.\n",
      "  warnings.warn(self.msg_depr % (key, alt_key))\n"
     ]
    }
   ],
   "source": [
    "from __future__ import division\n",
    "\n",
    "import numpy as np\n",
    "import matplotlib.pyplot as plt\n",
    "\n",
    "import seaborn as sns\n",
    "\n",
    "from scipy.constants import e, c, m_p\n",
    "\n",
    "import curve_tools as cv"
   ]
  }
 ],
 "metadata": {
  "kernelspec": {
   "display_name": "Python 2",
   "language": "python",
   "name": "python2"
  },
  "language_info": {
   "codemirror_mode": {
    "name": "ipython",
    "version": 2
   },
   "file_extension": ".py",
   "mimetype": "text/x-python",
   "name": "python",
   "nbconvert_exporter": "python",
   "pygments_lexer": "ipython2",
   "version": "2.7.9"
  }
 },
 "nbformat": 4,
 "nbformat_minor": 0
}
